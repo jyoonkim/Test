{
 "cells": [
  {
   "cell_type": "markdown",
   "metadata": {},
   "source": [
    "# Goal: "
   ]
  },
  {
   "cell_type": "markdown",
   "metadata": {},
   "source": [
    "Plot Mobile Clicks Over Time\n",
    "<br>Null hypothesis: There is no change in click frequencies over time\n",
    "<br>*Should be noted that clicks will likely decrease over time anyway because of dropout...solution...look at individual user clicks"
   ]
  },
  {
   "cell_type": "markdown",
   "metadata": {},
   "source": [
    "***What have I done below?***\n",
    "<br>-\n",
    "<br>***What can we (gently) conclude from the data?***\n",
    "<br>-"
   ]
  },
  {
   "cell_type": "code",
   "execution_count": 17,
   "metadata": {},
   "outputs": [],
   "source": [
    "import pandas as pd\n",
    "import numpy as np\n",
    "import matplotlib.pyplot as plt\n",
    "import seaborn as sns\n",
    "import io\n",
    "import datetime\n",
    "from sklearn import preprocessing\n",
    "from no_PII_Storage_folder import *\n",
    "\n",
    "datetimeFormat = '%Y-%m-%d %H:%M:%S.%f %Z'"
   ]
  },
  {
   "cell_type": "code",
   "execution_count": 18,
   "metadata": {},
   "outputs": [],
   "source": [
    "user_data_org = pd.read_csv(r'\\ALL_DATA.csv')\n",
    "mobile_data_org = pd.read_csv(r'MOBILE_DATA.csv')\n",
    "non_mobile_data_org = pd.read_csv(r'NON_MOBILE_DATA.csv')\n",
    "\n",
    "user_data_org = user_data_org.drop(['Unnamed: 0'], axis = 1)\n",
    "mobile_data_org = mobile_data_org.drop(['Unnamed: 0'], axis = 1)\n",
    "non_mobile_data_org = non_mobile_data_org.drop(['Unnamed: 0'], axis = 1)"
   ]
  },
  {
   "cell_type": "code",
   "execution_count": 19,
   "metadata": {},
   "outputs": [
    {
     "name": "stdout",
     "output_type": "stream",
     "text": [
      "3384758\n",
      "3329792\n"
     ]
    }
   ],
   "source": [
    "user_data = user_data_org\n",
    "mobile_data = mobile_data_org\n",
    "non_mobile_data = non_mobile_data_org\n",
    "\n",
    "user_data = user_data.dropna()\n",
    "user_data = user_data.reset_index(drop=True)\n",
    "mobile_data = mobile_data.dropna()\n",
    "mobile_data = mobile_data.reset_index(drop=True)\n",
    "non_mobile_data = non_mobile_data.dropna()\n",
    "non_mobile_data = non_mobile_data.reset_index(drop=True)\n",
    "print(len(non_mobile_data) + len(mobile_data))\n",
    "print(len(user_data))\n"
   ]
  },
  {
   "cell_type": "code",
   "execution_count": 20,
   "metadata": {},
   "outputs": [
    {
     "name": "stdout",
     "output_type": "stream",
     "text": [
      "56044\n"
     ]
    }
   ],
   "source": [
    "mobile_data = mobile_data.sort_values(by = \"time\", ascending = True)\n",
    "mobile_data = mobile_data.reset_index()\n",
    "\n",
    "non_mobile_data = non_mobile_data.sort_values(by = \"time\", ascending = True)\n",
    "non_mobile_data = non_mobile_data.reset_index()\n",
    "\n",
    "print(len(mobile_data))\n",
    "#12/21/2016 - 7/2/2017"
   ]
  },
  {
   "cell_type": "code",
   "execution_count": 21,
   "metadata": {},
   "outputs": [
    {
     "data": {
      "text/html": [
       "<div>\n",
       "<style scoped>\n",
       "    .dataframe tbody tr th:only-of-type {\n",
       "        vertical-align: middle;\n",
       "    }\n",
       "\n",
       "    .dataframe tbody tr th {\n",
       "        vertical-align: top;\n",
       "    }\n",
       "\n",
       "    .dataframe thead th {\n",
       "        text-align: right;\n",
       "    }\n",
       "</style>\n",
       "<table border=\"1\" class=\"dataframe\">\n",
       "  <thead>\n",
       "    <tr style=\"text-align: right;\">\n",
       "      <th></th>\n",
       "      <th>username</th>\n",
       "      <th>no. clicks</th>\n",
       "    </tr>\n",
       "  </thead>\n",
       "  <tbody>\n",
       "    <tr>\n",
       "      <td>0</td>\n",
       "      <td>9589599fce0cecbe02eb2b02457b1ef6</td>\n",
       "      <td>2838</td>\n",
       "    </tr>\n",
       "    <tr>\n",
       "      <td>1</td>\n",
       "      <td>3693313ce79182c3009e6414b3ade459</td>\n",
       "      <td>2471</td>\n",
       "    </tr>\n",
       "    <tr>\n",
       "      <td>2</td>\n",
       "      <td>d39491d5e973c40e3b1e5957cce823ee</td>\n",
       "      <td>1893</td>\n",
       "    </tr>\n",
       "  </tbody>\n",
       "</table>\n",
       "</div>"
      ],
      "text/plain": [
       "                           username no. clicks\n",
       "0  9589599fce0cecbe02eb2b02457b1ef6       2838\n",
       "1  3693313ce79182c3009e6414b3ade459       2471\n",
       "2  d39491d5e973c40e3b1e5957cce823ee       1893"
      ]
     },
     "execution_count": 21,
     "metadata": {},
     "output_type": "execute_result"
    }
   ],
   "source": [
    "#find top MOBILE users\n",
    "NUM_TOP = 3\n",
    "#no nan because lots of nans in names????\n",
    "data_copy  = mobile_data.dropna()\n",
    "data_copy = data_copy.reset_index(drop=True)\n",
    "\n",
    "def get_top_users(df, NUM_TOP):\n",
    "    user_counts = pd.DataFrame()\n",
    "    user_counts  = df['username'].value_counts()\n",
    "    user_counts = user_counts.reset_index()\n",
    "    user_counts.columns = ['username', 'no. clicks']\n",
    "    top_users = pd.DataFrame()\n",
    "    for count in range(NUM_TOP):\n",
    "        top_users[count] = user_counts.loc[count]\n",
    "    return(top_users.T)\n",
    "\n",
    "top_users = get_top_users(data_copy, NUM_TOP)\n",
    "\n",
    "top_users.head(NUM_TOP)"
   ]
  },
  {
   "cell_type": "code",
   "execution_count": 22,
   "metadata": {},
   "outputs": [
    {
     "name": "stdout",
     "output_type": "stream",
     "text": [
      "7202\n"
     ]
    },
    {
     "data": {
      "text/html": [
       "<div>\n",
       "<style scoped>\n",
       "    .dataframe tbody tr th:only-of-type {\n",
       "        vertical-align: middle;\n",
       "    }\n",
       "\n",
       "    .dataframe tbody tr th {\n",
       "        vertical-align: top;\n",
       "    }\n",
       "\n",
       "    .dataframe thead th {\n",
       "        text-align: right;\n",
       "    }\n",
       "</style>\n",
       "<table border=\"1\" class=\"dataframe\">\n",
       "  <thead>\n",
       "    <tr style=\"text-align: right;\">\n",
       "      <th></th>\n",
       "      <th>level_0</th>\n",
       "      <th>index</th>\n",
       "      <th>time</th>\n",
       "      <th>username</th>\n",
       "      <th>event_source</th>\n",
       "      <th>agent</th>\n",
       "      <th>name</th>\n",
       "    </tr>\n",
       "  </thead>\n",
       "  <tbody>\n",
       "    <tr>\n",
       "      <td>0</td>\n",
       "      <td>6677</td>\n",
       "      <td>42771</td>\n",
       "      <td>2017-03-14 00:38:47.213403 UTC</td>\n",
       "      <td>d39491d5e973c40e3b1e5957cce823ee</td>\n",
       "      <td>browser</td>\n",
       "      <td>Mozilla/5.0 (iPad; CPU OS 10_2_1 like Mac OS X...</td>\n",
       "      <td>page_close</td>\n",
       "    </tr>\n",
       "    <tr>\n",
       "      <td>1</td>\n",
       "      <td>16641</td>\n",
       "      <td>52646</td>\n",
       "      <td>2017-03-24 04:35:40.714393 UTC</td>\n",
       "      <td>d39491d5e973c40e3b1e5957cce823ee</td>\n",
       "      <td>browser</td>\n",
       "      <td>Mozilla/5.0 (iPad; CPU OS 10_2_1 like Mac OS X...</td>\n",
       "      <td>edx.ui.lms.sequence.next_selected</td>\n",
       "    </tr>\n",
       "  </tbody>\n",
       "</table>\n",
       "</div>"
      ],
      "text/plain": [
       "   level_0  index                            time  \\\n",
       "0     6677  42771  2017-03-14 00:38:47.213403 UTC   \n",
       "1    16641  52646  2017-03-24 04:35:40.714393 UTC   \n",
       "\n",
       "                           username event_source  \\\n",
       "0  d39491d5e973c40e3b1e5957cce823ee      browser   \n",
       "1  d39491d5e973c40e3b1e5957cce823ee      browser   \n",
       "\n",
       "                                               agent  \\\n",
       "0  Mozilla/5.0 (iPad; CPU OS 10_2_1 like Mac OS X...   \n",
       "1  Mozilla/5.0 (iPad; CPU OS 10_2_1 like Mac OS X...   \n",
       "\n",
       "                                name  \n",
       "0                         page_close  \n",
       "1  edx.ui.lms.sequence.next_selected  "
      ]
     },
     "execution_count": 22,
     "metadata": {},
     "output_type": "execute_result"
    }
   ],
   "source": [
    "temp = pd.DataFrame()\n",
    "top_user = pd.DataFrame()\n",
    "\n",
    "for count in range(len(top_users)):\n",
    "    temp = mobile_data[mobile_data['username'].str.contains(top_users['username'][count])]\n",
    "    top_user = pd.concat([temp, top_user], axis = 0, sort = False)\n",
    "\n",
    "print(len(top_user))\n",
    "#top_user = top_user.drop(['index'], axis = 0)\n",
    "top_user = top_user.reset_index()\n",
    "top_user.head(2)"
   ]
  },
  {
   "cell_type": "code",
   "execution_count": 23,
   "metadata": {},
   "outputs": [
    {
     "data": {
      "text/html": [
       "<div>\n",
       "<style scoped>\n",
       "    .dataframe tbody tr th:only-of-type {\n",
       "        vertical-align: middle;\n",
       "    }\n",
       "\n",
       "    .dataframe tbody tr th {\n",
       "        vertical-align: top;\n",
       "    }\n",
       "\n",
       "    .dataframe thead th {\n",
       "        text-align: right;\n",
       "    }\n",
       "</style>\n",
       "<table border=\"1\" class=\"dataframe\">\n",
       "  <thead>\n",
       "    <tr style=\"text-align: right;\">\n",
       "      <th></th>\n",
       "      <th>level_0</th>\n",
       "      <th>index</th>\n",
       "      <th>time</th>\n",
       "      <th>username</th>\n",
       "      <th>event_source</th>\n",
       "      <th>agent</th>\n",
       "      <th>name</th>\n",
       "      <th>timestamp</th>\n",
       "    </tr>\n",
       "  </thead>\n",
       "  <tbody>\n",
       "    <tr>\n",
       "      <td>0</td>\n",
       "      <td>6677</td>\n",
       "      <td>42771</td>\n",
       "      <td>2017-03-14 00:38:47.213403 UTC</td>\n",
       "      <td>d39491d5e973c40e3b1e5957cce823ee</td>\n",
       "      <td>browser</td>\n",
       "      <td>Mozilla/5.0 (iPad; CPU OS 10_2_1 like Mac OS X...</td>\n",
       "      <td>page_close</td>\n",
       "      <td>2017-03-14 00:38:47.213403</td>\n",
       "    </tr>\n",
       "    <tr>\n",
       "      <td>1</td>\n",
       "      <td>16641</td>\n",
       "      <td>52646</td>\n",
       "      <td>2017-03-24 04:35:40.714393 UTC</td>\n",
       "      <td>d39491d5e973c40e3b1e5957cce823ee</td>\n",
       "      <td>browser</td>\n",
       "      <td>Mozilla/5.0 (iPad; CPU OS 10_2_1 like Mac OS X...</td>\n",
       "      <td>edx.ui.lms.sequence.next_selected</td>\n",
       "      <td>2017-03-24 04:35:40.714393</td>\n",
       "    </tr>\n",
       "    <tr>\n",
       "      <td>2</td>\n",
       "      <td>16642</td>\n",
       "      <td>52644</td>\n",
       "      <td>2017-03-24 04:35:42.252965 UTC</td>\n",
       "      <td>d39491d5e973c40e3b1e5957cce823ee</td>\n",
       "      <td>browser</td>\n",
       "      <td>Mozilla/5.0 (iPad; CPU OS 10_2_1 like Mac OS X...</td>\n",
       "      <td>page_close</td>\n",
       "      <td>2017-03-24 04:35:42.252965</td>\n",
       "    </tr>\n",
       "  </tbody>\n",
       "</table>\n",
       "</div>"
      ],
      "text/plain": [
       "   level_0  index                            time  \\\n",
       "0     6677  42771  2017-03-14 00:38:47.213403 UTC   \n",
       "1    16641  52646  2017-03-24 04:35:40.714393 UTC   \n",
       "2    16642  52644  2017-03-24 04:35:42.252965 UTC   \n",
       "\n",
       "                           username event_source  \\\n",
       "0  d39491d5e973c40e3b1e5957cce823ee      browser   \n",
       "1  d39491d5e973c40e3b1e5957cce823ee      browser   \n",
       "2  d39491d5e973c40e3b1e5957cce823ee      browser   \n",
       "\n",
       "                                               agent  \\\n",
       "0  Mozilla/5.0 (iPad; CPU OS 10_2_1 like Mac OS X...   \n",
       "1  Mozilla/5.0 (iPad; CPU OS 10_2_1 like Mac OS X...   \n",
       "2  Mozilla/5.0 (iPad; CPU OS 10_2_1 like Mac OS X...   \n",
       "\n",
       "                                name                  timestamp  \n",
       "0                         page_close 2017-03-14 00:38:47.213403  \n",
       "1  edx.ui.lms.sequence.next_selected 2017-03-24 04:35:40.714393  \n",
       "2                         page_close 2017-03-24 04:35:42.252965  "
      ]
     },
     "execution_count": 23,
     "metadata": {},
     "output_type": "execute_result"
    }
   ],
   "source": [
    "#make copy of the top users so that we can safely add a timestamp column\n",
    "copy_top = top_user\n",
    "timestamp_list = []\n",
    "\n",
    "for num in range(len(copy_top)):\n",
    "    timestamp_list.append(datetime.datetime.strptime(copy_top['time'][num], datetimeFormat))\n",
    "copy_top['timestamp'] = timestamp_list\n",
    "    \n",
    "copy_top.head(3)"
   ]
  },
  {
   "cell_type": "code",
   "execution_count": 24,
   "metadata": {},
   "outputs": [
    {
     "name": "stdout",
     "output_type": "stream",
     "text": [
      "32\n"
     ]
    },
    {
     "data": {
      "text/html": [
       "<div>\n",
       "<style scoped>\n",
       "    .dataframe tbody tr th:only-of-type {\n",
       "        vertical-align: middle;\n",
       "    }\n",
       "\n",
       "    .dataframe tbody tr th {\n",
       "        vertical-align: top;\n",
       "    }\n",
       "\n",
       "    .dataframe thead th {\n",
       "        text-align: right;\n",
       "    }\n",
       "</style>\n",
       "<table border=\"1\" class=\"dataframe\">\n",
       "  <thead>\n",
       "    <tr style=\"text-align: right;\">\n",
       "      <th></th>\n",
       "      <th>username</th>\n",
       "      <th>week_year</th>\n",
       "      <th>count</th>\n",
       "    </tr>\n",
       "  </thead>\n",
       "  <tbody>\n",
       "    <tr>\n",
       "      <td>0</td>\n",
       "      <td>9589599fce0cecbe02eb2b02457b1ef6</td>\n",
       "      <td>10/2017</td>\n",
       "      <td>172</td>\n",
       "    </tr>\n",
       "    <tr>\n",
       "      <td>1</td>\n",
       "      <td>3693313ce79182c3009e6414b3ade459</td>\n",
       "      <td>10/2017</td>\n",
       "      <td>14</td>\n",
       "    </tr>\n",
       "    <tr>\n",
       "      <td>2</td>\n",
       "      <td>3693313ce79182c3009e6414b3ade459</td>\n",
       "      <td>11/2017</td>\n",
       "      <td>568</td>\n",
       "    </tr>\n",
       "    <tr>\n",
       "      <td>3</td>\n",
       "      <td>d39491d5e973c40e3b1e5957cce823ee</td>\n",
       "      <td>11/2017</td>\n",
       "      <td>1</td>\n",
       "    </tr>\n",
       "  </tbody>\n",
       "</table>\n",
       "</div>"
      ],
      "text/plain": [
       "                           username week_year  count\n",
       "0  9589599fce0cecbe02eb2b02457b1ef6   10/2017    172\n",
       "1  3693313ce79182c3009e6414b3ade459   10/2017     14\n",
       "2  3693313ce79182c3009e6414b3ade459   11/2017    568\n",
       "3  d39491d5e973c40e3b1e5957cce823ee   11/2017      1"
      ]
     },
     "execution_count": 24,
     "metadata": {},
     "output_type": "execute_result"
    }
   ],
   "source": [
    "copy_top['week_year'] = copy_top['timestamp'].apply(lambda x: \"%d/%d\" % (x.week, x.year))\n",
    "#copy_top.groupby(['week_year']).size()\n",
    "\n",
    "top_user_week_grouped = top_user.groupby(['username'])\n",
    "top_user_week_counts = top_user_week_grouped.week_year.value_counts()\n",
    "top_user_week_counts.columns = ['week_year', 'count', 'username']\n",
    "top_user_week_counts = top_user_week_counts.to_frame(name = \"username\")\n",
    "top_user_week_counts.columns = ['count']\n",
    "top_user_week_counts = top_user_week_counts.sort_values(by = 'week_year', ascending = True)\n",
    "top_user_week_counts = top_user_week_counts.reset_index()\n",
    "#top_user_week_counts = top_user_week_counts.groupby(['username'])\n",
    "\n",
    "print(len(top_user_week_counts))\n",
    "top_user_week_counts.head(4)"
   ]
  },
  {
   "cell_type": "code",
   "execution_count": 26,
   "metadata": {},
   "outputs": [
    {
     "data": {
      "image/png": "[encoded data removed]",
      "text/plain": [
       "<Figure size 864x864 with 3 Axes>"
      ]
     },
     "metadata": {
      "needs_background": "light"
     },
     "output_type": "display_data"
    }
   ],
   "source": [
    "sns.catplot(x = \"week_year\", y = \"count\", col_wrap = 1, \n",
    "            col = \"username\", data = top_user_week_counts, kind = \"bar\",\n",
    "            height = 4, aspect = 3)\n",
    "# plt.title(\"Counts over time for mobile user \" + str(top_user_week_counts['username'][count]), fontsize = 14)\n",
    "plt.xlabel('week', fontsize = 10)\n",
    "plt.ylabel('click counts', fontsize = 13)\n",
    "plt.xlim(-.50,14)\n",
    "plt.show()"
   ]
  },
  {
   "cell_type": "code",
   "execution_count": null,
   "metadata": {},
   "outputs": [],
   "source": []
  },
  {
   "cell_type": "code",
   "execution_count": null,
   "metadata": {},
   "outputs": [],
   "source": []
  }
 ],
 "metadata": {
  "kernelspec": {
   "display_name": "Python 3",
   "language": "python",
   "name": "python3"
  }
 },
 "nbformat": 4,
 "nbformat_minor": 2
}

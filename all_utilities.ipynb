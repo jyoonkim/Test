{
 "cells": [
  {
   "cell_type": "code",
   "execution_count": 1,
   "metadata": {},
   "outputs": [],
   "source": [
    "#   % run all_utilities.ipynb"
   ]
  },
  {
   "cell_type": "code",
   "execution_count": 2,
   "metadata": {},
   "outputs": [],
   "source": [
    "def unique_counts(col_names, mobile_data):\n",
    "    for count in range(len(col_names)):   \n",
    "        list_names[count] = []\n",
    "        list_names[count] = mobile_data[col_names[count]].unique()\n",
    "        num_unique = mobile_data[col_names[count]].nunique(dropna = True)\n",
    "        print(\"\\nThere are \" + str(num_unique) + \" unique \" + str(col_names[count]) + \"s.\")\n",
    "        all_uniques.append(list_names[count])\n",
    "    return (all_uniques)"
   ]
  },
  {
   "cell_type": "code",
   "execution_count": 3,
   "metadata": {},
   "outputs": [],
   "source": [
    "def replace_copies(df, replace_this, replace_with):\n",
    "    '''\n",
    "    goes through raw_data and replaces specific strings with another specific string\n",
    "    '''\n",
    "    new_data = pd.DataFrame()\n",
    "    for count in range(len(df)):\n",
    "        for num in range(len(replace_this)):\n",
    "            if df['name'][count] == replace_this[num]:\n",
    "                #print(\"repeat\")\n",
    "                df = df.replace(to_replace = replace_this[num], \n",
    "                    value = replace_with[num]) \n",
    "    df = df.groupby(['name']).sum()\n",
    "    df = df.reset_index()\n",
    "    return df"
   ]
  },
  {
   "cell_type": "code",
   "execution_count": 4,
   "metadata": {},
   "outputs": [],
   "source": [
    "def normalize_data(raw_data):\n",
    "    '''\n",
    "    Normalizes raw data based off the min/max\n",
    "    '''\n",
    "    x = raw_data[['values']].values.astype(float)\n",
    "    min_max_scaler = preprocessing.MinMaxScaler()\n",
    "    x_scaled = min_max_scaler.fit_transform(x)\n",
    "    return(x_scaled)"
   ]
  },
  {
   "cell_type": "code",
   "execution_count": 5,
   "metadata": {},
   "outputs": [],
   "source": [
    "def apply_normalizer(normalized_data, device_type, device_list):\n",
    "    '''\n",
    "    Adds normalized data to dataframe \n",
    "    '''\n",
    "    normalized_df = pd.DataFrame(normalized_data)\n",
    "    normalized_df.columns = ['normalized']\n",
    "    for count in range(len(normalized_df)):\n",
    "         device_list.append(device_type)\n",
    "    normalized_df['device'] = device_list        \n",
    "    return normalized_df"
   ]
  },
  {
   "cell_type": "code",
   "execution_count": 6,
   "metadata": {},
   "outputs": [],
   "source": [
    "def get_top_users(df, NUM_TOP):\n",
    "    '''\n",
    "    Takes the number of top users (NUM_TOP) and return dataframe with usernames and value counts\n",
    "    '''\n",
    "    user_counts = pd.DataFrame()\n",
    "    user_counts  = df['username'].value_counts()\n",
    "    user_counts = user_counts.reset_index()\n",
    "    user_counts.columns = ['username', 'no. clicks']\n",
    "    top_users = pd.DataFrame()\n",
    "    for count in range(NUM_TOP):\n",
    "        top_users[count] = user_counts.loc[count]\n",
    "    top_users = top_users.T\n",
    "#    top_users = top_users.drop(index = 3)\n",
    "    return(top_users.reset_index())"
   ]
  },
  {
   "cell_type": "code",
   "execution_count": 7,
   "metadata": {},
   "outputs": [],
   "source": [
    "def normalize_data_users(raw_data):\n",
    "    '''\n",
    "    Normalizes data based on min/max of indiviudal USER not total\n",
    "    '''\n",
    "    x_scaled = raw_data.assign(values=raw_data.groupby('username').transform(lambda x: (x - x.min()) / (x.max()- x.min())))\n",
    "    return (x_scaled)"
   ]
  },
  {
   "cell_type": "code",
   "execution_count": 8,
   "metadata": {},
   "outputs": [],
   "source": [
    "def convert_time (df):\n",
    "    '''\n",
    "    input: dataframe with datetime\n",
    "    output: dataframe with timestamp column that holds datetime as string\n",
    "    *except case for when milliseconds do not appear in the datetime time column\n",
    "    '''\n",
    "    timestamp_list = []\n",
    "    count = 0\n",
    "\n",
    "    for num in range(len(df)):\n",
    "        try:    \n",
    "            timestamp_list.append(datetime.datetime.strptime(df['time'][num], datetimeFormat))\n",
    "        except:\n",
    "            timestamp_list.append(datetime.datetime.strptime(df['time'][num], '%Y-%m-%d %H:%M:%S %Z'))\n",
    "            count += 1\n",
    "    df['timestamp'] = timestamp_list\n",
    "    print(\"No milliseconds count: \" + str(count))\n",
    "    df = df.sort_values(by = 'timestamp', ascending = True)\n",
    "    return(df)"
   ]
  },
  {
   "cell_type": "code",
   "execution_count": 9,
   "metadata": {},
   "outputs": [],
   "source": [
    "def create_count_df_user (df):\n",
    "    '''\n",
    "    input: dataframe with data and datetime as a string\n",
    "    output: dataframe with username, device, week_year, and count columns\n",
    "    '''\n",
    "    df['week_year'] = df['timestamp'].apply(lambda x: \"%02d/%d\" % (x.week, x.year))\n",
    "\n",
    "    df_grouped = df.groupby(['username', 'device'])\n",
    "\n",
    "    df_counts = df_grouped.week_year.value_counts()\n",
    "    df_counts.columns = ['username', 'device', 'week_year', 'count']\n",
    "    df_counts = df_counts.to_frame()\n",
    "    df_counts.columns = ['count']\n",
    "    df_sorted_counts = df_counts.sort_values(by = 'week_year', ascending = True)\n",
    "    df_sorted_counts = df_sorted_counts.reset_index()\n",
    "\n",
    "    return (df_sorted_counts)"
   ]
  },
  {
   "cell_type": "code",
   "execution_count": 10,
   "metadata": {},
   "outputs": [],
   "source": [
    "def create_count_df_mobile (df):\n",
    "    '''\n",
    "    input: dataframe with data and datetime as a string\n",
    "    output: dataframe with username, device, week_year, and count columns\n",
    "    '''\n",
    "    df['week_year'] = df['timestamp'].apply(lambda x: \"%02d/%d\" % (x.week, x.year))\n",
    "\n",
    "    df_grouped = df.groupby(['username'])\n",
    "\n",
    "    df_counts = df_grouped.week_year.value_counts()\n",
    "    df_counts.columns = ['username', 'week_year', 'count']\n",
    "    df_counts = df_counts.to_frame()\n",
    "    df_counts.columns = ['count']\n",
    "    df_sorted_counts = df_counts.sort_values(by = 'week_year', ascending = True)\n",
    "    df_sorted_counts = df_sorted_counts.reset_index()\n",
    "\n",
    "    return (df_sorted_counts)"
   ]
  },
  {
   "cell_type": "code",
   "execution_count": 11,
   "metadata": {},
   "outputs": [],
   "source": [
    "def create_count_df_perweek (df):\n",
    "    '''\n",
    "    input: dataframe with week_year, count (per user), device type\n",
    "    output: dataframe with total counts per week_year, grouped by device type\n",
    "    '''\n",
    "    df_grouped = df.groupby(['week_year', 'device'])\n",
    "    \n",
    "    df_counts = df_grouped['count'].sum()\n",
    "    df_counts.columns = ['week_year', 'device', 'clicks_per_week']\n",
    "    df_counts = df_counts.to_frame()\n",
    "    df_counts.columns = ['clicks_per_week']\n",
    "    df_sorted_counts = df_counts.sort_values(by = 'week_year', ascending = True)\n",
    "    df_sorted_counts = df_sorted_counts.reset_index()\n",
    "    \n",
    "    return (df_sorted_counts)"
   ]
  },
  {
   "cell_type": "code",
   "execution_count": 12,
   "metadata": {},
   "outputs": [],
   "source": [
    "def plot_distinct_and_correct(df_distinct, df_correct, exp):\n",
    "    '''\n",
    "    input: dataframes distinct data and final correctness data, and number of user experience groups\n",
    "    output: two horizontal bar plots \n",
    "    '''\n",
    "    print(\"    *delta_mean (positive = less than num_distinct average / required fewer attempts)\")\n",
    "    plt.figure(figsize=(15,10))\n",
    "\n",
    "    sns.catplot(x = 'delta_mean', y = 'question', hue = 'user_exp', \n",
    "                data = df_distinct, kind = \"bar\", legend = True, aspect = 2)\n",
    "    plt.title(\"Distance From Mean Per Question (Distinct Attempts)\" + str(exp), fontsize = 14)\n",
    "    plt.xlabel('delta_mean', fontsize=13)\n",
    "    plt.ylabel('question', fontsize=13)\n",
    "    plt.xlim(-5,5)\n",
    "    plt.xticks(\n",
    "        rotation=45, \n",
    "        horizontalalignment='right',\n",
    "        fontsize='large'  \n",
    "    )\n",
    "\n",
    "    plt.show()\n",
    "\n",
    "    print(\"    *delta_mean (negative = greater than accuracy average / worse accuracy)\")\n",
    "    plt.figure(figsize=(15,10))\n",
    "\n",
    "    sns.catplot(x = 'delta_mean', y = 'question', hue = 'user_exp', \n",
    "                data = df_correct, kind = \"bar\", legend = True, aspect = 2)\n",
    "    plt.title(\"Distance From Mean Per Question (Accuracy)\" + str(exp), fontsize = 14)\n",
    "    plt.xlabel('delta_mean', fontsize=13)\n",
    "    plt.ylabel('question', fontsize=13)\n",
    "    plt.xlim(-.15,.05)\n",
    "    plt.xticks(\n",
    "        rotation=45, \n",
    "        horizontalalignment='right',\n",
    "        fontsize='large'  \n",
    "    )\n",
    "\n",
    "    plt.show()"
   ]
  },
  {
   "cell_type": "code",
   "execution_count": 13,
   "metadata": {},
   "outputs": [],
   "source": [
    "def wilcoxon_test(df_dist_1, df_dist_2, df_corr_1, df_corr_2):\n",
    "    t, p_value = wilcoxon(df_dist_1, df_dist_2)\n",
    "    print(\"Delta Mean Distinct Attempts:\")\n",
    "    print('  Statistic=%.3f, p=%.8f' % (t, p_value))\n",
    "\n",
    "    alpha = 0.05\n",
    "    if p_value > alpha:\n",
    "        print('  Samples look equal (fail to reject H0)')\n",
    "    else:\n",
    "        print('  Samples do not look equal (reject H0)')\n",
    "\n",
    "    t, p_value = wilcoxon(df_corr_1, df_corr_2)\n",
    "    print(\"\\nDelta Mean Correctness:\")\n",
    "    print('  Statistic=%.3f, p=%.8f' % (t, p_value))\n",
    "\n",
    "    alpha = 0.05\n",
    "    if p_value > alpha:\n",
    "        print('  Samples look equal (fail to reject H0)')\n",
    "    else:\n",
    "        print('  Samples do not look equal (reject H0)')"
   ]
  },
  {
   "cell_type": "code",
   "execution_count": 14,
   "metadata": {},
   "outputs": [],
   "source": [
    "def wilcoxon_test_bon(df_dist_1, df_dist_2, df_corr_1, df_corr_2):\n",
    "    BON = 3\n",
    "    #number of comparisons ^\n",
    "    \n",
    "    t, p_value = wilcoxon(df_dist_1, df_dist_2)\n",
    "    print(\"Delta Mean Distinct Attempts:\")\n",
    "    print('  Statistic=%.3f, p=%.8f' % (t, p_value))\n",
    "\n",
    "    alpha = 0.05 / BON\n",
    "    if p_value > alpha:\n",
    "        print('  Samples look equal (fail to reject H0)')\n",
    "    else:\n",
    "        print('  Samples do not look equal (reject H0)')\n",
    "\n",
    "    t, p_value = wilcoxon(df_corr_1, df_corr_2)\n",
    "    print(\"\\nDelta Mean Correctness:\")\n",
    "    print('  Statistic=%.3f, p=%.8f' % (t, p_value))\n",
    "\n",
    "    alpha = 0.05 / BON\n",
    "    if p_value > alpha:\n",
    "        print('  Samples look equal (fail to reject H0)')\n",
    "    else:\n",
    "        print('  Samples do not look equal (reject H0)')"
   ]
  },
  {
   "cell_type": "code",
   "execution_count": null,
   "metadata": {},
   "outputs": [],
   "source": []
  }
 ],
 "metadata": {
  "kernelspec": {
   "display_name": "Python 3",
   "language": "python",
   "name": "python3"
  },
  "language_info": {
   "codemirror_mode": {
    "name": "ipython",
    "version": 3
   },
   "file_extension": ".py",
   "mimetype": "text/x-python",
   "name": "python",
   "nbconvert_exporter": "python",
   "pygments_lexer": "ipython3",
   "version": "3.7.4"
  }
 },
 "nbformat": 4,
 "nbformat_minor": 2
}

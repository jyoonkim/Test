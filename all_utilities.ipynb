{
 "cells": [
  {
   "cell_type": "code",
   "execution_count": 1,
   "metadata": {},
   "outputs": [],
   "source": [
    "#   % run all_utilities.ipynb"
   ]
  },
  {
   "cell_type": "code",
   "execution_count": 2,
   "metadata": {},
   "outputs": [],
   "source": [
    "def unique_counts(col_names, mobile_data):\n",
    "    for count in range(len(col_names)):   \n",
    "        list_names[count] = []\n",
    "        list_names[count] = mobile_data[col_names[count]].unique()\n",
    "        num_unique = mobile_data[col_names[count]].nunique(dropna = True)\n",
    "        print(\"\\nThere are \" + str(num_unique) + \" unique \" + str(col_names[count]) + \"s.\")\n",
    "        all_uniques.append(list_names[count])\n",
    "    return (all_uniques)"
   ]
  },
  {
   "cell_type": "code",
   "execution_count": 3,
   "metadata": {},
   "outputs": [],
   "source": [
    "def replace_copies(df, replace_this, replace_with):\n",
    "    '''\n",
    "    goes through raw_data and replaces specific strings with another specific string\n",
    "    '''\n",
    "    new_data = pd.DataFrame()\n",
    "    for count in range(len(df)):\n",
    "        for num in range(len(replace_this)):\n",
    "            if df['name'][count] == replace_this[num]:\n",
    "                #print(\"repeat\")\n",
    "                df = df.replace(to_replace = replace_this[num], \n",
    "                    value = replace_with[num]) \n",
    "    df = df.groupby(['name']).sum()\n",
    "    df = df.reset_index()\n",
    "    return df"
   ]
  },
  {
   "cell_type": "code",
   "execution_count": 4,
   "metadata": {},
   "outputs": [],
   "source": [
    "def normalize_data(raw_data):\n",
    "    '''\n",
    "    Normalizes raw data based off the min/max\n",
    "    '''\n",
    "    x = raw_data[['values']].values.astype(float)\n",
    "    min_max_scaler = preprocessing.MinMaxScaler()\n",
    "    x_scaled = min_max_scaler.fit_transform(x)\n",
    "    return(x_scaled)"
   ]
  },
  {
   "cell_type": "code",
   "execution_count": 5,
   "metadata": {},
   "outputs": [],
   "source": [
    "def apply_normalizer(normalized_data, device_type, device_list):\n",
    "    '''\n",
    "    Adds normalized data to dataframe \n",
    "    '''\n",
    "    normalized_df = pd.DataFrame(normalized_data)\n",
    "    normalized_df.columns = ['normalized']\n",
    "    for count in range(len(normalized_df)):\n",
    "         device_list.append(device_type)\n",
    "    normalized_df['device'] = device_list        \n",
    "    return normalized_df"
   ]
  },
  {
   "cell_type": "code",
   "execution_count": 6,
   "metadata": {},
   "outputs": [],
   "source": [
    "def get_top_users(df, NUM_TOP):\n",
    "    '''\n",
    "    Takes the number of top users (NUM_TOP) and return dataframe with usernames and value counts\n",
    "    '''\n",
    "    user_counts = pd.DataFrame()\n",
    "    user_counts  = df['username'].value_counts()\n",
    "    user_counts = user_counts.reset_index()\n",
    "    user_counts.columns = ['username', 'no. clicks']\n",
    "    top_users = pd.DataFrame()\n",
    "    for count in range(NUM_TOP):\n",
    "        top_users[count] = user_counts.loc[count]\n",
    "    top_users = top_users.T\n",
    "#    top_users = top_users.drop(index = 3)\n",
    "    return(top_users.reset_index())"
   ]
  },
  {
   "cell_type": "code",
   "execution_count": 7,
   "metadata": {},
   "outputs": [],
   "source": [
    "def normalize_data_users(raw_data):\n",
    "    '''\n",
    "    Normalizes data based on min/max of indiviudal USER not total\n",
    "    '''\n",
    "    x_scaled = raw_data.assign(values=raw_data.groupby('username').transform(lambda x: (x - x.min()) / (x.max()- x.min())))\n",
    "    return (x_scaled)"
   ]
  },
  {
   "cell_type": "code",
   "execution_count": null,
   "metadata": {},
   "outputs": [],
   "source": []
  }
 ],
 "metadata": {
  "kernelspec": {
   "display_name": "Python 3",
   "language": "python",
   "name": "python3"
  },
  "language_info": {
   "codemirror_mode": {
    "name": "ipython",
    "version": 3
   },
   "file_extension": ".py",
   "mimetype": "text/x-python",
   "name": "python",
   "nbconvert_exporter": "python",
   "pygments_lexer": "ipython3",
   "version": "3.7.4"
  }
 },
 "nbformat": 4,
 "nbformat_minor": 2
}

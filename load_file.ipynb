{
 "cells": [
  {
   "cell_type": "code",
   "execution_count": 1,
   "metadata": {},
   "outputs": [],
   "source": [
    "import pandas as pd\n",
    "import os\n",
    "from no_PII_Storage_folder import *"
   ]
  },
  {
   "cell_type": "code",
   "execution_count": 2,
   "metadata": {},
   "outputs": [],
   "source": [
    "# NUM_FILES = 8\n",
    "# COURSE_NUM = '6002x_'\n",
    "path_to_files = 'data/clickstream/'\n",
    "\n",
    "NUM_FILES = 32\n",
    "COURSE_NUM = '6001x_'"
   ]
  },
  {
   "cell_type": "code",
   "execution_count": 3,
   "metadata": {},
   "outputs": [
    {
     "name": "stdout",
     "output_type": "stream",
     "text": [
      "['6001x_9__2T2016', '6001x__2T2016', '6002x_5__1T2016', '6002x_6__3T2016', '6002x_7__1T2017', 'csv', 'sample']\n"
     ]
    }
   ],
   "source": [
    "all_dir = os.listdir(path_to_files)\n",
    "print (all_dir)"
   ]
  },
  {
   "cell_type": "code",
   "execution_count": 5,
   "metadata": {},
   "outputs": [
    {
     "name": "stdout",
     "output_type": "stream",
     "text": [
      "['6001x_00', '6001x_01', '6001x_02', '6001x_03', '6001x_04', '6001x_05', '6001x_06', '6001x_07', '6001x_08', '6001x_09', '6001x_10', '6001x_11', '6001x_12', '6001x_13', '6001x_14', '6001x_15', '6001x_16', '6001x_17', '6001x_18', '6001x_19', '6001x_20', '6001x_21', '6001x_22', '6001x_23', '6001x_24', '6001x_25', '6001x_26', '6001x_27', '6001x_28', '6001x_29', '6001x_30', '6001x_31']\n",
      "0 1000000\n",
      "0 2000000\n",
      "0 3000000\n",
      "0 4000000\n",
      "0 5000000\n",
      "0 6000000\n",
      "0 7000000\n",
      "0 8000000\n",
      "0 9000000\n",
      "0 10000000\n",
      "0 11000000\n",
      "0 12000000\n",
      "0 13000000\n",
      "0 14000000\n",
      "0 15000000\n",
      "0 16000000\n",
      "0 17000000\n",
      "0 18000000\n",
      "0 19000000\n"
     ]
    },
    {
     "ename": "ValueError",
     "evalue": "Could not reserve memory block",
     "output_type": "error",
     "traceback": [
      "\u001b[0;31m---------------------------------------------------------------------------\u001b[0m",
      "\u001b[0;31mValueError\u001b[0m                                Traceback (most recent call last)",
      "\u001b[0;32m<ipython-input-5-f70fe3a45c89>\u001b[0m in \u001b[0;36m<module>\u001b[0;34m\u001b[0m\n\u001b[1;32m      8\u001b[0m             \u001b[0muser_data_org\u001b[0m \u001b[0;34m=\u001b[0m \u001b[0mpd\u001b[0m\u001b[0;34m.\u001b[0m\u001b[0mread_json\u001b[0m\u001b[0;34m(\u001b[0m\u001b[0mpath_to_files\u001b[0m \u001b[0;34m+\u001b[0m \u001b[0mall_dir\u001b[0m\u001b[0;34m[\u001b[0m\u001b[0mcount\u001b[0m\u001b[0;34m]\u001b[0m \u001b[0;34m+\u001b[0m \u001b[0;34m'/6001x_0'\u001b[0m \u001b[0;34m+\u001b[0m \u001b[0mstr\u001b[0m\u001b[0;34m(\u001b[0m\u001b[0mnum\u001b[0m\u001b[0;34m)\u001b[0m\u001b[0;34m,\u001b[0m  \u001b[0mlines\u001b[0m \u001b[0;34m=\u001b[0m \u001b[0;32mTrue\u001b[0m\u001b[0;34m)\u001b[0m\u001b[0;34m\u001b[0m\u001b[0;34m\u001b[0m\u001b[0m\n\u001b[1;32m      9\u001b[0m         \u001b[0;32melse\u001b[0m\u001b[0;34m:\u001b[0m\u001b[0;34m\u001b[0m\u001b[0;34m\u001b[0m\u001b[0m\n\u001b[0;32m---> 10\u001b[0;31m             \u001b[0muser_data_org\u001b[0m \u001b[0;34m=\u001b[0m \u001b[0mpd\u001b[0m\u001b[0;34m.\u001b[0m\u001b[0mread_json\u001b[0m\u001b[0;34m(\u001b[0m\u001b[0mpath_to_files\u001b[0m \u001b[0;34m+\u001b[0m \u001b[0mall_dir\u001b[0m\u001b[0;34m[\u001b[0m\u001b[0mcount\u001b[0m\u001b[0;34m]\u001b[0m \u001b[0;34m+\u001b[0m \u001b[0;34m'/6001x_'\u001b[0m \u001b[0;34m+\u001b[0m \u001b[0mstr\u001b[0m\u001b[0;34m(\u001b[0m\u001b[0mnum\u001b[0m\u001b[0;34m)\u001b[0m\u001b[0;34m,\u001b[0m  \u001b[0mlines\u001b[0m \u001b[0;34m=\u001b[0m \u001b[0;32mTrue\u001b[0m\u001b[0;34m)\u001b[0m\u001b[0;34m\u001b[0m\u001b[0;34m\u001b[0m\u001b[0m\n\u001b[0m\u001b[1;32m     11\u001b[0m         \u001b[0muser_data_org\u001b[0m \u001b[0;34m=\u001b[0m \u001b[0muser_data_org\u001b[0m\u001b[0;34m.\u001b[0m\u001b[0mdrop\u001b[0m\u001b[0;34m(\u001b[0m\u001b[0;34m[\u001b[0m\u001b[0;34m'context'\u001b[0m\u001b[0;34m,\u001b[0m \u001b[0;34m'course_id'\u001b[0m\u001b[0;34m,\u001b[0m \u001b[0;34m'host'\u001b[0m\u001b[0;34m,\u001b[0m \u001b[0;34m'event_struct'\u001b[0m\u001b[0;34m,\u001b[0m \u001b[0;34m'event_type'\u001b[0m\u001b[0;34m,\u001b[0m \u001b[0;34m'ip'\u001b[0m\u001b[0;34m,\u001b[0m \u001b[0;34m'page'\u001b[0m\u001b[0;34m,\u001b[0m \u001b[0;34m'mongoid'\u001b[0m\u001b[0;34m,\u001b[0m \u001b[0;34m'session'\u001b[0m\u001b[0;34m,\u001b[0m\u001b[0;34m'module_id'\u001b[0m\u001b[0;34m,\u001b[0m \u001b[0;34m'event'\u001b[0m\u001b[0;34m]\u001b[0m\u001b[0;34m,\u001b[0m \u001b[0maxis\u001b[0m \u001b[0;34m=\u001b[0m \u001b[0;34m'columns'\u001b[0m\u001b[0;34m)\u001b[0m\u001b[0;34m\u001b[0m\u001b[0;34m\u001b[0m\u001b[0m\n\u001b[1;32m     12\u001b[0m         \u001b[0muser_data_org\u001b[0m\u001b[0;34m[\u001b[0m\u001b[0;34m'username'\u001b[0m\u001b[0;34m]\u001b[0m \u001b[0;34m=\u001b[0m \u001b[0mhash_column\u001b[0m\u001b[0;34m(\u001b[0m\u001b[0muser_data_org\u001b[0m\u001b[0;34m[\u001b[0m\u001b[0;34m'username'\u001b[0m\u001b[0;34m]\u001b[0m\u001b[0;34m)\u001b[0m\u001b[0;34m\u001b[0m\u001b[0;34m\u001b[0m\u001b[0m\n",
      "\u001b[0;32m~/anaconda3/lib/python3.7/site-packages/pandas/io/json/_json.py\u001b[0m in \u001b[0;36mread_json\u001b[0;34m(path_or_buf, orient, typ, dtype, convert_axes, convert_dates, keep_default_dates, numpy, precise_float, date_unit, encoding, lines, chunksize, compression)\u001b[0m\n\u001b[1;32m    590\u001b[0m         \u001b[0;32mreturn\u001b[0m \u001b[0mjson_reader\u001b[0m\u001b[0;34m\u001b[0m\u001b[0;34m\u001b[0m\u001b[0m\n\u001b[1;32m    591\u001b[0m \u001b[0;34m\u001b[0m\u001b[0m\n\u001b[0;32m--> 592\u001b[0;31m     \u001b[0mresult\u001b[0m \u001b[0;34m=\u001b[0m \u001b[0mjson_reader\u001b[0m\u001b[0;34m.\u001b[0m\u001b[0mread\u001b[0m\u001b[0;34m(\u001b[0m\u001b[0;34m)\u001b[0m\u001b[0;34m\u001b[0m\u001b[0;34m\u001b[0m\u001b[0m\n\u001b[0m\u001b[1;32m    593\u001b[0m     \u001b[0;32mif\u001b[0m \u001b[0mshould_close\u001b[0m\u001b[0;34m:\u001b[0m\u001b[0;34m\u001b[0m\u001b[0;34m\u001b[0m\u001b[0m\n\u001b[1;32m    594\u001b[0m         \u001b[0;32mtry\u001b[0m\u001b[0;34m:\u001b[0m\u001b[0;34m\u001b[0m\u001b[0;34m\u001b[0m\u001b[0m\n",
      "\u001b[0;32m~/anaconda3/lib/python3.7/site-packages/pandas/io/json/_json.py\u001b[0m in \u001b[0;36mread\u001b[0;34m(self)\u001b[0m\n\u001b[1;32m    713\u001b[0m         \u001b[0;32melif\u001b[0m \u001b[0mself\u001b[0m\u001b[0;34m.\u001b[0m\u001b[0mlines\u001b[0m\u001b[0;34m:\u001b[0m\u001b[0;34m\u001b[0m\u001b[0;34m\u001b[0m\u001b[0m\n\u001b[1;32m    714\u001b[0m             \u001b[0mdata\u001b[0m \u001b[0;34m=\u001b[0m \u001b[0mensure_str\u001b[0m\u001b[0;34m(\u001b[0m\u001b[0mself\u001b[0m\u001b[0;34m.\u001b[0m\u001b[0mdata\u001b[0m\u001b[0;34m)\u001b[0m\u001b[0;34m\u001b[0m\u001b[0;34m\u001b[0m\u001b[0m\n\u001b[0;32m--> 715\u001b[0;31m             \u001b[0mobj\u001b[0m \u001b[0;34m=\u001b[0m \u001b[0mself\u001b[0m\u001b[0;34m.\u001b[0m\u001b[0m_get_object_parser\u001b[0m\u001b[0;34m(\u001b[0m\u001b[0mself\u001b[0m\u001b[0;34m.\u001b[0m\u001b[0m_combine_lines\u001b[0m\u001b[0;34m(\u001b[0m\u001b[0mdata\u001b[0m\u001b[0;34m.\u001b[0m\u001b[0msplit\u001b[0m\u001b[0;34m(\u001b[0m\u001b[0;34m\"\\n\"\u001b[0m\u001b[0;34m)\u001b[0m\u001b[0;34m)\u001b[0m\u001b[0;34m)\u001b[0m\u001b[0;34m\u001b[0m\u001b[0;34m\u001b[0m\u001b[0m\n\u001b[0m\u001b[1;32m    716\u001b[0m         \u001b[0;32melse\u001b[0m\u001b[0;34m:\u001b[0m\u001b[0;34m\u001b[0m\u001b[0;34m\u001b[0m\u001b[0m\n\u001b[1;32m    717\u001b[0m             \u001b[0mobj\u001b[0m \u001b[0;34m=\u001b[0m \u001b[0mself\u001b[0m\u001b[0;34m.\u001b[0m\u001b[0m_get_object_parser\u001b[0m\u001b[0;34m(\u001b[0m\u001b[0mself\u001b[0m\u001b[0;34m.\u001b[0m\u001b[0mdata\u001b[0m\u001b[0;34m)\u001b[0m\u001b[0;34m\u001b[0m\u001b[0;34m\u001b[0m\u001b[0m\n",
      "\u001b[0;32m~/anaconda3/lib/python3.7/site-packages/pandas/io/json/_json.py\u001b[0m in \u001b[0;36m_get_object_parser\u001b[0;34m(self, json)\u001b[0m\n\u001b[1;32m    737\u001b[0m         \u001b[0mobj\u001b[0m \u001b[0;34m=\u001b[0m \u001b[0;32mNone\u001b[0m\u001b[0;34m\u001b[0m\u001b[0;34m\u001b[0m\u001b[0m\n\u001b[1;32m    738\u001b[0m         \u001b[0;32mif\u001b[0m \u001b[0mtyp\u001b[0m \u001b[0;34m==\u001b[0m \u001b[0;34m\"frame\"\u001b[0m\u001b[0;34m:\u001b[0m\u001b[0;34m\u001b[0m\u001b[0;34m\u001b[0m\u001b[0m\n\u001b[0;32m--> 739\u001b[0;31m             \u001b[0mobj\u001b[0m \u001b[0;34m=\u001b[0m \u001b[0mFrameParser\u001b[0m\u001b[0;34m(\u001b[0m\u001b[0mjson\u001b[0m\u001b[0;34m,\u001b[0m \u001b[0;34m**\u001b[0m\u001b[0mkwargs\u001b[0m\u001b[0;34m)\u001b[0m\u001b[0;34m.\u001b[0m\u001b[0mparse\u001b[0m\u001b[0;34m(\u001b[0m\u001b[0;34m)\u001b[0m\u001b[0;34m\u001b[0m\u001b[0;34m\u001b[0m\u001b[0m\n\u001b[0m\u001b[1;32m    740\u001b[0m \u001b[0;34m\u001b[0m\u001b[0m\n\u001b[1;32m    741\u001b[0m         \u001b[0;32mif\u001b[0m \u001b[0mtyp\u001b[0m \u001b[0;34m==\u001b[0m \u001b[0;34m\"series\"\u001b[0m \u001b[0;32mor\u001b[0m \u001b[0mobj\u001b[0m \u001b[0;32mis\u001b[0m \u001b[0;32mNone\u001b[0m\u001b[0;34m:\u001b[0m\u001b[0;34m\u001b[0m\u001b[0;34m\u001b[0m\u001b[0m\n",
      "\u001b[0;32m~/anaconda3/lib/python3.7/site-packages/pandas/io/json/_json.py\u001b[0m in \u001b[0;36mparse\u001b[0;34m(self)\u001b[0m\n\u001b[1;32m    847\u001b[0m \u001b[0;34m\u001b[0m\u001b[0m\n\u001b[1;32m    848\u001b[0m         \u001b[0;32melse\u001b[0m\u001b[0;34m:\u001b[0m\u001b[0;34m\u001b[0m\u001b[0;34m\u001b[0m\u001b[0m\n\u001b[0;32m--> 849\u001b[0;31m             \u001b[0mself\u001b[0m\u001b[0;34m.\u001b[0m\u001b[0m_parse_no_numpy\u001b[0m\u001b[0;34m(\u001b[0m\u001b[0;34m)\u001b[0m\u001b[0;34m\u001b[0m\u001b[0;34m\u001b[0m\u001b[0m\n\u001b[0m\u001b[1;32m    850\u001b[0m \u001b[0;34m\u001b[0m\u001b[0m\n\u001b[1;32m    851\u001b[0m         \u001b[0;32mif\u001b[0m \u001b[0mself\u001b[0m\u001b[0;34m.\u001b[0m\u001b[0mobj\u001b[0m \u001b[0;32mis\u001b[0m \u001b[0;32mNone\u001b[0m\u001b[0;34m:\u001b[0m\u001b[0;34m\u001b[0m\u001b[0;34m\u001b[0m\u001b[0m\n",
      "\u001b[0;32m~/anaconda3/lib/python3.7/site-packages/pandas/io/json/_json.py\u001b[0m in \u001b[0;36m_parse_no_numpy\u001b[0;34m(self)\u001b[0m\n\u001b[1;32m   1091\u001b[0m         \u001b[0;32mif\u001b[0m \u001b[0morient\u001b[0m \u001b[0;34m==\u001b[0m \u001b[0;34m\"columns\"\u001b[0m\u001b[0;34m:\u001b[0m\u001b[0;34m\u001b[0m\u001b[0;34m\u001b[0m\u001b[0m\n\u001b[1;32m   1092\u001b[0m             self.obj = DataFrame(\n\u001b[0;32m-> 1093\u001b[0;31m                 \u001b[0mloads\u001b[0m\u001b[0;34m(\u001b[0m\u001b[0mjson\u001b[0m\u001b[0;34m,\u001b[0m \u001b[0mprecise_float\u001b[0m\u001b[0;34m=\u001b[0m\u001b[0mself\u001b[0m\u001b[0;34m.\u001b[0m\u001b[0mprecise_float\u001b[0m\u001b[0;34m)\u001b[0m\u001b[0;34m,\u001b[0m \u001b[0mdtype\u001b[0m\u001b[0;34m=\u001b[0m\u001b[0;32mNone\u001b[0m\u001b[0;34m\u001b[0m\u001b[0;34m\u001b[0m\u001b[0m\n\u001b[0m\u001b[1;32m   1094\u001b[0m             )\n\u001b[1;32m   1095\u001b[0m         \u001b[0;32melif\u001b[0m \u001b[0morient\u001b[0m \u001b[0;34m==\u001b[0m \u001b[0;34m\"split\"\u001b[0m\u001b[0;34m:\u001b[0m\u001b[0;34m\u001b[0m\u001b[0;34m\u001b[0m\u001b[0m\n",
      "\u001b[0;31mValueError\u001b[0m: Could not reserve memory block"
     ]
    }
   ],
   "source": [
    "user_data = pd.DataFrame()\n",
    "\n",
    "for count in range(0,2):\n",
    "    single_dir = os.listdir(path_to_files + all_dir[count])\n",
    "    print (single_dir)\n",
    "    for num in range(len(single_dir)):\n",
    "        if num < 10:\n",
    "            user_data_org = pd.read_json(path_to_files + all_dir[count] + '/6001x_0' + str(num),  lines = True)\n",
    "        else:\n",
    "            user_data_org = pd.read_json(path_to_files + all_dir[count] + '/6001x_' + str(num),  lines = True)\n",
    "        user_data_org = user_data_org.drop(['context', 'course_id', 'host', 'event_struct', 'event_type', 'ip', 'page', 'mongoid', 'session','module_id', 'event'], axis = 'columns')\n",
    "        user_data_org['username'] = hash_column(user_data_org['username'])\n",
    "        user_data = pd.concat([user_data_org, user_data], axis = 0, sort = False)\n",
    "        print(count, len(user_data))\n",
    "\n",
    "        \n",
    "#ERROR: COULD NOT RESERVE MEMORY BLOCK--HOW TO READ JSON FILES WHILE USING LESS MEMORY"
   ]
  },
  {
   "cell_type": "code",
   "execution_count": null,
   "metadata": {},
   "outputs": [],
   "source": [
    "#maybe try this? from https://stackoverflow.com/questions/44705018/how-to-read-and-combine-multiple-json-files-using-python3\n",
    "\n",
    "# import json\n",
    "# import pandas as pd\n",
    "# import glob\n",
    "\n",
    "# def flatten_dict(d_obj):\n",
    "\n",
    "#     for k, v in d_obj.items():\n",
    "\n",
    "#         if isinstance(v, dict):\n",
    "\n",
    "#             new_dict = {'{}/{}'.format(k,k2):v2 for k2, v2 in v.items()}\n",
    "#             yield from flatten_dict(new_dict)\n",
    "\n",
    "#         else:\n",
    "#             yield k, v\n",
    "\n",
    "# dict_list = []\n",
    "\n",
    "# files = glob.glob('*.json')\n",
    "\n",
    "# for file in files:\n",
    "#     with open(file, 'r') as f:\n",
    "#         data = f.read()\n",
    "#         j_data = json.loads(data)\n",
    "#         new_dict = {k:v for k,v in flatten_dict(j_data)}\n",
    "#         dict_list.append(new_dict)\n",
    "\n",
    "# # Write new raw JSON file with combined data\n",
    "# with open('merged_file.json', 'w') as new_f:\n",
    "#     new_f.write(json.dumps(dict_list))\n",
    "\n",
    "# # Convert list of dicts into dataframe and send to csv\n",
    "# df = pd.DataFrame(dict_list)\n",
    "# df.to_csv('merged_file.csv', index=False)"
   ]
  },
  {
   "cell_type": "code",
   "execution_count": null,
   "metadata": {},
   "outputs": [
    {
     "name": "stdout",
     "output_type": "stream",
     "text": [
      "1\n",
      "2\n",
      "3\n",
      "4\n",
      "5\n",
      "6\n",
      "7\n",
      "8\n",
      "9\n",
      "10\n",
      "11\n",
      "12\n",
      "13\n",
      "14\n",
      "15\n",
      "16\n",
      "17\n",
      "18\n",
      "19\n"
     ]
    }
   ],
   "source": [
    "# user_data = pd.read_json(path_to_files + COURSE_NUM + '00',  lines = True)\n",
    "# user_data = user_data.drop(['context', 'course_id', 'host', 'event_struct', 'event_type', 'ip', 'page', 'mongoid', 'session','module_id', 'event'], axis = 'columns')\n",
    "# user_data['username'] = hash_column(user_data['username'])\n",
    "\n",
    "# for count in range(1, NUM_FILES):\n",
    "#     print(count)\n",
    "#     if count < 10:\n",
    "#         user_data_org = pd.read_json(path_to_files + COURSE_NUM  + '0' + str(count),  lines = True)\n",
    "#     else:\n",
    "#         user_data_org = pd.read_json(path_to_files + COURSE_NUM  + str(count),  lines = True)\n",
    "#     user_data_org = user_data_org.drop(['context', 'course_id', 'host', 'event_struct', 'event_type', 'ip', 'page', 'mongoid', 'session','module_id', 'event'], axis = 'columns')\n",
    "#     user_data_org['username'] = hash_column(user_data_org['username'])\n",
    "#     tmp = user_data_org\n",
    "#     user_data = pd.concat([user_data, tmp], axis = 0, sort = False)"
   ]
  },
  {
   "cell_type": "code",
   "execution_count": 9,
   "metadata": {},
   "outputs": [
    {
     "data": {
      "text/plain": [
       "27000000"
      ]
     },
     "execution_count": 9,
     "metadata": {},
     "output_type": "execute_result"
    }
   ],
   "source": [
    "len(user_data)"
   ]
  },
  {
   "cell_type": "code",
   "execution_count": 4,
   "metadata": {},
   "outputs": [],
   "source": [
    "#exports data to csv file, if working with new data, consider writing it to new csv file\n",
    "\n",
    "# user_data.to_csv(r'\\ALL_DATA.csv', header = True)\n",
    "user_data.to_csv(r'user_data_6001x', header = true)"
   ]
  },
  {
   "cell_type": "code",
   "execution_count": 5,
   "metadata": {},
   "outputs": [
    {
     "name": "stdout",
     "output_type": "stream",
     "text": [
      "\n",
      "There are 129545 user-agents that contain: Mobi or mobi\n",
      "\n",
      "There are 7687724 user-agents that DON'T contain:  Mobi or mobi\n"
     ]
    }
   ],
   "source": [
    "MOBILE_INDICATOR_1 = \"mobi\"\n",
    "MOBILE_INDICATOR_2 = \"Mobi\"\n",
    "\n",
    "mobile_data = pd.DataFrame()\n",
    "non_mobile_data = pd.DataFrame()\n",
    "\n",
    "mobile_data = user_data[user_data['agent'].str.contains(MOBILE_INDICATOR_1, na = False) | user_data['agent'].str.contains(MOBILE_INDICATOR_2, na = False)] \n",
    "non_mobile_data = user_data[~user_data['agent'].str.contains(MOBILE_INDICATOR_1, na = False) &  ~user_data['agent'].str.contains(MOBILE_INDICATOR_2, na = False)] \n",
    "\n",
    "mobile_data = mobile_data.reset_index(drop=True)\n",
    "non_mobile_data = non_mobile_data.reset_index(drop=True)\n",
    "    \n",
    "print(\"\\nThere are \" + str(len(mobile_data)) + \" user-agents that contain: Mobi or mobi\")\n",
    "print(\"\\nThere are \" + str(len(non_mobile_data)) + \" user-agents that DON'T contain:  Mobi or mobi\")\n",
    "\n",
    "# Mobi ref : https://delib.zendesk.com/hc/en-us/articles/203431259-Browser-device-identification-how-to-find-out-which-browser-and-device-have-been-used-to-submit-a-response"
   ]
  },
  {
   "cell_type": "code",
   "execution_count": 6,
   "metadata": {},
   "outputs": [
    {
     "data": {
      "text/html": [
       "<div>\n",
       "<style scoped>\n",
       "    .dataframe tbody tr th:only-of-type {\n",
       "        vertical-align: middle;\n",
       "    }\n",
       "\n",
       "    .dataframe tbody tr th {\n",
       "        vertical-align: top;\n",
       "    }\n",
       "\n",
       "    .dataframe thead th {\n",
       "        text-align: right;\n",
       "    }\n",
       "</style>\n",
       "<table border=\"1\" class=\"dataframe\">\n",
       "  <thead>\n",
       "    <tr style=\"text-align: right;\">\n",
       "      <th></th>\n",
       "      <th>time</th>\n",
       "      <th>username</th>\n",
       "      <th>event_source</th>\n",
       "      <th>agent</th>\n",
       "      <th>name</th>\n",
       "    </tr>\n",
       "  </thead>\n",
       "  <tbody>\n",
       "    <tr>\n",
       "      <td>0</td>\n",
       "      <td>2017-03-27 16:21:54.930867 UTC</td>\n",
       "      <td>1fc8371d6fb5d841af64503da54e4ec4</td>\n",
       "      <td>browser</td>\n",
       "      <td>Mozilla/5.0 (Linux; Android 7.1.1; A0001 Build...</td>\n",
       "      <td>problem_check</td>\n",
       "    </tr>\n",
       "    <tr>\n",
       "      <td>1</td>\n",
       "      <td>2017-03-27 12:55:42.111315 UTC</td>\n",
       "      <td>aa75ce9861e361e2201c070fee4876ae</td>\n",
       "      <td>browser</td>\n",
       "      <td>Mozilla/5.0 (iPad; CPU OS 9_3_5 like Mac OS X)...</td>\n",
       "      <td>problem_check</td>\n",
       "    </tr>\n",
       "    <tr>\n",
       "      <td>2</td>\n",
       "      <td>2017-03-27 19:03:01.540341 UTC</td>\n",
       "      <td>f7c9b5ba8e176a40998faa3874f04378</td>\n",
       "      <td>browser</td>\n",
       "      <td>Mozilla/5.0 (Linux; Android 5.0.2; HTC One Bui...</td>\n",
       "      <td>problem_check</td>\n",
       "    </tr>\n",
       "  </tbody>\n",
       "</table>\n",
       "</div>"
      ],
      "text/plain": [
       "                             time                          username  \\\n",
       "0  2017-03-27 16:21:54.930867 UTC  1fc8371d6fb5d841af64503da54e4ec4   \n",
       "1  2017-03-27 12:55:42.111315 UTC  aa75ce9861e361e2201c070fee4876ae   \n",
       "2  2017-03-27 19:03:01.540341 UTC  f7c9b5ba8e176a40998faa3874f04378   \n",
       "\n",
       "  event_source                                              agent  \\\n",
       "0      browser  Mozilla/5.0 (Linux; Android 7.1.1; A0001 Build...   \n",
       "1      browser  Mozilla/5.0 (iPad; CPU OS 9_3_5 like Mac OS X)...   \n",
       "2      browser  Mozilla/5.0 (Linux; Android 5.0.2; HTC One Bui...   \n",
       "\n",
       "            name  \n",
       "0  problem_check  \n",
       "1  problem_check  \n",
       "2  problem_check  "
      ]
     },
     "execution_count": 6,
     "metadata": {},
     "output_type": "execute_result"
    }
   ],
   "source": [
    "mobile_data.head(n = 3)"
   ]
  },
  {
   "cell_type": "code",
   "execution_count": 7,
   "metadata": {},
   "outputs": [],
   "source": [
    "mobile_data.to_csv(r'MOBILE_DATA.csv', header = True)\n",
    "non_mobile_data.to_csv(r'NON_MOBILE_DATA.csv', header = True)"
   ]
  },
  {
   "cell_type": "code",
   "execution_count": null,
   "metadata": {},
   "outputs": [],
   "source": []
  }
 ],
 "metadata": {
  "kernelspec": {
   "display_name": "Python 3",
   "language": "python",
   "name": "python3"
  },
  "language_info": {
   "codemirror_mode": {
    "name": "ipython",
    "version": 3
   },
   "file_extension": ".py",
   "mimetype": "text/x-python",
   "name": "python",
   "nbconvert_exporter": "python",
   "pygments_lexer": "ipython3",
   "version": "3.7.4"
  }
 },
 "nbformat": 4,
 "nbformat_minor": 2
}

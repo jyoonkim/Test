{
 "cells": [
  {
   "cell_type": "code",
   "execution_count": 1,
   "metadata": {},
   "outputs": [],
   "source": [
    "import pandas as pd\n",
    "from no_PII_Storage_folder import *"
   ]
  },
  {
   "cell_type": "code",
   "execution_count": 2,
   "metadata": {},
   "outputs": [
    {
     "name": "stdout",
     "output_type": "stream",
     "text": [
      "1\n",
      "2\n",
      "3\n",
      "4\n",
      "5\n",
      "6\n",
      "7\n"
     ]
    }
   ],
   "source": [
    "user_data = pd.read_json('data/clickstream/6002x_00',  lines = True)\n",
    "user_data = user_data.drop(['context', 'course_id', 'host', 'event_struct', 'event_type', 'ip', 'page', 'mongoid', 'session','module_id', 'event'], axis = 'columns')\n",
    "user_data['username'] = hash_column(user_data['username'])\n",
    "\n",
    "for count in range(1,8):\n",
    "    print(count)\n",
    "    user_data_org = pd.read_json('data/clickstream/6002x_0' + str(count),  lines = True)\n",
    "    user_data_org = user_data_org.drop(['context', 'course_id', 'host', 'event_struct', 'event_type', 'ip', 'page', 'mongoid', 'session','module_id', 'event'], axis = 'columns')\n",
    "    user_data_org['username'] = hash_column(user_data_org['username'])\n",
    "    tmp = user_data_org\n",
    "    user_data = pd.concat([user_data, tmp], axis = 0, sort = False)"
   ]
  },
  {
   "cell_type": "code",
   "execution_count": 3,
   "metadata": {},
   "outputs": [
    {
     "data": {
      "text/plain": [
       "7817269"
      ]
     },
     "execution_count": 3,
     "metadata": {},
     "output_type": "execute_result"
    }
   ],
   "source": [
    "len(user_data)"
   ]
  },
  {
   "cell_type": "code",
   "execution_count": 4,
   "metadata": {},
   "outputs": [],
   "source": [
    "export_csv = user_data.to_csv(r'\\ALL_DATA.csv', header = True)"
   ]
  },
  {
   "cell_type": "code",
   "execution_count": 5,
   "metadata": {},
   "outputs": [
    {
     "name": "stdout",
     "output_type": "stream",
     "text": [
      "\n",
      "There are 129545 user-agents that contain: Mobi or mobi\n",
      "\n",
      "There are 7687724 user-agents that DON'T contain:  Mobi or mobi\n"
     ]
    }
   ],
   "source": [
    "MOBILE_INDICATOR_1 = \"mobi\"\n",
    "MOBILE_INDICATOR_2 = \"Mobi\"\n",
    "\n",
    "mobile_data = pd.DataFrame()\n",
    "non_mobile_data = pd.DataFrame()\n",
    "\n",
    "mobile_data = user_data[user_data['agent'].str.contains(MOBILE_INDICATOR_1, na = False) | user_data['agent'].str.contains(MOBILE_INDICATOR_2, na = False)] \n",
    "non_mobile_data = user_data[~user_data['agent'].str.contains(MOBILE_INDICATOR_1, na = False) &  ~user_data['agent'].str.contains(MOBILE_INDICATOR_2, na = False)] \n",
    "\n",
    "mobile_data = mobile_data.reset_index(drop=True)\n",
    "non_mobile_data = non_mobile_data.reset_index(drop=True)\n",
    "    \n",
    "print(\"\\nThere are \" + str(len(mobile_data)) + \" user-agents that contain: Mobi or mobi\")\n",
    "print(\"\\nThere are \" + str(len(non_mobile_data)) + \" user-agents that DON'T contain:  Mobi or mobi\")\n",
    "\n",
    "# Mobi ref : https://delib.zendesk.com/hc/en-us/articles/203431259-Browser-device-identification-how-to-find-out-which-browser-and-device-have-been-used-to-submit-a-response"
   ]
  },
  {
   "cell_type": "code",
   "execution_count": 6,
   "metadata": {},
   "outputs": [
    {
     "data": {
      "text/html": [
       "<div>\n",
       "<style scoped>\n",
       "    .dataframe tbody tr th:only-of-type {\n",
       "        vertical-align: middle;\n",
       "    }\n",
       "\n",
       "    .dataframe tbody tr th {\n",
       "        vertical-align: top;\n",
       "    }\n",
       "\n",
       "    .dataframe thead th {\n",
       "        text-align: right;\n",
       "    }\n",
       "</style>\n",
       "<table border=\"1\" class=\"dataframe\">\n",
       "  <thead>\n",
       "    <tr style=\"text-align: right;\">\n",
       "      <th></th>\n",
       "      <th>time</th>\n",
       "      <th>username</th>\n",
       "      <th>event_source</th>\n",
       "      <th>agent</th>\n",
       "      <th>name</th>\n",
       "    </tr>\n",
       "  </thead>\n",
       "  <tbody>\n",
       "    <tr>\n",
       "      <td>0</td>\n",
       "      <td>2017-03-27 16:21:54.930867 UTC</td>\n",
       "      <td>1fc8371d6fb5d841af64503da54e4ec4</td>\n",
       "      <td>browser</td>\n",
       "      <td>Mozilla/5.0 (Linux; Android 7.1.1; A0001 Build...</td>\n",
       "      <td>problem_check</td>\n",
       "    </tr>\n",
       "    <tr>\n",
       "      <td>1</td>\n",
       "      <td>2017-03-27 12:55:42.111315 UTC</td>\n",
       "      <td>aa75ce9861e361e2201c070fee4876ae</td>\n",
       "      <td>browser</td>\n",
       "      <td>Mozilla/5.0 (iPad; CPU OS 9_3_5 like Mac OS X)...</td>\n",
       "      <td>problem_check</td>\n",
       "    </tr>\n",
       "    <tr>\n",
       "      <td>2</td>\n",
       "      <td>2017-03-27 19:03:01.540341 UTC</td>\n",
       "      <td>f7c9b5ba8e176a40998faa3874f04378</td>\n",
       "      <td>browser</td>\n",
       "      <td>Mozilla/5.0 (Linux; Android 5.0.2; HTC One Bui...</td>\n",
       "      <td>problem_check</td>\n",
       "    </tr>\n",
       "  </tbody>\n",
       "</table>\n",
       "</div>"
      ],
      "text/plain": [
       "                             time                          username  \\\n",
       "0  2017-03-27 16:21:54.930867 UTC  1fc8371d6fb5d841af64503da54e4ec4   \n",
       "1  2017-03-27 12:55:42.111315 UTC  aa75ce9861e361e2201c070fee4876ae   \n",
       "2  2017-03-27 19:03:01.540341 UTC  f7c9b5ba8e176a40998faa3874f04378   \n",
       "\n",
       "  event_source                                              agent  \\\n",
       "0      browser  Mozilla/5.0 (Linux; Android 7.1.1; A0001 Build...   \n",
       "1      browser  Mozilla/5.0 (iPad; CPU OS 9_3_5 like Mac OS X)...   \n",
       "2      browser  Mozilla/5.0 (Linux; Android 5.0.2; HTC One Bui...   \n",
       "\n",
       "            name  \n",
       "0  problem_check  \n",
       "1  problem_check  \n",
       "2  problem_check  "
      ]
     },
     "execution_count": 6,
     "metadata": {},
     "output_type": "execute_result"
    }
   ],
   "source": [
    "mobile_data.head(n = 3)"
   ]
  },
  {
   "cell_type": "code",
   "execution_count": 7,
   "metadata": {},
   "outputs": [],
   "source": [
    "mobile_data.to_csv(r'MOBILE_DATA.csv', header = True)\n",
    "non_mobile_data.to_csv(r'NON_MOBILE_DATA.csv', header = True)"
   ]
  },
  {
   "cell_type": "code",
   "execution_count": null,
   "metadata": {},
   "outputs": [],
   "source": []
  }
 ],
 "metadata": {
  "kernelspec": {
   "display_name": "Python 3",
   "language": "python",
   "name": "python3"
  },
  "language_info": {
   "codemirror_mode": {
    "name": "ipython",
    "version": 3
   },
   "file_extension": ".py",
   "mimetype": "text/x-python",
   "name": "python",
   "nbconvert_exporter": "python",
   "pygments_lexer": "ipython3",
   "version": "3.7.4"
  }
 },
 "nbformat": 4,
 "nbformat_minor": 2
}

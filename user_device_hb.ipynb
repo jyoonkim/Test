{
 "cells": [
  {
   "cell_type": "markdown",
   "metadata": {},
   "source": [
    "# Goal: Identify and Analyze Mobile Device Usage for 6.00.1x (...6.00.2x?)"
   ]
  },
  {
   "cell_type": "markdown",
   "metadata": {},
   "source": [
    "1) Identify Mobile clicks"
   ]
  },
  {
   "cell_type": "markdown",
   "metadata": {},
   "source": [
    "2) Isolate Mobile clicks"
   ]
  },
  {
   "cell_type": "markdown",
   "metadata": {},
   "source": [
    "3) Agents, Events, and Event Types (for reference to clickstream data structure, see https://edx.readthedocs.io/projects/devdata/en/stable/internal_data_formats/tracking_logs.html)"
   ]
  },
  {
   "cell_type": "markdown",
   "metadata": {},
   "source": [
    "Potential research questions:\n",
    "    <br> - How often are mobile devices used with the 6.00.1x course?\n",
    "    <br> - How do users interact with the 6.00.1x course on mobile devices?\n",
    "    <br> - What patterns of behavior can we see in the mobile clickstream data?\n",
    "    <br> - Hypothesis: Users on mobile click differently than non-mobile uers."
   ]
  },
  {
   "cell_type": "markdown",
   "metadata": {},
   "source": [
    "notes 1/27/2019\n",
    "<br> nfs = network file system\n",
    "<br> work with both courses\n",
    "<br>! command line, and filter NaNs, duration versus frequency for time spent on a page"
   ]
  },
  {
   "cell_type": "code",
   "execution_count": 1,
   "metadata": {},
   "outputs": [
    {
     "name": "stdout",
     "output_type": "stream",
     "text": [
      "MITx__6_00_1x_11__1T2017  MITx__6_00_1x_9__2T2016  MITx__6_00_2x_6__3T2016\r\n",
      "MITx__6_00_1x__2T2016\t  MITx__6_00_2x_5__1T2016  MITx__6_00_2x_7__1T2017\r\n"
     ]
    }
   ],
   "source": [
    "!ls /yw_data/alfad8/newmitx"
   ]
  },
  {
   "cell_type": "code",
   "execution_count": 2,
   "metadata": {},
   "outputs": [],
   "source": [
    "import pandas as pd\n",
    "import numpy as np\n",
    "from no_PII_Storage_folder import *"
   ]
  },
  {
   "cell_type": "code",
   "execution_count": 3,
   "metadata": {},
   "outputs": [],
   "source": [
    "user_data_org = pd.read_json('data/clickstream/sample_mitx_6002x_7_1t2017_log_data.json',  lines = True)"
   ]
  },
  {
   "cell_type": "code",
   "execution_count": 4,
   "metadata": {},
   "outputs": [
    {
     "data": {
      "text/html": [
       "<div>\n",
       "<style scoped>\n",
       "    .dataframe tbody tr th:only-of-type {\n",
       "        vertical-align: middle;\n",
       "    }\n",
       "\n",
       "    .dataframe tbody tr th {\n",
       "        vertical-align: top;\n",
       "    }\n",
       "\n",
       "    .dataframe thead th {\n",
       "        text-align: right;\n",
       "    }\n",
       "</style>\n",
       "<table border=\"1\" class=\"dataframe\">\n",
       "  <thead>\n",
       "    <tr style=\"text-align: right;\">\n",
       "      <th></th>\n",
       "      <th>agent</th>\n",
       "      <th>context</th>\n",
       "      <th>course_id</th>\n",
       "      <th>event</th>\n",
       "      <th>event_source</th>\n",
       "      <th>event_struct</th>\n",
       "      <th>event_type</th>\n",
       "      <th>host</th>\n",
       "      <th>ip</th>\n",
       "      <th>module_id</th>\n",
       "      <th>mongoid</th>\n",
       "      <th>name</th>\n",
       "      <th>page</th>\n",
       "      <th>session</th>\n",
       "      <th>time</th>\n",
       "      <th>username</th>\n",
       "    </tr>\n",
       "  </thead>\n",
       "  <tbody>\n",
       "    <tr>\n",
       "      <th>0</th>\n",
       "      <td>Mozilla/5.0 (Macintosh; Intel Mac OS X 10_11_6...</td>\n",
       "      <td>{'org_id': 'MITx', 'path': '/course_team/cours...</td>\n",
       "      <td>MITx/6.00.2x_7/1T2017</td>\n",
       "      <td>{\"course_id\": \"course-v1:MITx+6.00.2x_7+1T2017...</td>\n",
       "      <td>server</td>\n",
       "      <td>{'mode': 'audit', 'course_id': 'course-v1:MITx...</td>\n",
       "      <td>edx.course.enrollment.activated</td>\n",
       "      <td>studio.edx.org</td>\n",
       "      <td>18.189.12.11</td>\n",
       "      <td>NaN</td>\n",
       "      <td>{\"event_struct\": {\"state\": {}}, \"referer\": \"ht...</td>\n",
       "      <td>edx.course.enrollment.activated</td>\n",
       "      <td>NaN</td>\n",
       "      <td>5ac77cd1551f8a0b56b656395e712fd6</td>\n",
       "      <td>2016-12-07 21:42:40.253149 UTC</td>\n",
       "      <td>5d482518821e6facc112c940cab04e15</td>\n",
       "    </tr>\n",
       "    <tr>\n",
       "      <th>1</th>\n",
       "      <td>python-requests/2.9.1</td>\n",
       "      <td>{'org_id': 'MITx', 'path': '/api/commerce/v1/c...</td>\n",
       "      <td>MITx/6.00.2x_7/1T2017</td>\n",
       "      <td>{\"POST\": {}, \"GET\": {}}</td>\n",
       "      <td>server</td>\n",
       "      <td>{'POST': '{}', 'GET': '{}'}</td>\n",
       "      <td>/api/commerce/v1/courses/course-v1:MITx+6.00.2...</td>\n",
       "      <td>courses.edx.org</td>\n",
       "      <td>54.84.83.40</td>\n",
       "      <td>NaN</td>\n",
       "      <td>{\"event_struct\": {\"state\": {}}, \"referer\": \"\",...</td>\n",
       "      <td>NaN</td>\n",
       "      <td>NaN</td>\n",
       "      <td>NaN</td>\n",
       "      <td>2016-12-07 21:44:28.023229 UTC</td>\n",
       "      <td>d41d8cd98f00b204e9800998ecf8427e</td>\n",
       "    </tr>\n",
       "  </tbody>\n",
       "</table>\n",
       "</div>"
      ],
      "text/plain": [
       "                                               agent  \\\n",
       "0  Mozilla/5.0 (Macintosh; Intel Mac OS X 10_11_6...   \n",
       "1                              python-requests/2.9.1   \n",
       "\n",
       "                                             context              course_id  \\\n",
       "0  {'org_id': 'MITx', 'path': '/course_team/cours...  MITx/6.00.2x_7/1T2017   \n",
       "1  {'org_id': 'MITx', 'path': '/api/commerce/v1/c...  MITx/6.00.2x_7/1T2017   \n",
       "\n",
       "                                               event event_source  \\\n",
       "0  {\"course_id\": \"course-v1:MITx+6.00.2x_7+1T2017...       server   \n",
       "1                            {\"POST\": {}, \"GET\": {}}       server   \n",
       "\n",
       "                                        event_struct  \\\n",
       "0  {'mode': 'audit', 'course_id': 'course-v1:MITx...   \n",
       "1                        {'POST': '{}', 'GET': '{}'}   \n",
       "\n",
       "                                          event_type             host  \\\n",
       "0                    edx.course.enrollment.activated   studio.edx.org   \n",
       "1  /api/commerce/v1/courses/course-v1:MITx+6.00.2...  courses.edx.org   \n",
       "\n",
       "             ip module_id                                            mongoid  \\\n",
       "0  18.189.12.11       NaN  {\"event_struct\": {\"state\": {}}, \"referer\": \"ht...   \n",
       "1   54.84.83.40       NaN  {\"event_struct\": {\"state\": {}}, \"referer\": \"\",...   \n",
       "\n",
       "                              name page                           session  \\\n",
       "0  edx.course.enrollment.activated  NaN  5ac77cd1551f8a0b56b656395e712fd6   \n",
       "1                              NaN  NaN                               NaN   \n",
       "\n",
       "                             time                          username  \n",
       "0  2016-12-07 21:42:40.253149 UTC  5d482518821e6facc112c940cab04e15  \n",
       "1  2016-12-07 21:44:28.023229 UTC  d41d8cd98f00b204e9800998ecf8427e  "
      ]
     },
     "execution_count": 4,
     "metadata": {},
     "output_type": "execute_result"
    }
   ],
   "source": [
    "# Load data, taken from link_edx_appinventor, took out stuff that I couldn't tell was releveant or I didn't understand what it meant\n",
    "# files = os.listdir(user_data)\n",
    "# print(*files, sep='\\n')\n",
    "#id_map = pd.read_csv(os.path.join(user_data, ID_MAP_FILE_NAME))\n",
    "#print(id_map.info())\n",
    "\n",
    "user_data = user_data_org\n",
    "user_data['username'] = hash_column(user_data_org['username'])\n",
    "#user_data['mapped_username_on_alfa'] = hash_column(user_data_org['mapped_username_on_alfa'])\n",
    "\n",
    "user_data.head(2)\n",
    "\n",
    "# Save\n",
    "#id_map.to_csv(os.path.join(SAVE_DATA_PATH, edit_name(ID_MAP_FILE_NAME)))"
   ]
  },
  {
   "cell_type": "code",
   "execution_count": 5,
   "metadata": {},
   "outputs": [
    {
     "data": {
      "text/html": [
       "<div>\n",
       "<style scoped>\n",
       "    .dataframe tbody tr th:only-of-type {\n",
       "        vertical-align: middle;\n",
       "    }\n",
       "\n",
       "    .dataframe tbody tr th {\n",
       "        vertical-align: top;\n",
       "    }\n",
       "\n",
       "    .dataframe thead th {\n",
       "        text-align: right;\n",
       "    }\n",
       "</style>\n",
       "<table border=\"1\" class=\"dataframe\">\n",
       "  <thead>\n",
       "    <tr style=\"text-align: right;\">\n",
       "      <th></th>\n",
       "      <th>agent</th>\n",
       "      <th>event</th>\n",
       "      <th>event_source</th>\n",
       "      <th>name</th>\n",
       "      <th>time</th>\n",
       "      <th>username</th>\n",
       "    </tr>\n",
       "  </thead>\n",
       "  <tbody>\n",
       "    <tr>\n",
       "      <th>0</th>\n",
       "      <td>Mozilla/5.0 (Macintosh; Intel Mac OS X 10_11_6...</td>\n",
       "      <td>{\"course_id\": \"course-v1:MITx+6.00.2x_7+1T2017...</td>\n",
       "      <td>server</td>\n",
       "      <td>edx.course.enrollment.activated</td>\n",
       "      <td>2016-12-07 21:42:40.253149 UTC</td>\n",
       "      <td>5d482518821e6facc112c940cab04e15</td>\n",
       "    </tr>\n",
       "    <tr>\n",
       "      <th>1</th>\n",
       "      <td>python-requests/2.9.1</td>\n",
       "      <td>{\"POST\": {}, \"GET\": {}}</td>\n",
       "      <td>server</td>\n",
       "      <td>NaN</td>\n",
       "      <td>2016-12-07 21:44:28.023229 UTC</td>\n",
       "      <td>d41d8cd98f00b204e9800998ecf8427e</td>\n",
       "    </tr>\n",
       "    <tr>\n",
       "      <th>2</th>\n",
       "      <td>Mozilla/5.0 (X11; Fedora; Linux x86_64; rv:52....</td>\n",
       "      <td>\"input_e046dd76e3be475d90eed4972d966612_2_1=de...</td>\n",
       "      <td>browser</td>\n",
       "      <td>problem_save</td>\n",
       "      <td>2017-03-27 07:03:52.170765 UTC</td>\n",
       "      <td>86d70a75d701a090a36c9c3e07ed4b0f</td>\n",
       "    </tr>\n",
       "    <tr>\n",
       "      <th>3</th>\n",
       "      <td>Mozilla/5.0 (Macintosh; Intel Mac OS X 10_12_3...</td>\n",
       "      <td>\"input_e046dd76e3be475d90eed4972d966612_2_1=%2...</td>\n",
       "      <td>browser</td>\n",
       "      <td>problem_save</td>\n",
       "      <td>2017-03-27 23:35:27.52683 UTC</td>\n",
       "      <td>6527b22f2839a8f2fc8c243b5c6442ca</td>\n",
       "    </tr>\n",
       "    <tr>\n",
       "      <th>4</th>\n",
       "      <td>Mozilla/5.0 (X11; Fedora; Linux x86_64; rv:52....</td>\n",
       "      <td>\"input_e046dd76e3be475d90eed4972d966612_2_1=de...</td>\n",
       "      <td>browser</td>\n",
       "      <td>problem_save</td>\n",
       "      <td>2017-03-27 17:40:21.371003 UTC</td>\n",
       "      <td>86d70a75d701a090a36c9c3e07ed4b0f</td>\n",
       "    </tr>\n",
       "  </tbody>\n",
       "</table>\n",
       "</div>"
      ],
      "text/plain": [
       "                                               agent  \\\n",
       "0  Mozilla/5.0 (Macintosh; Intel Mac OS X 10_11_6...   \n",
       "1                              python-requests/2.9.1   \n",
       "2  Mozilla/5.0 (X11; Fedora; Linux x86_64; rv:52....   \n",
       "3  Mozilla/5.0 (Macintosh; Intel Mac OS X 10_12_3...   \n",
       "4  Mozilla/5.0 (X11; Fedora; Linux x86_64; rv:52....   \n",
       "\n",
       "                                               event event_source  \\\n",
       "0  {\"course_id\": \"course-v1:MITx+6.00.2x_7+1T2017...       server   \n",
       "1                            {\"POST\": {}, \"GET\": {}}       server   \n",
       "2  \"input_e046dd76e3be475d90eed4972d966612_2_1=de...      browser   \n",
       "3  \"input_e046dd76e3be475d90eed4972d966612_2_1=%2...      browser   \n",
       "4  \"input_e046dd76e3be475d90eed4972d966612_2_1=de...      browser   \n",
       "\n",
       "                              name                            time  \\\n",
       "0  edx.course.enrollment.activated  2016-12-07 21:42:40.253149 UTC   \n",
       "1                              NaN  2016-12-07 21:44:28.023229 UTC   \n",
       "2                     problem_save  2017-03-27 07:03:52.170765 UTC   \n",
       "3                     problem_save   2017-03-27 23:35:27.52683 UTC   \n",
       "4                     problem_save  2017-03-27 17:40:21.371003 UTC   \n",
       "\n",
       "                           username  \n",
       "0  5d482518821e6facc112c940cab04e15  \n",
       "1  d41d8cd98f00b204e9800998ecf8427e  \n",
       "2  86d70a75d701a090a36c9c3e07ed4b0f  \n",
       "3  6527b22f2839a8f2fc8c243b5c6442ca  \n",
       "4  86d70a75d701a090a36c9c3e07ed4b0f  "
      ]
     },
     "execution_count": 5,
     "metadata": {},
     "output_type": "execute_result"
    }
   ],
   "source": [
    "#delete unecessary columns, 'page could be interesting to look @ later'\n",
    "#will now look at 'name' instead of 'event_type' because \"When this field is present for an event, it supersedes the event_type field\"\n",
    "\n",
    "user_data = user_data.drop(['context', 'course_id', 'host', 'event_struct', 'event_type', 'ip', 'page', 'mongoid', 'session','module_id'], axis = 'columns')\n",
    "\n",
    "user_data.head(n=5)"
   ]
  },
  {
   "cell_type": "code",
   "execution_count": 6,
   "metadata": {
    "scrolled": false
   },
   "outputs": [
    {
     "name": "stdout",
     "output_type": "stream",
     "text": [
      "\n",
      "There are 8776 user-agents that contain:  Mobi or mobi\n"
     ]
    }
   ],
   "source": [
    "#Searches for mobile users and adds them to new data frame with ONLY mobile users\n",
    "\n",
    "keyword1 = \"Mobi\"\n",
    "keyword2 = \"mobi\"\n",
    "total = 0\n",
    "mobile_data = pd.DataFrame()\n",
    "\n",
    "for count in range(len(user_data)):\n",
    "    if keyword1 in user_data['agent'][count]:\n",
    "        mobile_data[total] = user_data.loc[count]\n",
    "        total += 1\n",
    "    elif keyword2 in user_data['agent'][count]:\n",
    "        mobile_data[total] = user_data.loc[count]\n",
    "        total += 1\n",
    "    else:\n",
    "        continue\n",
    "        \n",
    "print(\"\\nThere are \" + str(total) + \" user-agents that contain:  \" + keyword1 + \" or \" + keyword2)\n",
    "\n",
    "mobile_data = mobile_data.T\n",
    "\n",
    "# Mobi ref : https://delib.zendesk.com/hc/en-us/articles/203431259-Browser-device-identification-how-to-find-out-which-browser-and-device-have-been-used-to-submit-a-response"
   ]
  },
  {
   "cell_type": "code",
   "execution_count": 7,
   "metadata": {
    "scrolled": true
   },
   "outputs": [
    {
     "data": {
      "text/html": [
       "<div>\n",
       "<style scoped>\n",
       "    .dataframe tbody tr th:only-of-type {\n",
       "        vertical-align: middle;\n",
       "    }\n",
       "\n",
       "    .dataframe tbody tr th {\n",
       "        vertical-align: top;\n",
       "    }\n",
       "\n",
       "    .dataframe thead th {\n",
       "        text-align: right;\n",
       "    }\n",
       "</style>\n",
       "<table border=\"1\" class=\"dataframe\">\n",
       "  <thead>\n",
       "    <tr style=\"text-align: right;\">\n",
       "      <th></th>\n",
       "      <th>agent</th>\n",
       "      <th>event</th>\n",
       "      <th>event_source</th>\n",
       "      <th>name</th>\n",
       "      <th>time</th>\n",
       "      <th>username</th>\n",
       "    </tr>\n",
       "  </thead>\n",
       "  <tbody>\n",
       "    <tr>\n",
       "      <th>0</th>\n",
       "      <td>Mozilla/5.0 (Linux; Android 7.1.1; A0001 Build...</td>\n",
       "      <td>\"input_cfae2cb6f0da4921a9420e11311c6762_2_1=co...</td>\n",
       "      <td>browser</td>\n",
       "      <td>problem_check</td>\n",
       "      <td>2017-03-27 16:21:54.930867 UTC</td>\n",
       "      <td>1fc8371d6fb5d841af64503da54e4ec4</td>\n",
       "    </tr>\n",
       "    <tr>\n",
       "      <th>1</th>\n",
       "      <td>Mozilla/5.0 (iPad; CPU OS 9_3_5 like Mac OS X)...</td>\n",
       "      <td>\"input_809315f1470f4c95a176f37dd6dbbe82_2_1=n&amp;...</td>\n",
       "      <td>browser</td>\n",
       "      <td>problem_check</td>\n",
       "      <td>2017-03-27 12:55:42.111315 UTC</td>\n",
       "      <td>aa75ce9861e361e2201c070fee4876ae</td>\n",
       "    </tr>\n",
       "    <tr>\n",
       "      <th>2</th>\n",
       "      <td>Mozilla/5.0 (Linux; Android 5.0.2; HTC One Bui...</td>\n",
       "      <td>\"input_2dc927b6795c49b28c6fbf0d2f03f4f0_2_1=im...</td>\n",
       "      <td>browser</td>\n",
       "      <td>problem_check</td>\n",
       "      <td>2017-03-27 19:03:01.540341 UTC</td>\n",
       "      <td>f7c9b5ba8e176a40998faa3874f04378</td>\n",
       "    </tr>\n",
       "    <tr>\n",
       "      <th>3</th>\n",
       "      <td>Mozilla/5.0 (Linux; Android 5.0.2; HTC One Bui...</td>\n",
       "      <td>\"input_350ac7c7a24749fbb3b101feaa3f6be9_2_1=im...</td>\n",
       "      <td>browser</td>\n",
       "      <td>problem_check</td>\n",
       "      <td>2017-03-27 18:54:05.892719 UTC</td>\n",
       "      <td>f7c9b5ba8e176a40998faa3874f04378</td>\n",
       "    </tr>\n",
       "    <tr>\n",
       "      <th>4</th>\n",
       "      <td>Mozilla/5.0 (iPad; CPU OS 9_3_5 like Mac OS X)...</td>\n",
       "      <td>\"input_e20574ba7033439abe5a13923128734e_2_1=ch...</td>\n",
       "      <td>browser</td>\n",
       "      <td>problem_check</td>\n",
       "      <td>2017-03-27 21:12:43.481938 UTC</td>\n",
       "      <td>b3f3085d31e232ce60b89a562398a25f</td>\n",
       "    </tr>\n",
       "    <tr>\n",
       "      <th>5</th>\n",
       "      <td>Mozilla/5.0 (Linux; Android 5.1; XT1032 Build/...</td>\n",
       "      <td>\"input_e20574ba7033439abe5a13923128734e_2_1=ch...</td>\n",
       "      <td>browser</td>\n",
       "      <td>problem_check</td>\n",
       "      <td>2017-03-27 17:55:48.382141 UTC</td>\n",
       "      <td>4753bd3ceb797e82aabe1addef241d4e</td>\n",
       "    </tr>\n",
       "    <tr>\n",
       "      <th>6</th>\n",
       "      <td>Mozilla/5.0 (iPad; CPU OS 10_2_1 like Mac OS X...</td>\n",
       "      <td>\"input_6bd14cc011dd4697bad2141681f85e04_2_1=n*...</td>\n",
       "      <td>browser</td>\n",
       "      <td>problem_check</td>\n",
       "      <td>2017-03-27 06:05:01.180714 UTC</td>\n",
       "      <td>d39491d5e973c40e3b1e5957cce823ee</td>\n",
       "    </tr>\n",
       "    <tr>\n",
       "      <th>7</th>\n",
       "      <td>Mozilla/5.0 (Linux; Android 4.4.2; Lenovo S850...</td>\n",
       "      <td>\"input_63c84cff34bd4d888a73a4f4281faa5d_2_1%5B...</td>\n",
       "      <td>browser</td>\n",
       "      <td>problem_check</td>\n",
       "      <td>2017-03-27 08:12:37.832547 UTC</td>\n",
       "      <td>6e1b401adef4664bbc5b17f8bbbb4c3f</td>\n",
       "    </tr>\n",
       "  </tbody>\n",
       "</table>\n",
       "</div>"
      ],
      "text/plain": [
       "                                               agent  \\\n",
       "0  Mozilla/5.0 (Linux; Android 7.1.1; A0001 Build...   \n",
       "1  Mozilla/5.0 (iPad; CPU OS 9_3_5 like Mac OS X)...   \n",
       "2  Mozilla/5.0 (Linux; Android 5.0.2; HTC One Bui...   \n",
       "3  Mozilla/5.0 (Linux; Android 5.0.2; HTC One Bui...   \n",
       "4  Mozilla/5.0 (iPad; CPU OS 9_3_5 like Mac OS X)...   \n",
       "5  Mozilla/5.0 (Linux; Android 5.1; XT1032 Build/...   \n",
       "6  Mozilla/5.0 (iPad; CPU OS 10_2_1 like Mac OS X...   \n",
       "7  Mozilla/5.0 (Linux; Android 4.4.2; Lenovo S850...   \n",
       "\n",
       "                                               event event_source  \\\n",
       "0  \"input_cfae2cb6f0da4921a9420e11311c6762_2_1=co...      browser   \n",
       "1  \"input_809315f1470f4c95a176f37dd6dbbe82_2_1=n&...      browser   \n",
       "2  \"input_2dc927b6795c49b28c6fbf0d2f03f4f0_2_1=im...      browser   \n",
       "3  \"input_350ac7c7a24749fbb3b101feaa3f6be9_2_1=im...      browser   \n",
       "4  \"input_e20574ba7033439abe5a13923128734e_2_1=ch...      browser   \n",
       "5  \"input_e20574ba7033439abe5a13923128734e_2_1=ch...      browser   \n",
       "6  \"input_6bd14cc011dd4697bad2141681f85e04_2_1=n*...      browser   \n",
       "7  \"input_63c84cff34bd4d888a73a4f4281faa5d_2_1%5B...      browser   \n",
       "\n",
       "            name                            time  \\\n",
       "0  problem_check  2017-03-27 16:21:54.930867 UTC   \n",
       "1  problem_check  2017-03-27 12:55:42.111315 UTC   \n",
       "2  problem_check  2017-03-27 19:03:01.540341 UTC   \n",
       "3  problem_check  2017-03-27 18:54:05.892719 UTC   \n",
       "4  problem_check  2017-03-27 21:12:43.481938 UTC   \n",
       "5  problem_check  2017-03-27 17:55:48.382141 UTC   \n",
       "6  problem_check  2017-03-27 06:05:01.180714 UTC   \n",
       "7  problem_check  2017-03-27 08:12:37.832547 UTC   \n",
       "\n",
       "                           username  \n",
       "0  1fc8371d6fb5d841af64503da54e4ec4  \n",
       "1  aa75ce9861e361e2201c070fee4876ae  \n",
       "2  f7c9b5ba8e176a40998faa3874f04378  \n",
       "3  f7c9b5ba8e176a40998faa3874f04378  \n",
       "4  b3f3085d31e232ce60b89a562398a25f  \n",
       "5  4753bd3ceb797e82aabe1addef241d4e  \n",
       "6  d39491d5e973c40e3b1e5957cce823ee  \n",
       "7  6e1b401adef4664bbc5b17f8bbbb4c3f  "
      ]
     },
     "execution_count": 7,
     "metadata": {},
     "output_type": "execute_result"
    }
   ],
   "source": [
    "mobile_data.head(n = 8)"
   ]
  },
  {
   "cell_type": "code",
   "execution_count": 8,
   "metadata": {},
   "outputs": [
    {
     "name": "stdout",
     "output_type": "stream",
     "text": [
      "3\n",
      "['server' 'browser' 'mobile']\n"
     ]
    }
   ],
   "source": [
    "num_unique = user_data['event_source'].nunique(dropna = True)\n",
    "unique_es = user_data['event_source'].unique()\n",
    "print(num_unique)\n",
    "print(unique_es)"
   ]
  },
  {
   "cell_type": "code",
   "execution_count": 9,
   "metadata": {},
   "outputs": [
    {
     "name": "stdout",
     "output_type": "stream",
     "text": [
      "\n",
      "There are 1877 event-sources that contain:  mobi\n"
     ]
    }
   ],
   "source": [
    "#check for mobile info in event source for comparison to user_agent info\n",
    "\n",
    "keyword = \"mobi\"\n",
    "total = 0\n",
    "mobile_data_es = pd.DataFrame()\n",
    "\n",
    "for count in range(len(user_data)):\n",
    "    if keyword in user_data['event_source'][count]:\n",
    "        mobile_data_es[total] = user_data.loc[count]\n",
    "        total += 1\n",
    "    else:\n",
    "        continue\n",
    "        \n",
    "print(\"\\nThere are \" + str(total) + \" event-sources that contain:  \" + keyword )\n",
    "\n",
    "mobile_data_es = mobile_data_es.T"
   ]
  },
  {
   "cell_type": "code",
   "execution_count": 10,
   "metadata": {},
   "outputs": [],
   "source": [
    "# print(user_data['name'][12])\n",
    "# print(user_data['event'][12])"
   ]
  },
  {
   "cell_type": "code",
   "execution_count": 18,
   "metadata": {},
   "outputs": [
    {
     "name": "stdout",
     "output_type": "stream",
     "text": [
      "\n",
      "There are 163 unique agents.\n",
      "\n",
      "There are 4154 unique events.\n",
      "\n",
      "There are 26 unique names.\n",
      "\n",
      "There are 2 unique event_sources.\n",
      "\n",
      "There are 177 unique usernames.\n",
      "\n",
      " ['problem_check' 'problem_reset' 'problem_graded' 'page_close' nan\n",
      " 'stop_video' 'pause_video' 'problem_show' 'hide_transcript'\n",
      " 'show_transcript' 'edx.ui.lms.link_clicked' 'edx.ui.lms.outline.selected'\n",
      " 'edx.grades.problem.submitted' 'edx.course.enrollment.activated'\n",
      " 'edx.video.closed_captions.shown' 'edx.video.closed_captions.hidden'\n",
      " 'edx.course.enrollment.deactivated' 'edx.ui.lms.sequence.next_selected'\n",
      " 'edx.course.home.resume_course.clicked'\n",
      " 'edx.ui.lms.sequence.previous_selected'\n",
      " 'edx.course.student_notes.notes_page_viewed' 'load_video' 'play_video'\n",
      " 'seek_video' 'edx.ui.lms.sequence.tab_selected' 'problem_save'\n",
      " 'edx.forum.comment.created']\n",
      "\n",
      " ['browser' 'server']\n"
     ]
    }
   ],
   "source": [
    "#count different distinct events, then event types\n",
    "#agent = mobile device/browser info, event =  includes member fields that identify specifics of each triggered event (?)\n",
    "#name = event type, event_source = the source of the interaction that triggered the event\n",
    "\n",
    "#mobile_data.nunique(axis = 0, dropna=True)\n",
    "col_names = ['agent', 'event', 'name', 'event_source', 'username']\n",
    "list_names = ['unique_agents', 'unique_events', 'unique_names', 'unique_event_sources', 'unique_usernames']\n",
    "num_unique = []\n",
    "all_uniques = []\n",
    "\n",
    "def unique_counts(col_names, mobile_data):\n",
    "    for count in range(len(col_names)):   \n",
    "        list_names[count] = []\n",
    "        list_names[count] = mobile_data[col_names[count]].unique()\n",
    "        num_unique = mobile_data[col_names[count]].nunique(dropna = True)\n",
    "        print(\"\\nThere are \" + str(num_unique) + \" unique \" + str(col_names[count]) + \"s.\")\n",
    "        all_uniques.append(list_names[count])\n",
    "    return (all_uniques)\n",
    "        \n",
    "all_uniques = unique_counts(col_names, mobile_data)\n",
    "\n",
    "print(\"\\n\", all_uniques[2])\n",
    "print(\"\\n\", all_uniques[3])"
   ]
  },
  {
   "cell_type": "code",
   "execution_count": 12,
   "metadata": {},
   "outputs": [
    {
     "data": {
      "text/plain": [
       "500000"
      ]
     },
     "execution_count": 12,
     "metadata": {},
     "output_type": "execute_result"
    }
   ],
   "source": [
    "len(user_data)"
   ]
  },
  {
   "cell_type": "markdown",
   "metadata": {},
   "source": [
    "# Check data with NaN elements removed"
   ]
  },
  {
   "cell_type": "markdown",
   "metadata": {},
   "source": [
    "NONE of the the clicks that suggest a mobile device from 'user_agent' info are also listed as mobile in 'event_source info'"
   ]
  },
  {
   "cell_type": "code",
   "execution_count": 13,
   "metadata": {},
   "outputs": [
    {
     "name": "stdout",
     "output_type": "stream",
     "text": [
      "246502\n"
     ]
    },
    {
     "data": {
      "text/html": [
       "<div>\n",
       "<style scoped>\n",
       "    .dataframe tbody tr th:only-of-type {\n",
       "        vertical-align: middle;\n",
       "    }\n",
       "\n",
       "    .dataframe tbody tr th {\n",
       "        vertical-align: top;\n",
       "    }\n",
       "\n",
       "    .dataframe thead th {\n",
       "        text-align: right;\n",
       "    }\n",
       "</style>\n",
       "<table border=\"1\" class=\"dataframe\">\n",
       "  <thead>\n",
       "    <tr style=\"text-align: right;\">\n",
       "      <th></th>\n",
       "      <th>agent</th>\n",
       "      <th>event</th>\n",
       "      <th>event_source</th>\n",
       "      <th>name</th>\n",
       "      <th>time</th>\n",
       "      <th>username</th>\n",
       "    </tr>\n",
       "  </thead>\n",
       "  <tbody>\n",
       "    <tr>\n",
       "      <th>0</th>\n",
       "      <td>Mozilla/5.0 (Macintosh; Intel Mac OS X 10_11_6...</td>\n",
       "      <td>{\"course_id\": \"course-v1:MITx+6.00.2x_7+1T2017...</td>\n",
       "      <td>server</td>\n",
       "      <td>edx.course.enrollment.activated</td>\n",
       "      <td>2016-12-07 21:42:40.253149 UTC</td>\n",
       "      <td>5d482518821e6facc112c940cab04e15</td>\n",
       "    </tr>\n",
       "    <tr>\n",
       "      <th>1</th>\n",
       "      <td>Mozilla/5.0 (X11; Fedora; Linux x86_64; rv:52....</td>\n",
       "      <td>\"input_e046dd76e3be475d90eed4972d966612_2_1=de...</td>\n",
       "      <td>browser</td>\n",
       "      <td>problem_save</td>\n",
       "      <td>2017-03-27 07:03:52.170765 UTC</td>\n",
       "      <td>86d70a75d701a090a36c9c3e07ed4b0f</td>\n",
       "    </tr>\n",
       "  </tbody>\n",
       "</table>\n",
       "</div>"
      ],
      "text/plain": [
       "                                               agent  \\\n",
       "0  Mozilla/5.0 (Macintosh; Intel Mac OS X 10_11_6...   \n",
       "1  Mozilla/5.0 (X11; Fedora; Linux x86_64; rv:52....   \n",
       "\n",
       "                                               event event_source  \\\n",
       "0  {\"course_id\": \"course-v1:MITx+6.00.2x_7+1T2017...       server   \n",
       "1  \"input_e046dd76e3be475d90eed4972d966612_2_1=de...      browser   \n",
       "\n",
       "                              name                            time  \\\n",
       "0  edx.course.enrollment.activated  2016-12-07 21:42:40.253149 UTC   \n",
       "1                     problem_save  2017-03-27 07:03:52.170765 UTC   \n",
       "\n",
       "                           username  \n",
       "0  5d482518821e6facc112c940cab04e15  \n",
       "1  86d70a75d701a090a36c9c3e07ed4b0f  "
      ]
     },
     "execution_count": 13,
     "metadata": {},
     "output_type": "execute_result"
    }
   ],
   "source": [
    "user_data_no_nan = user_data.dropna()\n",
    "user_data_no_nan = user_data_no_nan.reset_index(drop=True)\n",
    "print(len(user_data_no_nan))\n",
    "user_data_no_nan.head(n = 2)"
   ]
  },
  {
   "cell_type": "code",
   "execution_count": 14,
   "metadata": {},
   "outputs": [
    {
     "name": "stdout",
     "output_type": "stream",
     "text": [
      "\n",
      "There are 3837 user-agents that contain:  Mobi or mobi\n"
     ]
    }
   ],
   "source": [
    "#Searches for mobile users and adds them to new data frame with ONLY mobile users (WITH NAN GONE)\n",
    "\n",
    "keyword1 = \"Mobi\"\n",
    "keyword2 = \"mobi\"\n",
    "total = 0\n",
    "mobile_data_no_nan = pd.DataFrame()\n",
    "\n",
    "for count in range(len(user_data_no_nan)):\n",
    "    if keyword1 in user_data_no_nan['agent'][count]:\n",
    "        mobile_data_no_nan[total] = user_data_no_nan.loc[count]\n",
    "        total += 1\n",
    "    elif keyword2 in user_data_no_nan['agent'][count]:\n",
    "        mobile_data_no_nan[total] = user_data_no_nan.loc[count]\n",
    "        total += 1\n",
    "    else:\n",
    "        continue\n",
    "        \n",
    "print(\"\\nThere are \" + str(total) + \" user-agents that contain:  \" + keyword1 + \" or \" + keyword2)\n",
    "\n",
    "mobile_data_no_nan = mobile_data_no_nan.T"
   ]
  },
  {
   "cell_type": "code",
   "execution_count": 15,
   "metadata": {},
   "outputs": [
    {
     "name": "stdout",
     "output_type": "stream",
     "text": [
      "\n",
      "There are 108 unique agents.\n",
      "\n",
      "There are 2250 unique events.\n",
      "\n",
      "There are 26 unique names.\n",
      "\n",
      "There are 2 unique event_sources.\n",
      "['browser' 'server']\n"
     ]
    }
   ],
   "source": [
    "col_names = ['agent', 'event', 'name', 'event_source']\n",
    "list_names = ['unique_agents', 'unique_events', 'unique_names', 'unique_event_sources']\n",
    "num_unique = []\n",
    "all_uniques = []\n",
    "\n",
    "def unique_counts(col_names, mobile_data_no_nan):\n",
    "    for count in range(len(col_names)):   \n",
    "        list_names[count] = []\n",
    "        list_names[count] = mobile_data_no_nan[col_names[count]].unique()\n",
    "        num_unique = mobile_data_no_nan[col_names[count]].nunique(dropna = True)\n",
    "        print(\"\\nThere are \" + str(num_unique) + \" unique \" + str(col_names[count]) + \"s.\")\n",
    "        all_uniques.append(list_names[count])\n",
    "    return (all_uniques)\n",
    "        \n",
    "all_uniques = unique_counts(col_names, mobile_data_no_nan)\n",
    "\n",
    "print(all_uniques[3])"
   ]
  },
  {
   "cell_type": "markdown",
   "metadata": {},
   "source": [
    "# Visualizing Data"
   ]
  },
  {
   "cell_type": "markdown",
   "metadata": {},
   "source": [
    "plot to visualize modes, distributions, etc."
   ]
  },
  {
   "cell_type": "code",
   "execution_count": null,
   "metadata": {},
   "outputs": [],
   "source": []
  }
 ],
 "metadata": {
  "kernelspec": {
   "display_name": "Python 3",
   "language": "python",
   "name": "python3"
  },
  "language_info": {
   "codemirror_mode": {
    "name": "ipython",
    "version": 3
   },
   "file_extension": ".py",
   "mimetype": "text/x-python",
   "name": "python",
   "nbconvert_exporter": "python",
   "pygments_lexer": "ipython3",
   "version": "3.5.7"
  }
 },
 "nbformat": 4,
 "nbformat_minor": 2
}

{
 "cells": [
  {
   "cell_type": "code",
   "execution_count": 1,
   "metadata": {},
   "outputs": [],
   "source": [
    "import pandas as pd\n",
    "from scipy.stats import *\n",
    "from matplotlib import pyplot\n",
    "from math import *\n",
    "import matplotlib.pyplot as plt"
   ]
  },
  {
   "cell_type": "code",
   "execution_count": 2,
   "metadata": {},
   "outputs": [],
   "source": [
    "%run all_utilities.ipynb\n",
    "#all functions are located in this notebook"
   ]
  },
  {
   "cell_type": "markdown",
   "metadata": {},
   "source": [
    "# Which test to use? On what data?"
   ]
  },
  {
   "cell_type": "markdown",
   "metadata": {},
   "source": [
    "Use the nonparametric Wilcoxon Signed-Rank Test, it:\n",
    "<br>Tests whether the distributions of two paired samples are equal or not.\n",
    "<br>Assumptions:\n",
    "<br>-Observations in each sample are independent and identically distributed (iid).\n",
    "<br>-Observations in each sample can be ranked.\n",
    "<br>-Observations across each sample are paired.\n",
    "<br>Use on the delta_mean data because it is paired\n",
    "<br>***What can we conclude? 2EXP***\n",
    "<br>-all delta_mean values for know_programming users are greater than absolutely_none in regard to distinct attempts (for correctness, this is true for all but one question)\n",
    "<br>-two p-values << 0.05 indicates that there is a statistically sigificant difference between the medians of the delta_means for both distinct attempts and correctness\n",
    "<br>-\"The difference in delta means is not equal to zero\"\n",
    "<br>-Look at each question separately (thousands of data points instead of 21), or is this sufficient? Could alternatively look at means instead of delta_means, does it matter?\n",
    "<br>***What can we conclude? 3EXP***\n",
    "<br>-know vs. other : no significant difference in median delta_means for distinct attempts, but there is a significant difference in median delta_means for correctness \n",
    "<br>-other vs. none : significant difference in median delta_means for distinct attempts AND a significant difference in median delta_means for correctness (same for know vs. none) "
   ]
  },
  {
   "cell_type": "markdown",
   "metadata": {},
   "source": [
    "# 2EXP"
   ]
  },
  {
   "cell_type": "code",
   "execution_count": 3,
   "metadata": {},
   "outputs": [
    {
     "name": "stdout",
     "output_type": "stream",
     "text": [
      "21\n",
      "21\n",
      "21\n",
      "21\n"
     ]
    }
   ],
   "source": [
    "df_know = pd.read_csv(r'delta_know_dist.csv')\n",
    "df_none = pd.read_csv(r'delta_none_dist.csv')\n",
    "\n",
    "data_distinct_know = df_know.delta_mean.tolist()\n",
    "data_distinct_none = df_none.delta_mean.tolist()\n",
    "\n",
    "df_know_corr = pd.read_csv(r'delta_know_corr.csv')\n",
    "df_none_corr = pd.read_csv(r'delta_none_corr.csv')\n",
    "\n",
    "data_corr_know = df_know_corr.delta_mean.tolist()\n",
    "data_corr_none = df_none_corr.delta_mean.tolist()\n",
    "\n",
    "print(len(data_corr_know))\n",
    "print(len(data_corr_none))\n",
    "print(len(data_distinct_know))\n",
    "print(len(data_distinct_none))"
   ]
  },
  {
   "cell_type": "code",
   "execution_count": 4,
   "metadata": {},
   "outputs": [
    {
     "name": "stdout",
     "output_type": "stream",
     "text": [
      "Delta Mean Distinct Attempts:\n",
      "  Statistic=0.000, p=0.00005957\n",
      "  Samples do not look equal (reject H0)\n",
      "\n",
      "Delta Mean Correctness:\n",
      "  Statistic=3.000, p=0.00009221\n",
      "  Samples do not look equal (reject H0)\n"
     ]
    }
   ],
   "source": [
    "wilcoxon_test(data_distinct_know, data_distinct_none, data_corr_know, data_corr_none)"
   ]
  },
  {
   "cell_type": "code",
   "execution_count": 5,
   "metadata": {},
   "outputs": [],
   "source": [
    "# pyplot.hist(data_distinct_know, bins=20)\n",
    "# plt.xlim(-5, 2)\n",
    "# pyplot.show()\n",
    "# pyplot.hist(data_distinct_none, bins = 20)\n",
    "# plt.xlim(-5, 2)\n",
    "# pyplot.show()\n",
    "# pyplot.hist(data_corr_know, bins=20)\n",
    "# plt.xlim(-.15, .05)\n",
    "# pyplot.show()\n",
    "# pyplot.hist(data_corr_none, bins = 20)\n",
    "# plt.xlim(-.15, .05)\n",
    "# pyplot.show()"
   ]
  },
  {
   "cell_type": "markdown",
   "metadata": {},
   "source": [
    "# 3EXP"
   ]
  },
  {
   "cell_type": "code",
   "execution_count": 6,
   "metadata": {},
   "outputs": [
    {
     "name": "stdout",
     "output_type": "stream",
     "text": [
      "21\n",
      "21\n",
      "21\n",
      "21\n"
     ]
    }
   ],
   "source": [
    "df_know = pd.read_csv(r'delta_know_dist_3exp.csv')\n",
    "df_other = pd.read_csv(r'delta_other_dist_3exp.csv')\n",
    "\n",
    "data_distinct_know = df_know.delta_mean.tolist()\n",
    "data_distinct_other = df_other.delta_mean.tolist()\n",
    "\n",
    "df_know_corr = pd.read_csv(r'delta_know_corr_3exp.csv')\n",
    "df_other_corr = pd.read_csv(r'delta_other_corr_3exp.csv')\n",
    "\n",
    "data_corr_know = df_know_corr.delta_mean.tolist()\n",
    "data_corr_other = df_other_corr.delta_mean.tolist()\n",
    "\n",
    "print(len(data_distinct_know))\n",
    "print(len(data_distinct_other))\n",
    "print(len(data_corr_know))\n",
    "print(len(data_corr_other))"
   ]
  },
  {
   "cell_type": "code",
   "execution_count": 7,
   "metadata": {},
   "outputs": [
    {
     "name": "stdout",
     "output_type": "stream",
     "text": [
      "Delta Mean Distinct Attempts:\n",
      "  Statistic=85.000, p=0.28909532\n",
      "  Samples look equal (fail to reject H0)\n",
      "\n",
      "Delta Mean Correctness:\n",
      "  Statistic=19.000, p=0.00079620\n",
      "  Samples do not look equal (reject H0)\n"
     ]
    }
   ],
   "source": [
    "#compare know and other\n",
    "#run with Bonferroni correction\n",
    "wilcoxon_test_bon(data_distinct_know, data_distinct_other, data_corr_know, data_corr_other)"
   ]
  },
  {
   "cell_type": "code",
   "execution_count": 8,
   "metadata": {},
   "outputs": [
    {
     "name": "stdout",
     "output_type": "stream",
     "text": [
      "Delta Mean Distinct Attempts:\n",
      "  Statistic=1.000, p=0.00006899\n",
      "  Samples do not look equal (reject H0)\n",
      "\n",
      "Delta Mean Correctness:\n",
      "  Statistic=3.000, p=0.00009221\n",
      "  Samples do not look equal (reject H0)\n"
     ]
    }
   ],
   "source": [
    "#compare other and none\n",
    "wilcoxon_test_bon(data_distinct_other, data_distinct_none, data_corr_other, data_corr_none)"
   ]
  },
  {
   "cell_type": "code",
   "execution_count": 9,
   "metadata": {},
   "outputs": [
    {
     "name": "stdout",
     "output_type": "stream",
     "text": [
      "Delta Mean Distinct Attempts:\n",
      "  Statistic=0.000, p=0.00005957\n",
      "  Samples do not look equal (reject H0)\n",
      "\n",
      "Delta Mean Correctness:\n",
      "  Statistic=3.000, p=0.00009221\n",
      "  Samples do not look equal (reject H0)\n"
     ]
    }
   ],
   "source": [
    "#compare know and none\n",
    "wilcoxon_test_bon(data_distinct_know, data_distinct_none, data_corr_know, data_corr_none)"
   ]
  }
 ],
 "metadata": {
  "kernelspec": {
   "display_name": "Python 3",
   "language": "python",
   "name": "python3"
  },
  "language_info": {
   "codemirror_mode": {
    "name": "ipython",
    "version": 3
   },
   "file_extension": ".py",
   "mimetype": "text/x-python",
   "name": "python",
   "nbconvert_exporter": "python",
   "pygments_lexer": "ipython3",
   "version": "3.7.4"
  }
 },
 "nbformat": 4,
 "nbformat_minor": 2
}

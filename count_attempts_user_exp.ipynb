{
 "cells": [
  {
   "cell_type": "markdown",
   "metadata": {},
   "source": [
    "# Original Goal:\n",
    "Load the data that Erik provided into this python notebook for analysis. Specifically, look at the count of distinct attempts (and optionally experience level) for one skill question (1-1) and one problem-solving question (2-3). Look at the 2016 and 2017 data separately (graph, calculate averages, etc.) and then aggregate them to look for patterns on a more macro scale."
   ]
  },
  {
   "cell_type": "markdown",
   "metadata": {},
   "source": [
    "Question 1-1 is a skill-based question in which the user is writes a short code that counts and prints the number of vowels in a string."
   ]
  },
  {
   "cell_type": "markdown",
   "metadata": {},
   "source": [
    "Question 2-3 is a problem-solving question that requires the user to write a code that finds the smallest monthly payment that an individual can pay per month that would allow them to pay off their debt in a year given a specificed interest rate. This question focuses on using a bisection technique to speed up code written in the previous question in this problem set. "
   ]
  },
  {
   "cell_type": "markdown",
   "metadata": {},
   "source": [
    "*Now Extend to all questions*"
   ]
  },
  {
   "cell_type": "markdown",
   "metadata": {},
   "source": [
    "# Some Potential Research Questions"
   ]
  },
  {
   "cell_type": "markdown",
   "metadata": {},
   "source": [
    "-Is there one coder-experience group that significantly outperforms all other groups in the course in regard to skill-based questions? Problem-solving questions? Both?"
   ]
  },
  {
   "cell_type": "markdown",
   "metadata": {},
   "source": [
    "-How do number of attempts vary as the course progesses? Down because people are giving up? Down because they are more experienced? Up because the problems are harder? Down for certain groups, up for others?"
   ]
  },
  {
   "cell_type": "markdown",
   "metadata": {},
   "source": [
    "-Can we identify a turning point? (point where we can observe a potentially significant shift in attempts and/or accuracy)"
   ]
  },
  {
   "cell_type": "code",
   "execution_count": 1,
   "metadata": {},
   "outputs": [],
   "source": [
    "#need to add 'data/clickstream/csv' before all .cvs filenames"
   ]
  },
  {
   "cell_type": "code",
   "execution_count": 2,
   "metadata": {},
   "outputs": [],
   "source": [
    "# Load the Pandas library with alias 'pd'\n",
    "import pandas as pd\n",
    "from pandas import DataFrame\n",
    "import matplotlib.pyplot as plt\n",
    "import numpy as np\n",
    "import seaborn as sns\n",
    "\n",
    "# Name data file\n",
    "from Data import *"
   ]
  },
  {
   "cell_type": "code",
   "execution_count": 3,
   "metadata": {},
   "outputs": [],
   "source": [
    "# Specify columns and path\n",
    "cols = [0, 2, 4, 5]\n",
    "\n",
    "path_to_files = 'data/clickstream/csv/'"
   ]
  },
  {
   "cell_type": "code",
   "execution_count": 4,
   "metadata": {},
   "outputs": [],
   "source": [
    "#2016 Data for each question grouped by user experience \n",
    "df = []\n",
    "\n",
    "for count in range(len(data_2016)):\n",
    "    df = pd.read_csv(path_to_files + data_2016[count], index_col=0, usecols=cols)\n",
    "   # print(df.head(), \"\\n\")\n",
    "   # print(data_2016[count], '\\n')\n",
    "   # print(df.groupby(['user_exp']).mean(), '\\n')"
   ]
  },
  {
   "cell_type": "code",
   "execution_count": 5,
   "metadata": {},
   "outputs": [],
   "source": [
    "#2017 Data for each question grouped by user experience \n",
    "\n",
    "for count in range(len(data_2017)):\n",
    "    df = pd.read_csv(path_to_files + data_2017[count], index_col=0, usecols=cols)"
   ]
  },
  {
   "cell_type": "code",
   "execution_count": 6,
   "metadata": {},
   "outputs": [],
   "source": [
    "#2016 AND 2017 Data for each question grouped by user experience (concatenated data)\n",
    "\n",
    "store_data = pd.DataFrame()\n",
    "\n",
    "for count in range(len(data_agg)):\n",
    "    df_1 = pd.read_csv(path_to_files + data_years[0] + data_agg[count], index_col=0, usecols=cols)     \n",
    "    df_2 = pd.read_csv(path_to_files + data_years[1] + data_agg[count], index_col=0, usecols=cols)\n",
    "    DF = df_1.append(df_2)\n",
    "    DF.insert(2, \"question\", data_agg[count], True) \n",
    "    \n",
    "    store_data = pd.concat([store_data, DF], axis = 0, sort = False)\n",
    "store_data = store_data.reset_index()\n",
    "\n",
    "#rank sum / diff column / descript."
   ]
  },
  {
   "cell_type": "markdown",
   "metadata": {},
   "source": [
    "# 2016 and 2017 COMBINED User Exp / Accuracy / Attempts"
   ]
  },
  {
   "cell_type": "code",
   "execution_count": 7,
   "metadata": {},
   "outputs": [
    {
     "name": "stdout",
     "output_type": "stream",
     "text": [
      "3176\n",
      "3227\n",
      "3101\n"
     ]
    }
   ],
   "source": [
    "one_2016= path_to_files + '2016_unit2_pb3_history.csv'\n",
    "one_2017= path_to_files + '2017_unit2_pb3_history.csv'\n",
    "\n",
    "summ = ((pd.read_csv(one_2016, index_col=0, usecols=cols), (pd.read_csv(one_2017, index_col=0, usecols=cols))))\n",
    "#print(summ)\n",
    "print (1919+1257) #11\n",
    "print (1858+1369) #23\n",
    "print (1330+1771) #47\n",
    "#so that i know file combination function is working"
   ]
  },
  {
   "cell_type": "code",
   "execution_count": 8,
   "metadata": {},
   "outputs": [
    {
     "data": {
      "text/html": [
       "<div>\n",
       "<style scoped>\n",
       "    .dataframe tbody tr th:only-of-type {\n",
       "        vertical-align: middle;\n",
       "    }\n",
       "\n",
       "    .dataframe tbody tr th {\n",
       "        vertical-align: top;\n",
       "    }\n",
       "\n",
       "    .dataframe thead th {\n",
       "        text-align: right;\n",
       "    }\n",
       "</style>\n",
       "<table border=\"1\" class=\"dataframe\">\n",
       "  <thead>\n",
       "    <tr style=\"text-align: right;\">\n",
       "      <th></th>\n",
       "      <th>user_exp</th>\n",
       "      <th>question</th>\n",
       "      <th>final_correct_bool</th>\n",
       "    </tr>\n",
       "  </thead>\n",
       "  <tbody>\n",
       "    <tr>\n",
       "      <td>0</td>\n",
       "      <td>absolutely_none</td>\n",
       "      <td>_unit1_pb1_history.csv</td>\n",
       "      <td>0.992318</td>\n",
       "    </tr>\n",
       "    <tr>\n",
       "      <td>1</td>\n",
       "      <td>absolutely_none</td>\n",
       "      <td>_unit1_pb2_history.csv</td>\n",
       "      <td>0.992537</td>\n",
       "    </tr>\n",
       "  </tbody>\n",
       "</table>\n",
       "</div>"
      ],
      "text/plain": [
       "          user_exp                question  final_correct_bool\n",
       "0  absolutely_none  _unit1_pb1_history.csv            0.992318\n",
       "1  absolutely_none  _unit1_pb2_history.csv            0.992537"
      ]
     },
     "execution_count": 8,
     "metadata": {},
     "output_type": "execute_result"
    }
   ],
   "source": [
    "store_data_grouped_distinct = store_data.groupby(['user_exp', 'question'])['num_distinct'].mean()\n",
    "store_data_grouped_distinct = store_data_grouped_distinct.reset_index()\n",
    "\n",
    "store_data_grouped_correct = store_data.groupby(['user_exp', 'question'])['final_correct_bool'].mean()\n",
    "store_data_grouped_correct = store_data_grouped_correct.reset_index()\n",
    "\n",
    "store_data_grouped_correct.head(2)"
   ]
  },
  {
   "cell_type": "markdown",
   "metadata": {},
   "source": [
    "# Plot Stuff"
   ]
  },
  {
   "cell_type": "code",
   "execution_count": 9,
   "metadata": {},
   "outputs": [
    {
     "name": "stderr",
     "output_type": "stream",
     "text": [
      "No handles with labels found to put in legend.\n"
     ]
    },
    {
     "data": {
      "text/plain": [
       "<Figure size 720x360 with 0 Axes>"
      ]
     },
     "metadata": {},
     "output_type": "display_data"
    },
    {
     "data": {
      "image/png": "[encoded data removed]",
      "text/plain": [
       "<Figure size 720x360 with 1 Axes>"
      ]
     },
     "metadata": {
      "needs_background": "light"
     },
     "output_type": "display_data"
    }
   ],
   "source": [
    "#need to create dataframe with user_exp, correct bool, distinct, and question\n",
    "#make a horizontal bar plot with side by side data\n",
    "plt.figure(figsize=(10,5))\n",
    "\n",
    "sns.catplot(x = 'num_distinct', y = 'user_exp', hue = 'question', \n",
    "            data = store_data_grouped_distinct, kind=\"bar\", legend = False, aspect = 2)\n",
    "plt.title(\"Frequency of each num_distinct attempts (avg)\", fontsize = 14)\n",
    "#plt.legend(bbox_to_anchor=(1.05, 1), loc=2, borderaxespad=0.)\n",
    "plt.xlabel('frequency', fontsize=13)\n",
    "plt.ylabel('num_distinct', fontsize=13)\n",
    "plt.xticks(\n",
    "    rotation=45, \n",
    "    horizontalalignment='right',\n",
    "    fontsize='large'  \n",
    ")\n",
    "\n",
    "plt.show()"
   ]
  },
  {
   "cell_type": "code",
   "execution_count": 10,
   "metadata": {},
   "outputs": [
    {
     "name": "stderr",
     "output_type": "stream",
     "text": [
      "No handles with labels found to put in legend.\n"
     ]
    },
    {
     "data": {
      "text/plain": [
       "<Figure size 720x360 with 0 Axes>"
      ]
     },
     "metadata": {},
     "output_type": "display_data"
    },
    {
     "data": {
      "image/png": "[encoded data removed]",
      "text/plain": [
       "<Figure size 720x360 with 1 Axes>"
      ]
     },
     "metadata": {
      "needs_background": "light"
     },
     "output_type": "display_data"
    }
   ],
   "source": [
    "plt.figure(figsize=(10,5))\n",
    "\n",
    "sns.catplot(x = 'final_correct_bool', y = 'user_exp', hue = 'question', \n",
    "            data = store_data_grouped_correct, kind=\"bar\", legend = False, aspect = 2)\n",
    "plt.title(\"Frequency of each final_correct_bool (avg)\", fontsize = 14)\n",
    "#plt.legend(bbox_to_anchor=(1.05, 1), loc=2, borderaxespad=0.)\n",
    "plt.xlabel('frequency of correctness', fontsize=13)\n",
    "plt.ylabel('final_correct_bool', fontsize=13)\n",
    "plt.xlim(0.8,1)\n",
    "plt.xticks(\n",
    "    rotation=45, \n",
    "    horizontalalignment='right',\n",
    "    fontsize='large'  \n",
    ")\n",
    "\n",
    "plt.show()"
   ]
  },
  {
   "cell_type": "markdown",
   "metadata": {},
   "source": [
    "# Create single data frame with all useful info"
   ]
  },
  {
   "cell_type": "markdown",
   "metadata": {},
   "source": [
    "***What have I done below?***\n",
    "<br>-created a dataframe with ALL the relevant data combined (user_exp, final_correct_bool, num_distinct, question)\n",
    "<br>-created a dataframe of descriptive statistics of the final_correct_bool data and the num_distinct data (count, mean, std,\t min, 25%, 50%, 75%, max, delta_mean)\n",
    "<br>-made plots showing how far away each group (organized from least experience to most (relevant) experience) is from the mean\n",
    "<br>***What can we (gently) conclude from the data?***\n",
    "<br>-questions generally do get harder for all groups as the course progresses \n",
    "<br>-those with absolutely_none experience generally struggle the most (lots of attempts, lower accuracy, higher std)\n",
    "<br>-those with veteran and know_python experience typically struggle the least\n",
    "<br>-at the beginning, accuracy and attempts relatively consistent. however, as the course progresses, the accuracy of each group becomes more variable\n",
    "<br>-other_language is most abundant group (followed by absolutely_none, know_python, no_response), while veterans are the least abundant\n",
    "<br>-BOTH plots show a potential turning point of _unit4_pb5_history.csv\n",
    "<br>-BOTH plots show that _unit3_pb4_history.csv is challenging \n",
    "\n"
   ]
  },
  {
   "cell_type": "code",
   "execution_count": 11,
   "metadata": {},
   "outputs": [
    {
     "name": "stdout",
     "output_type": "stream",
     "text": [
      "67627\n"
     ]
    },
    {
     "data": {
      "text/html": [
       "<div>\n",
       "<style scoped>\n",
       "    .dataframe tbody tr th:only-of-type {\n",
       "        vertical-align: middle;\n",
       "    }\n",
       "\n",
       "    .dataframe tbody tr th {\n",
       "        vertical-align: top;\n",
       "    }\n",
       "\n",
       "    .dataframe thead th {\n",
       "        text-align: right;\n",
       "    }\n",
       "</style>\n",
       "<table border=\"1\" class=\"dataframe\">\n",
       "  <thead>\n",
       "    <tr style=\"text-align: right;\">\n",
       "      <th></th>\n",
       "      <th>user_exp</th>\n",
       "      <th>final_correct_bool</th>\n",
       "      <th>num_distinct</th>\n",
       "      <th>question</th>\n",
       "    </tr>\n",
       "  </thead>\n",
       "  <tbody>\n",
       "    <tr>\n",
       "      <td>1256</td>\n",
       "      <td>no_response</td>\n",
       "      <td>1</td>\n",
       "      <td>2</td>\n",
       "      <td>_unit1_pb1_history.csv</td>\n",
       "    </tr>\n",
       "    <tr>\n",
       "      <td>471</td>\n",
       "      <td>no_response</td>\n",
       "      <td>1</td>\n",
       "      <td>2</td>\n",
       "      <td>_unit1_pb1_history.csv</td>\n",
       "    </tr>\n",
       "    <tr>\n",
       "      <td>478</td>\n",
       "      <td>no_response</td>\n",
       "      <td>1</td>\n",
       "      <td>1</td>\n",
       "      <td>_unit1_pb1_history.csv</td>\n",
       "    </tr>\n",
       "  </tbody>\n",
       "</table>\n",
       "</div>"
      ],
      "text/plain": [
       "         user_exp  final_correct_bool  num_distinct                question\n",
       "1256  no_response                   1             2  _unit1_pb1_history.csv\n",
       "471   no_response                   1             2  _unit1_pb1_history.csv\n",
       "478   no_response                   1             1  _unit1_pb1_history.csv"
      ]
     },
     "execution_count": 11,
     "metadata": {},
     "output_type": "execute_result"
    }
   ],
   "source": [
    "all_data_comb = pd.DataFrame()\n",
    "\n",
    "for count in range(len(data_agg)):\n",
    "    df_2016 = pd.read_csv(path_to_files + data_years[0] + data_agg[count], index_col=0, usecols=cols)     \n",
    "    df_2017 = pd.read_csv(path_to_files + data_years[1] + data_agg[count], index_col=0, usecols=cols)\n",
    "    DF = df_2016.append(df_2017)\n",
    "    DF.insert(3, \"question\", data_agg[count], True) \n",
    "    DF.user_exp = pd.Categorical(DF.user_exp, categories=['no_response', 'absolutely_none', 'other_language', 'know_python', 'veteran'])\n",
    "    DF = DF.sort_values('user_exp')\n",
    "    \n",
    "    all_data_comb = pd.concat([all_data_comb, DF], axis = 0, sort = False)\n",
    "\n",
    "all_data_comb['final_correct_bool'] = all_data_comb['final_correct_bool'].astype(int)\n",
    "    \n",
    "print(len(all_data_comb))\n",
    "all_data_comb.head(3)"
   ]
  },
  {
   "cell_type": "code",
   "execution_count": 12,
   "metadata": {},
   "outputs": [
    {
     "data": {
      "text/html": [
       "<div>\n",
       "<style scoped>\n",
       "    .dataframe tbody tr th:only-of-type {\n",
       "        vertical-align: middle;\n",
       "    }\n",
       "\n",
       "    .dataframe tbody tr th {\n",
       "        vertical-align: top;\n",
       "    }\n",
       "\n",
       "    .dataframe thead th {\n",
       "        text-align: right;\n",
       "    }\n",
       "</style>\n",
       "<table border=\"1\" class=\"dataframe\">\n",
       "  <thead>\n",
       "    <tr style=\"text-align: right;\">\n",
       "      <th></th>\n",
       "      <th>final_correct_bool</th>\n",
       "      <th>num_distinct</th>\n",
       "    </tr>\n",
       "  </thead>\n",
       "  <tbody>\n",
       "    <tr>\n",
       "      <td>count</td>\n",
       "      <td>67627.0000</td>\n",
       "      <td>67627.0000</td>\n",
       "    </tr>\n",
       "    <tr>\n",
       "      <td>mean</td>\n",
       "      <td>0.9589</td>\n",
       "      <td>3.1230</td>\n",
       "    </tr>\n",
       "    <tr>\n",
       "      <td>std</td>\n",
       "      <td>0.1984</td>\n",
       "      <td>3.8286</td>\n",
       "    </tr>\n",
       "    <tr>\n",
       "      <td>min</td>\n",
       "      <td>0.0000</td>\n",
       "      <td>1.0000</td>\n",
       "    </tr>\n",
       "    <tr>\n",
       "      <td>25%</td>\n",
       "      <td>1.0000</td>\n",
       "      <td>1.0000</td>\n",
       "    </tr>\n",
       "    <tr>\n",
       "      <td>50%</td>\n",
       "      <td>1.0000</td>\n",
       "      <td>2.0000</td>\n",
       "    </tr>\n",
       "    <tr>\n",
       "      <td>75%</td>\n",
       "      <td>1.0000</td>\n",
       "      <td>3.0000</td>\n",
       "    </tr>\n",
       "    <tr>\n",
       "      <td>max</td>\n",
       "      <td>1.0000</td>\n",
       "      <td>54.0000</td>\n",
       "    </tr>\n",
       "  </tbody>\n",
       "</table>\n",
       "</div>"
      ],
      "text/plain": [
       "       final_correct_bool  num_distinct\n",
       "count          67627.0000    67627.0000\n",
       "mean               0.9589        3.1230\n",
       "std                0.1984        3.8286\n",
       "min                0.0000        1.0000\n",
       "25%                1.0000        1.0000\n",
       "50%                1.0000        2.0000\n",
       "75%                1.0000        3.0000\n",
       "max                1.0000       54.0000"
      ]
     },
     "execution_count": 12,
     "metadata": {},
     "output_type": "execute_result"
    }
   ],
   "source": [
    "all_data_desc = all_data_comb.describe().round(4)\n",
    "all_data_desc_distinct = all_data_comb.groupby(['question','user_exp'])['num_distinct'].describe().round(3)\n",
    "all_data_desc_correct = all_data_comb.groupby(['question','user_exp'])['final_correct_bool'].describe().round(4)\n",
    "\n",
    "all_data_desc.head(50)"
   ]
  },
  {
   "cell_type": "code",
   "execution_count": 13,
   "metadata": {},
   "outputs": [
    {
     "name": "stdout",
     "output_type": "stream",
     "text": [
      "Num Distinct Descriptive Statistics\n",
      "    *delta_mean (positive = less than num_distinct average / required fewer attempts)\n"
     ]
    },
    {
     "data": {
      "text/html": [
       "<div>\n",
       "<style scoped>\n",
       "    .dataframe tbody tr th:only-of-type {\n",
       "        vertical-align: middle;\n",
       "    }\n",
       "\n",
       "    .dataframe tbody tr th {\n",
       "        vertical-align: top;\n",
       "    }\n",
       "\n",
       "    .dataframe thead th {\n",
       "        text-align: right;\n",
       "    }\n",
       "</style>\n",
       "<table border=\"1\" class=\"dataframe\">\n",
       "  <thead>\n",
       "    <tr style=\"text-align: right;\">\n",
       "      <th></th>\n",
       "      <th>question</th>\n",
       "      <th>user_exp</th>\n",
       "      <th>count</th>\n",
       "      <th>mean</th>\n",
       "      <th>std</th>\n",
       "      <th>min</th>\n",
       "      <th>25%</th>\n",
       "      <th>50%</th>\n",
       "      <th>75%</th>\n",
       "      <th>max</th>\n",
       "      <th>delta_mean</th>\n",
       "    </tr>\n",
       "  </thead>\n",
       "  <tbody>\n",
       "    <tr>\n",
       "      <td>0</td>\n",
       "      <td>_unit1_pb1_history.csv</td>\n",
       "      <td>no_response</td>\n",
       "      <td>363.0</td>\n",
       "      <td>2.289</td>\n",
       "      <td>2.609</td>\n",
       "      <td>1.0</td>\n",
       "      <td>1.0</td>\n",
       "      <td>1.0</td>\n",
       "      <td>2.0</td>\n",
       "      <td>24.0</td>\n",
       "      <td>0.834</td>\n",
       "    </tr>\n",
       "    <tr>\n",
       "      <td>1</td>\n",
       "      <td>_unit1_pb1_history.csv</td>\n",
       "      <td>absolutely_none</td>\n",
       "      <td>781.0</td>\n",
       "      <td>2.394</td>\n",
       "      <td>3.048</td>\n",
       "      <td>1.0</td>\n",
       "      <td>1.0</td>\n",
       "      <td>1.0</td>\n",
       "      <td>2.0</td>\n",
       "      <td>28.0</td>\n",
       "      <td>0.729</td>\n",
       "    </tr>\n",
       "    <tr>\n",
       "      <td>2</td>\n",
       "      <td>_unit1_pb1_history.csv</td>\n",
       "      <td>other_language</td>\n",
       "      <td>1433.0</td>\n",
       "      <td>1.897</td>\n",
       "      <td>2.095</td>\n",
       "      <td>1.0</td>\n",
       "      <td>1.0</td>\n",
       "      <td>1.0</td>\n",
       "      <td>2.0</td>\n",
       "      <td>27.0</td>\n",
       "      <td>1.226</td>\n",
       "    </tr>\n",
       "    <tr>\n",
       "      <td>3</td>\n",
       "      <td>_unit1_pb1_history.csv</td>\n",
       "      <td>know_python</td>\n",
       "      <td>530.0</td>\n",
       "      <td>1.964</td>\n",
       "      <td>1.861</td>\n",
       "      <td>1.0</td>\n",
       "      <td>1.0</td>\n",
       "      <td>1.0</td>\n",
       "      <td>2.0</td>\n",
       "      <td>23.0</td>\n",
       "      <td>1.159</td>\n",
       "    </tr>\n",
       "    <tr>\n",
       "      <td>4</td>\n",
       "      <td>_unit1_pb1_history.csv</td>\n",
       "      <td>veteran</td>\n",
       "      <td>69.0</td>\n",
       "      <td>1.797</td>\n",
       "      <td>1.301</td>\n",
       "      <td>1.0</td>\n",
       "      <td>1.0</td>\n",
       "      <td>1.0</td>\n",
       "      <td>2.0</td>\n",
       "      <td>8.0</td>\n",
       "      <td>1.326</td>\n",
       "    </tr>\n",
       "  </tbody>\n",
       "</table>\n",
       "</div>"
      ],
      "text/plain": [
       "                 question         user_exp   count   mean    std  min  25%  \\\n",
       "0  _unit1_pb1_history.csv      no_response   363.0  2.289  2.609  1.0  1.0   \n",
       "1  _unit1_pb1_history.csv  absolutely_none   781.0  2.394  3.048  1.0  1.0   \n",
       "2  _unit1_pb1_history.csv   other_language  1433.0  1.897  2.095  1.0  1.0   \n",
       "3  _unit1_pb1_history.csv      know_python   530.0  1.964  1.861  1.0  1.0   \n",
       "4  _unit1_pb1_history.csv          veteran    69.0  1.797  1.301  1.0  1.0   \n",
       "\n",
       "   50%  75%   max  delta_mean  \n",
       "0  1.0  2.0  24.0       0.834  \n",
       "1  1.0  2.0  28.0       0.729  \n",
       "2  1.0  2.0  27.0       1.226  \n",
       "3  1.0  2.0  23.0       1.159  \n",
       "4  1.0  2.0   8.0       1.326  "
      ]
     },
     "execution_count": 13,
     "metadata": {},
     "output_type": "execute_result"
    }
   ],
   "source": [
    "#descriptive statistics for distinct attempts\n",
    "\n",
    "all_data_desc_distinct['delta_mean'] = all_data_desc['num_distinct']['mean'] - all_data_desc_distinct['mean'] \n",
    "print(\"Num Distinct Descriptive Statistics\")\n",
    "print(\"    *delta_mean (positive = less than num_distinct average / required fewer attempts)\")\n",
    "all_data_desc_distinct = all_data_desc_distinct.reset_index()\n",
    "all_data_desc_distinct.head(5)"
   ]
  },
  {
   "cell_type": "code",
   "execution_count": 14,
   "metadata": {},
   "outputs": [
    {
     "name": "stdout",
     "output_type": "stream",
     "text": [
      "Correctness Descriptive Statistics\n",
      "    *delta_mean (positive = less than accuracy average / better accuracy)\n"
     ]
    },
    {
     "data": {
      "text/html": [
       "<div>\n",
       "<style scoped>\n",
       "    .dataframe tbody tr th:only-of-type {\n",
       "        vertical-align: middle;\n",
       "    }\n",
       "\n",
       "    .dataframe tbody tr th {\n",
       "        vertical-align: top;\n",
       "    }\n",
       "\n",
       "    .dataframe thead th {\n",
       "        text-align: right;\n",
       "    }\n",
       "</style>\n",
       "<table border=\"1\" class=\"dataframe\">\n",
       "  <thead>\n",
       "    <tr style=\"text-align: right;\">\n",
       "      <th></th>\n",
       "      <th>question</th>\n",
       "      <th>user_exp</th>\n",
       "      <th>count</th>\n",
       "      <th>mean</th>\n",
       "      <th>std</th>\n",
       "      <th>min</th>\n",
       "      <th>25%</th>\n",
       "      <th>50%</th>\n",
       "      <th>75%</th>\n",
       "      <th>max</th>\n",
       "      <th>delta_mean</th>\n",
       "    </tr>\n",
       "  </thead>\n",
       "  <tbody>\n",
       "    <tr>\n",
       "      <td>0</td>\n",
       "      <td>_unit1_pb1_history.csv</td>\n",
       "      <td>no_response</td>\n",
       "      <td>363.0</td>\n",
       "      <td>0.9945</td>\n",
       "      <td>0.0741</td>\n",
       "      <td>0.0</td>\n",
       "      <td>1.0</td>\n",
       "      <td>1.0</td>\n",
       "      <td>1.0</td>\n",
       "      <td>1.0</td>\n",
       "      <td>0.0356</td>\n",
       "    </tr>\n",
       "    <tr>\n",
       "      <td>1</td>\n",
       "      <td>_unit1_pb1_history.csv</td>\n",
       "      <td>absolutely_none</td>\n",
       "      <td>781.0</td>\n",
       "      <td>0.9923</td>\n",
       "      <td>0.0874</td>\n",
       "      <td>0.0</td>\n",
       "      <td>1.0</td>\n",
       "      <td>1.0</td>\n",
       "      <td>1.0</td>\n",
       "      <td>1.0</td>\n",
       "      <td>0.0334</td>\n",
       "    </tr>\n",
       "    <tr>\n",
       "      <td>2</td>\n",
       "      <td>_unit1_pb1_history.csv</td>\n",
       "      <td>other_language</td>\n",
       "      <td>1433.0</td>\n",
       "      <td>0.9986</td>\n",
       "      <td>0.0373</td>\n",
       "      <td>0.0</td>\n",
       "      <td>1.0</td>\n",
       "      <td>1.0</td>\n",
       "      <td>1.0</td>\n",
       "      <td>1.0</td>\n",
       "      <td>0.0397</td>\n",
       "    </tr>\n",
       "    <tr>\n",
       "      <td>3</td>\n",
       "      <td>_unit1_pb1_history.csv</td>\n",
       "      <td>know_python</td>\n",
       "      <td>530.0</td>\n",
       "      <td>0.9981</td>\n",
       "      <td>0.0434</td>\n",
       "      <td>0.0</td>\n",
       "      <td>1.0</td>\n",
       "      <td>1.0</td>\n",
       "      <td>1.0</td>\n",
       "      <td>1.0</td>\n",
       "      <td>0.0392</td>\n",
       "    </tr>\n",
       "    <tr>\n",
       "      <td>4</td>\n",
       "      <td>_unit1_pb1_history.csv</td>\n",
       "      <td>veteran</td>\n",
       "      <td>69.0</td>\n",
       "      <td>1.0000</td>\n",
       "      <td>0.0000</td>\n",
       "      <td>1.0</td>\n",
       "      <td>1.0</td>\n",
       "      <td>1.0</td>\n",
       "      <td>1.0</td>\n",
       "      <td>1.0</td>\n",
       "      <td>0.0411</td>\n",
       "    </tr>\n",
       "  </tbody>\n",
       "</table>\n",
       "</div>"
      ],
      "text/plain": [
       "                 question         user_exp   count    mean     std  min  25%  \\\n",
       "0  _unit1_pb1_history.csv      no_response   363.0  0.9945  0.0741  0.0  1.0   \n",
       "1  _unit1_pb1_history.csv  absolutely_none   781.0  0.9923  0.0874  0.0  1.0   \n",
       "2  _unit1_pb1_history.csv   other_language  1433.0  0.9986  0.0373  0.0  1.0   \n",
       "3  _unit1_pb1_history.csv      know_python   530.0  0.9981  0.0434  0.0  1.0   \n",
       "4  _unit1_pb1_history.csv          veteran    69.0  1.0000  0.0000  1.0  1.0   \n",
       "\n",
       "   50%  75%  max  delta_mean  \n",
       "0  1.0  1.0  1.0      0.0356  \n",
       "1  1.0  1.0  1.0      0.0334  \n",
       "2  1.0  1.0  1.0      0.0397  \n",
       "3  1.0  1.0  1.0      0.0392  \n",
       "4  1.0  1.0  1.0      0.0411  "
      ]
     },
     "execution_count": 14,
     "metadata": {},
     "output_type": "execute_result"
    }
   ],
   "source": [
    "#descriptive statistics for correctness\n",
    "\n",
    "all_data_desc_correct['delta_mean'] = all_data_desc_correct['mean'] - all_data_desc['final_correct_bool']['mean']\n",
    "print(\"Correctness Descriptive Statistics\")\n",
    "print(\"    *delta_mean (positive = less than accuracy average / better accuracy)\")\n",
    "all_data_desc_correct = all_data_desc_correct.reset_index()\n",
    "all_data_desc_correct.head(5)"
   ]
  },
  {
   "cell_type": "code",
   "execution_count": 15,
   "metadata": {},
   "outputs": [
    {
     "name": "stdout",
     "output_type": "stream",
     "text": [
      "    *delta_mean (positive = less than num_distinct average / required fewer attempts)\n"
     ]
    },
    {
     "data": {
      "text/plain": [
       "<Figure size 1080x720 with 0 Axes>"
      ]
     },
     "metadata": {},
     "output_type": "display_data"
    },
    {
     "data": {
      "image/png": "[encoded data removed]",
      "text/plain": [
       "<Figure size 837.5x360 with 1 Axes>"
      ]
     },
     "metadata": {
      "needs_background": "light"
     },
     "output_type": "display_data"
    }
   ],
   "source": [
    "print(\"    *delta_mean (positive = less than num_distinct average / required fewer attempts)\")\n",
    "plt.figure(figsize=(15,10))\n",
    "\n",
    "sns.catplot(x = 'delta_mean', y = 'question', hue = 'user_exp', \n",
    "            data = all_data_desc_distinct, kind = \"bar\", legend = True, aspect = 2)\n",
    "plt.title(\"Distance From Mean Per Question (Distinct Attempts)\", fontsize = 14)\n",
    "plt.xlabel('delta_mean', fontsize=13)\n",
    "plt.ylabel('question', fontsize=13)\n",
    "plt.xlim(-5,5)\n",
    "plt.xticks(\n",
    "    rotation=45, \n",
    "    horizontalalignment='right',\n",
    "    fontsize='large'  \n",
    ")\n",
    "\n",
    "plt.show()"
   ]
  },
  {
   "cell_type": "code",
   "execution_count": 16,
   "metadata": {},
   "outputs": [
    {
     "name": "stdout",
     "output_type": "stream",
     "text": [
      "    *delta_mean (negative = greater than accuracy average / worse accuracy)\n"
     ]
    },
    {
     "data": {
      "text/plain": [
       "<Figure size 1080x720 with 0 Axes>"
      ]
     },
     "metadata": {},
     "output_type": "display_data"
    },
    {
     "data": {
      "image/png": "[encoded data removed]",
      "text/plain": [
       "<Figure size 837.5x360 with 1 Axes>"
      ]
     },
     "metadata": {
      "needs_background": "light"
     },
     "output_type": "display_data"
    }
   ],
   "source": [
    "print(\"    *delta_mean (negative = greater than accuracy average / worse accuracy)\")\n",
    "plt.figure(figsize=(15,10))\n",
    "\n",
    "sns.catplot(x = 'delta_mean', y = 'question', hue = 'user_exp', \n",
    "            data = all_data_desc_correct, kind = \"bar\", legend = True, aspect = 2)\n",
    "plt.title(\"Distance From Mean Per Question (Accuracy)\", fontsize = 14)\n",
    "plt.xlabel('delta_mean', fontsize=13)\n",
    "plt.ylabel('question', fontsize=13)\n",
    "plt.xlim(-.15,.05)\n",
    "plt.xticks(\n",
    "    rotation=45, \n",
    "    horizontalalignment='right',\n",
    "    fontsize='large'  \n",
    ")\n",
    "\n",
    "plt.show()"
   ]
  },
  {
   "cell_type": "markdown",
   "metadata": {},
   "source": [
    "-continue to look @ course questions, figure out what makes them hard (classify!!!!!!)\n",
    "<br>-group and get rid of (x2) [BELOW]\n"
   ]
  },
  {
   "cell_type": "code",
   "execution_count": 17,
   "metadata": {},
   "outputs": [
    {
     "name": "stdout",
     "output_type": "stream",
     "text": [
      "67627\n",
      "59745\n"
     ]
    },
    {
     "data": {
      "text/html": [
       "<div>\n",
       "<style scoped>\n",
       "    .dataframe tbody tr th:only-of-type {\n",
       "        vertical-align: middle;\n",
       "    }\n",
       "\n",
       "    .dataframe tbody tr th {\n",
       "        vertical-align: top;\n",
       "    }\n",
       "\n",
       "    .dataframe thead th {\n",
       "        text-align: right;\n",
       "    }\n",
       "</style>\n",
       "<table border=\"1\" class=\"dataframe\">\n",
       "  <thead>\n",
       "    <tr style=\"text-align: right;\">\n",
       "      <th></th>\n",
       "      <th>user_exp</th>\n",
       "      <th>final_correct_bool</th>\n",
       "      <th>num_distinct</th>\n",
       "      <th>question</th>\n",
       "    </tr>\n",
       "  </thead>\n",
       "  <tbody>\n",
       "    <tr>\n",
       "      <td>1667</td>\n",
       "      <td>absolutely_none</td>\n",
       "      <td>1</td>\n",
       "      <td>2</td>\n",
       "      <td>_unit1_pb1_history.csv</td>\n",
       "    </tr>\n",
       "    <tr>\n",
       "      <td>1095</td>\n",
       "      <td>absolutely_none</td>\n",
       "      <td>1</td>\n",
       "      <td>1</td>\n",
       "      <td>_unit1_pb1_history.csv</td>\n",
       "    </tr>\n",
       "  </tbody>\n",
       "</table>\n",
       "</div>"
      ],
      "text/plain": [
       "             user_exp  final_correct_bool  num_distinct  \\\n",
       "1667  absolutely_none                   1             2   \n",
       "1095  absolutely_none                   1             1   \n",
       "\n",
       "                    question  \n",
       "1667  _unit1_pb1_history.csv  \n",
       "1095  _unit1_pb1_history.csv  "
      ]
     },
     "execution_count": 17,
     "metadata": {},
     "output_type": "execute_result"
    }
   ],
   "source": [
    "print(len(all_data_comb))\n",
    "all_data_comb_3exp = all_data_comb[all_data_comb.user_exp != 'no_response']\n",
    "all_data_comb_3exp = all_data_comb_3exp.replace(to_replace =\"veteran\", value =\"know_programming\") \n",
    "all_data_comb_3exp = all_data_comb_3exp.replace(to_replace =\"know_python\", value =\"know_programming\") \n",
    "all_data_comb_3exp.user_exp = pd.Categorical(all_data_comb_3exp.user_exp, categories=['absolutely_none', 'other_language', 'know_programming'])\n",
    "\n",
    "print(len(all_data_comb_3exp))\n",
    "all_data_comb_3exp.head(2)"
   ]
  },
  {
   "cell_type": "code",
   "execution_count": 18,
   "metadata": {},
   "outputs": [
    {
     "data": {
      "text/html": [
       "<div>\n",
       "<style scoped>\n",
       "    .dataframe tbody tr th:only-of-type {\n",
       "        vertical-align: middle;\n",
       "    }\n",
       "\n",
       "    .dataframe tbody tr th {\n",
       "        vertical-align: top;\n",
       "    }\n",
       "\n",
       "    .dataframe thead th {\n",
       "        text-align: right;\n",
       "    }\n",
       "</style>\n",
       "<table border=\"1\" class=\"dataframe\">\n",
       "  <thead>\n",
       "    <tr style=\"text-align: right;\">\n",
       "      <th></th>\n",
       "      <th>final_correct_bool</th>\n",
       "      <th>num_distinct</th>\n",
       "    </tr>\n",
       "  </thead>\n",
       "  <tbody>\n",
       "    <tr>\n",
       "      <td>count</td>\n",
       "      <td>59745.0000</td>\n",
       "      <td>59745.0000</td>\n",
       "    </tr>\n",
       "    <tr>\n",
       "      <td>mean</td>\n",
       "      <td>0.9594</td>\n",
       "      <td>3.1237</td>\n",
       "    </tr>\n",
       "    <tr>\n",
       "      <td>std</td>\n",
       "      <td>0.1973</td>\n",
       "      <td>3.8358</td>\n",
       "    </tr>\n",
       "    <tr>\n",
       "      <td>min</td>\n",
       "      <td>0.0000</td>\n",
       "      <td>1.0000</td>\n",
       "    </tr>\n",
       "    <tr>\n",
       "      <td>25%</td>\n",
       "      <td>1.0000</td>\n",
       "      <td>1.0000</td>\n",
       "    </tr>\n",
       "    <tr>\n",
       "      <td>50%</td>\n",
       "      <td>1.0000</td>\n",
       "      <td>2.0000</td>\n",
       "    </tr>\n",
       "    <tr>\n",
       "      <td>75%</td>\n",
       "      <td>1.0000</td>\n",
       "      <td>3.0000</td>\n",
       "    </tr>\n",
       "    <tr>\n",
       "      <td>max</td>\n",
       "      <td>1.0000</td>\n",
       "      <td>54.0000</td>\n",
       "    </tr>\n",
       "  </tbody>\n",
       "</table>\n",
       "</div>"
      ],
      "text/plain": [
       "       final_correct_bool  num_distinct\n",
       "count          59745.0000    59745.0000\n",
       "mean               0.9594        3.1237\n",
       "std                0.1973        3.8358\n",
       "min                0.0000        1.0000\n",
       "25%                1.0000        1.0000\n",
       "50%                1.0000        2.0000\n",
       "75%                1.0000        3.0000\n",
       "max                1.0000       54.0000"
      ]
     },
     "execution_count": 18,
     "metadata": {},
     "output_type": "execute_result"
    }
   ],
   "source": [
    "all_data_desc_3exp = all_data_comb_3exp.describe().round(4)\n",
    "all_data_desc_distinct_3exp = all_data_comb_3exp.groupby(['question','user_exp'])['num_distinct'].describe().round(3)\n",
    "all_data_desc_correct_3exp = all_data_comb_3exp.groupby(['question','user_exp'])['final_correct_bool'].describe().round(4)\n",
    "\n",
    "all_data_desc_3exp.head(10)"
   ]
  },
  {
   "cell_type": "code",
   "execution_count": 19,
   "metadata": {},
   "outputs": [
    {
     "name": "stdout",
     "output_type": "stream",
     "text": [
      "Num Distinct Descriptive Statistics\n",
      "    *delta_mean (positive = less than num_distinct average / required fewer attempts)\n"
     ]
    },
    {
     "data": {
      "text/html": [
       "<div>\n",
       "<style scoped>\n",
       "    .dataframe tbody tr th:only-of-type {\n",
       "        vertical-align: middle;\n",
       "    }\n",
       "\n",
       "    .dataframe tbody tr th {\n",
       "        vertical-align: top;\n",
       "    }\n",
       "\n",
       "    .dataframe thead th {\n",
       "        text-align: right;\n",
       "    }\n",
       "</style>\n",
       "<table border=\"1\" class=\"dataframe\">\n",
       "  <thead>\n",
       "    <tr style=\"text-align: right;\">\n",
       "      <th></th>\n",
       "      <th>question</th>\n",
       "      <th>user_exp</th>\n",
       "      <th>count</th>\n",
       "      <th>mean</th>\n",
       "      <th>std</th>\n",
       "      <th>min</th>\n",
       "      <th>25%</th>\n",
       "      <th>50%</th>\n",
       "      <th>75%</th>\n",
       "      <th>max</th>\n",
       "      <th>delta_mean</th>\n",
       "    </tr>\n",
       "  </thead>\n",
       "  <tbody>\n",
       "    <tr>\n",
       "      <td>0</td>\n",
       "      <td>_unit1_pb1_history.csv</td>\n",
       "      <td>absolutely_none</td>\n",
       "      <td>781.0</td>\n",
       "      <td>2.394</td>\n",
       "      <td>3.048</td>\n",
       "      <td>1.0</td>\n",
       "      <td>1.0</td>\n",
       "      <td>1.0</td>\n",
       "      <td>2.0</td>\n",
       "      <td>28.0</td>\n",
       "      <td>0.7297</td>\n",
       "    </tr>\n",
       "    <tr>\n",
       "      <td>1</td>\n",
       "      <td>_unit1_pb1_history.csv</td>\n",
       "      <td>other_language</td>\n",
       "      <td>1433.0</td>\n",
       "      <td>1.897</td>\n",
       "      <td>2.095</td>\n",
       "      <td>1.0</td>\n",
       "      <td>1.0</td>\n",
       "      <td>1.0</td>\n",
       "      <td>2.0</td>\n",
       "      <td>27.0</td>\n",
       "      <td>1.2267</td>\n",
       "    </tr>\n",
       "    <tr>\n",
       "      <td>2</td>\n",
       "      <td>_unit1_pb1_history.csv</td>\n",
       "      <td>know_programming</td>\n",
       "      <td>599.0</td>\n",
       "      <td>1.945</td>\n",
       "      <td>1.805</td>\n",
       "      <td>1.0</td>\n",
       "      <td>1.0</td>\n",
       "      <td>1.0</td>\n",
       "      <td>2.0</td>\n",
       "      <td>23.0</td>\n",
       "      <td>1.1787</td>\n",
       "    </tr>\n",
       "  </tbody>\n",
       "</table>\n",
       "</div>"
      ],
      "text/plain": [
       "                 question          user_exp   count   mean    std  min  25%  \\\n",
       "0  _unit1_pb1_history.csv   absolutely_none   781.0  2.394  3.048  1.0  1.0   \n",
       "1  _unit1_pb1_history.csv    other_language  1433.0  1.897  2.095  1.0  1.0   \n",
       "2  _unit1_pb1_history.csv  know_programming   599.0  1.945  1.805  1.0  1.0   \n",
       "\n",
       "   50%  75%   max  delta_mean  \n",
       "0  1.0  2.0  28.0      0.7297  \n",
       "1  1.0  2.0  27.0      1.2267  \n",
       "2  1.0  2.0  23.0      1.1787  "
      ]
     },
     "execution_count": 19,
     "metadata": {},
     "output_type": "execute_result"
    }
   ],
   "source": [
    "#descriptive statistics for distinct attempts (3EXP)\n",
    "\n",
    "all_data_desc_distinct_3exp['delta_mean'] = all_data_desc_3exp['num_distinct']['mean'] - all_data_desc_distinct_3exp['mean'] \n",
    "print(\"Num Distinct Descriptive Statistics\")\n",
    "print(\"    *delta_mean (positive = less than num_distinct average / required fewer attempts)\")\n",
    "all_data_desc_distinct_3exp = all_data_desc_distinct_3exp.reset_index()\n",
    "all_data_desc_distinct_3exp.head(3)"
   ]
  },
  {
   "cell_type": "code",
   "execution_count": 20,
   "metadata": {},
   "outputs": [
    {
     "name": "stdout",
     "output_type": "stream",
     "text": [
      "Correctness Descriptive Statistics\n",
      "    *delta_mean (positive = less than accuracy average / better accuracy)\n"
     ]
    },
    {
     "data": {
      "text/html": [
       "<div>\n",
       "<style scoped>\n",
       "    .dataframe tbody tr th:only-of-type {\n",
       "        vertical-align: middle;\n",
       "    }\n",
       "\n",
       "    .dataframe tbody tr th {\n",
       "        vertical-align: top;\n",
       "    }\n",
       "\n",
       "    .dataframe thead th {\n",
       "        text-align: right;\n",
       "    }\n",
       "</style>\n",
       "<table border=\"1\" class=\"dataframe\">\n",
       "  <thead>\n",
       "    <tr style=\"text-align: right;\">\n",
       "      <th></th>\n",
       "      <th>question</th>\n",
       "      <th>user_exp</th>\n",
       "      <th>count</th>\n",
       "      <th>mean</th>\n",
       "      <th>std</th>\n",
       "      <th>min</th>\n",
       "      <th>25%</th>\n",
       "      <th>50%</th>\n",
       "      <th>75%</th>\n",
       "      <th>max</th>\n",
       "      <th>delta_mean</th>\n",
       "    </tr>\n",
       "  </thead>\n",
       "  <tbody>\n",
       "    <tr>\n",
       "      <td>0</td>\n",
       "      <td>_unit1_pb1_history.csv</td>\n",
       "      <td>absolutely_none</td>\n",
       "      <td>781.0</td>\n",
       "      <td>0.9923</td>\n",
       "      <td>0.0874</td>\n",
       "      <td>0.0</td>\n",
       "      <td>1.0</td>\n",
       "      <td>1.0</td>\n",
       "      <td>1.0</td>\n",
       "      <td>1.0</td>\n",
       "      <td>0.0329</td>\n",
       "    </tr>\n",
       "    <tr>\n",
       "      <td>1</td>\n",
       "      <td>_unit1_pb1_history.csv</td>\n",
       "      <td>other_language</td>\n",
       "      <td>1433.0</td>\n",
       "      <td>0.9986</td>\n",
       "      <td>0.0373</td>\n",
       "      <td>0.0</td>\n",
       "      <td>1.0</td>\n",
       "      <td>1.0</td>\n",
       "      <td>1.0</td>\n",
       "      <td>1.0</td>\n",
       "      <td>0.0392</td>\n",
       "    </tr>\n",
       "    <tr>\n",
       "      <td>2</td>\n",
       "      <td>_unit1_pb1_history.csv</td>\n",
       "      <td>know_programming</td>\n",
       "      <td>599.0</td>\n",
       "      <td>0.9983</td>\n",
       "      <td>0.0409</td>\n",
       "      <td>0.0</td>\n",
       "      <td>1.0</td>\n",
       "      <td>1.0</td>\n",
       "      <td>1.0</td>\n",
       "      <td>1.0</td>\n",
       "      <td>0.0389</td>\n",
       "    </tr>\n",
       "  </tbody>\n",
       "</table>\n",
       "</div>"
      ],
      "text/plain": [
       "                 question          user_exp   count    mean     std  min  25%  \\\n",
       "0  _unit1_pb1_history.csv   absolutely_none   781.0  0.9923  0.0874  0.0  1.0   \n",
       "1  _unit1_pb1_history.csv    other_language  1433.0  0.9986  0.0373  0.0  1.0   \n",
       "2  _unit1_pb1_history.csv  know_programming   599.0  0.9983  0.0409  0.0  1.0   \n",
       "\n",
       "   50%  75%  max  delta_mean  \n",
       "0  1.0  1.0  1.0      0.0329  \n",
       "1  1.0  1.0  1.0      0.0392  \n",
       "2  1.0  1.0  1.0      0.0389  "
      ]
     },
     "execution_count": 20,
     "metadata": {},
     "output_type": "execute_result"
    }
   ],
   "source": [
    "#descriptive statistics for correctness (3EXP)\n",
    "\n",
    "all_data_desc_correct_3exp['delta_mean'] = all_data_desc_correct_3exp['mean'] - all_data_desc_3exp['final_correct_bool']['mean']\n",
    "print(\"Correctness Descriptive Statistics\")\n",
    "print(\"    *delta_mean (positive = less than accuracy average / better accuracy)\")\n",
    "all_data_desc_correct_3exp = all_data_desc_correct_3exp.reset_index()\n",
    "all_data_desc_correct_3exp.head(3)"
   ]
  },
  {
   "cell_type": "code",
   "execution_count": 21,
   "metadata": {},
   "outputs": [
    {
     "name": "stdout",
     "output_type": "stream",
     "text": [
      "    *delta_mean (positive = less than num_distinct average / required fewer attempts)\n"
     ]
    },
    {
     "data": {
      "text/plain": [
       "<Figure size 1080x720 with 0 Axes>"
      ]
     },
     "metadata": {},
     "output_type": "display_data"
    },
    {
     "data": {
      "image/png": "[encoded data removed]",
      "text/plain": [
       "<Figure size 855.125x360 with 1 Axes>"
      ]
     },
     "metadata": {
      "needs_background": "light"
     },
     "output_type": "display_data"
    }
   ],
   "source": [
    "print(\"    *delta_mean (positive = less than num_distinct average / required fewer attempts)\")\n",
    "plt.figure(figsize=(15,10))\n",
    "\n",
    "sns.catplot(x = 'delta_mean', y = 'question', hue = 'user_exp', \n",
    "            data = all_data_desc_distinct_3exp, kind = \"bar\", legend = True, aspect = 2)\n",
    "plt.title(\"Distance From Mean Per Question (Distinct Attempts) 3EXP\", fontsize = 14)\n",
    "plt.xlabel('delta_mean', fontsize=13)\n",
    "plt.ylabel('question', fontsize=13)\n",
    "plt.xlim(-5,5)\n",
    "plt.xticks(\n",
    "    rotation=45, \n",
    "    horizontalalignment='right',\n",
    "    fontsize='large'  \n",
    ")\n",
    "\n",
    "plt.show()"
   ]
  },
  {
   "cell_type": "code",
   "execution_count": 22,
   "metadata": {},
   "outputs": [
    {
     "name": "stdout",
     "output_type": "stream",
     "text": [
      "    *delta_mean (negative = greater than accuracy average / worse accuracy)\n"
     ]
    },
    {
     "data": {
      "text/plain": [
       "<Figure size 1080x720 with 0 Axes>"
      ]
     },
     "metadata": {},
     "output_type": "display_data"
    },
    {
     "data": {
      "image/png": "[encoded data removed]",
      "text/plain": [
       "<Figure size 855.125x360 with 1 Axes>"
      ]
     },
     "metadata": {
      "needs_background": "light"
     },
     "output_type": "display_data"
    }
   ],
   "source": [
    "print(\"    *delta_mean (negative = greater than accuracy average / worse accuracy)\")\n",
    "plt.figure(figsize=(15,10))\n",
    "\n",
    "sns.catplot(x = 'delta_mean', y = 'question', hue = 'user_exp', \n",
    "            data = all_data_desc_correct_3exp, kind = \"bar\", legend = True, aspect = 2)\n",
    "plt.title(\"Distance From Mean Per Question (Accuracy) 3EXP\", fontsize = 14)\n",
    "plt.xlabel('delta_mean', fontsize=13)\n",
    "plt.ylabel('question', fontsize=13)\n",
    "plt.xlim(-.15,.05)\n",
    "plt.xticks(\n",
    "    rotation=45, \n",
    "    horizontalalignment='right',\n",
    "    fontsize='large'  \n",
    ")\n",
    "\n",
    "plt.show()"
   ]
  },
  {
   "cell_type": "code",
   "execution_count": 23,
   "metadata": {},
   "outputs": [
    {
     "name": "stdout",
     "output_type": "stream",
     "text": [
      "59745\n",
      "59745\n"
     ]
    },
    {
     "data": {
      "text/html": [
       "<div>\n",
       "<style scoped>\n",
       "    .dataframe tbody tr th:only-of-type {\n",
       "        vertical-align: middle;\n",
       "    }\n",
       "\n",
       "    .dataframe tbody tr th {\n",
       "        vertical-align: top;\n",
       "    }\n",
       "\n",
       "    .dataframe thead th {\n",
       "        text-align: right;\n",
       "    }\n",
       "</style>\n",
       "<table border=\"1\" class=\"dataframe\">\n",
       "  <thead>\n",
       "    <tr style=\"text-align: right;\">\n",
       "      <th></th>\n",
       "      <th>user_exp</th>\n",
       "      <th>final_correct_bool</th>\n",
       "      <th>num_distinct</th>\n",
       "      <th>question</th>\n",
       "    </tr>\n",
       "  </thead>\n",
       "  <tbody>\n",
       "    <tr>\n",
       "      <td>1667</td>\n",
       "      <td>absolutely_none</td>\n",
       "      <td>1</td>\n",
       "      <td>2</td>\n",
       "      <td>_unit1_pb1_history.csv</td>\n",
       "    </tr>\n",
       "    <tr>\n",
       "      <td>1095</td>\n",
       "      <td>absolutely_none</td>\n",
       "      <td>1</td>\n",
       "      <td>1</td>\n",
       "      <td>_unit1_pb1_history.csv</td>\n",
       "    </tr>\n",
       "  </tbody>\n",
       "</table>\n",
       "</div>"
      ],
      "text/plain": [
       "             user_exp  final_correct_bool  num_distinct  \\\n",
       "1667  absolutely_none                   1             2   \n",
       "1095  absolutely_none                   1             1   \n",
       "\n",
       "                    question  \n",
       "1667  _unit1_pb1_history.csv  \n",
       "1095  _unit1_pb1_history.csv  "
      ]
     },
     "execution_count": 23,
     "metadata": {},
     "output_type": "execute_result"
    }
   ],
   "source": [
    "print(len(all_data_comb_3exp))\n",
    "all_data_comb_2exp = all_data_comb_3exp[all_data_comb_3exp.user_exp != 'no_response']\n",
    "all_data_comb_2exp = all_data_comb_3exp.replace(to_replace =\"other_language\", value =\"know_programming\") \n",
    "all_data_comb_2exp.user_exp = pd.Categorical(all_data_comb_2exp.user_exp, categories=['absolutely_none', 'know_programming'])\n",
    "\n",
    "print(len(all_data_comb_2exp))\n",
    "all_data_comb_2exp.head(2)"
   ]
  },
  {
   "cell_type": "code",
   "execution_count": 24,
   "metadata": {},
   "outputs": [
    {
     "data": {
      "text/html": [
       "<div>\n",
       "<style scoped>\n",
       "    .dataframe tbody tr th:only-of-type {\n",
       "        vertical-align: middle;\n",
       "    }\n",
       "\n",
       "    .dataframe tbody tr th {\n",
       "        vertical-align: top;\n",
       "    }\n",
       "\n",
       "    .dataframe thead th {\n",
       "        text-align: right;\n",
       "    }\n",
       "</style>\n",
       "<table border=\"1\" class=\"dataframe\">\n",
       "  <thead>\n",
       "    <tr style=\"text-align: right;\">\n",
       "      <th></th>\n",
       "      <th>final_correct_bool</th>\n",
       "      <th>num_distinct</th>\n",
       "    </tr>\n",
       "  </thead>\n",
       "  <tbody>\n",
       "    <tr>\n",
       "      <td>count</td>\n",
       "      <td>59745.0000</td>\n",
       "      <td>59745.0000</td>\n",
       "    </tr>\n",
       "    <tr>\n",
       "      <td>mean</td>\n",
       "      <td>0.9594</td>\n",
       "      <td>3.1237</td>\n",
       "    </tr>\n",
       "    <tr>\n",
       "      <td>std</td>\n",
       "      <td>0.1973</td>\n",
       "      <td>3.8358</td>\n",
       "    </tr>\n",
       "    <tr>\n",
       "      <td>min</td>\n",
       "      <td>0.0000</td>\n",
       "      <td>1.0000</td>\n",
       "    </tr>\n",
       "    <tr>\n",
       "      <td>25%</td>\n",
       "      <td>1.0000</td>\n",
       "      <td>1.0000</td>\n",
       "    </tr>\n",
       "    <tr>\n",
       "      <td>50%</td>\n",
       "      <td>1.0000</td>\n",
       "      <td>2.0000</td>\n",
       "    </tr>\n",
       "    <tr>\n",
       "      <td>75%</td>\n",
       "      <td>1.0000</td>\n",
       "      <td>3.0000</td>\n",
       "    </tr>\n",
       "    <tr>\n",
       "      <td>max</td>\n",
       "      <td>1.0000</td>\n",
       "      <td>54.0000</td>\n",
       "    </tr>\n",
       "  </tbody>\n",
       "</table>\n",
       "</div>"
      ],
      "text/plain": [
       "       final_correct_bool  num_distinct\n",
       "count          59745.0000    59745.0000\n",
       "mean               0.9594        3.1237\n",
       "std                0.1973        3.8358\n",
       "min                0.0000        1.0000\n",
       "25%                1.0000        1.0000\n",
       "50%                1.0000        2.0000\n",
       "75%                1.0000        3.0000\n",
       "max                1.0000       54.0000"
      ]
     },
     "execution_count": 24,
     "metadata": {},
     "output_type": "execute_result"
    }
   ],
   "source": [
    "all_data_desc_2exp = all_data_comb_2exp.describe().round(4)\n",
    "all_data_desc_distinct_2exp = all_data_comb_2exp.groupby(['question','user_exp'])['num_distinct'].describe().round(3)\n",
    "all_data_desc_correct_2exp = all_data_comb_2exp.groupby(['question','user_exp'])['final_correct_bool'].describe().round(4)\n",
    "\n",
    "all_data_desc_2exp.head(10)"
   ]
  },
  {
   "cell_type": "code",
   "execution_count": 25,
   "metadata": {},
   "outputs": [
    {
     "name": "stdout",
     "output_type": "stream",
     "text": [
      "Num Distinct Descriptive Statistics\n",
      "    *delta_mean (positive = less than num_distinct average / required fewer attempts)\n"
     ]
    },
    {
     "data": {
      "text/html": [
       "<div>\n",
       "<style scoped>\n",
       "    .dataframe tbody tr th:only-of-type {\n",
       "        vertical-align: middle;\n",
       "    }\n",
       "\n",
       "    .dataframe tbody tr th {\n",
       "        vertical-align: top;\n",
       "    }\n",
       "\n",
       "    .dataframe thead th {\n",
       "        text-align: right;\n",
       "    }\n",
       "</style>\n",
       "<table border=\"1\" class=\"dataframe\">\n",
       "  <thead>\n",
       "    <tr style=\"text-align: right;\">\n",
       "      <th></th>\n",
       "      <th>question</th>\n",
       "      <th>user_exp</th>\n",
       "      <th>count</th>\n",
       "      <th>mean</th>\n",
       "      <th>std</th>\n",
       "      <th>min</th>\n",
       "      <th>25%</th>\n",
       "      <th>50%</th>\n",
       "      <th>75%</th>\n",
       "      <th>max</th>\n",
       "      <th>delta_mean</th>\n",
       "    </tr>\n",
       "  </thead>\n",
       "  <tbody>\n",
       "    <tr>\n",
       "      <td>0</td>\n",
       "      <td>_unit1_pb1_history.csv</td>\n",
       "      <td>absolutely_none</td>\n",
       "      <td>781.0</td>\n",
       "      <td>2.394</td>\n",
       "      <td>3.048</td>\n",
       "      <td>1.0</td>\n",
       "      <td>1.0</td>\n",
       "      <td>1.0</td>\n",
       "      <td>2.0</td>\n",
       "      <td>28.0</td>\n",
       "      <td>0.7297</td>\n",
       "    </tr>\n",
       "    <tr>\n",
       "      <td>1</td>\n",
       "      <td>_unit1_pb1_history.csv</td>\n",
       "      <td>know_programming</td>\n",
       "      <td>2032.0</td>\n",
       "      <td>1.911</td>\n",
       "      <td>2.014</td>\n",
       "      <td>1.0</td>\n",
       "      <td>1.0</td>\n",
       "      <td>1.0</td>\n",
       "      <td>2.0</td>\n",
       "      <td>27.0</td>\n",
       "      <td>1.2127</td>\n",
       "    </tr>\n",
       "  </tbody>\n",
       "</table>\n",
       "</div>"
      ],
      "text/plain": [
       "                 question          user_exp   count   mean    std  min  25%  \\\n",
       "0  _unit1_pb1_history.csv   absolutely_none   781.0  2.394  3.048  1.0  1.0   \n",
       "1  _unit1_pb1_history.csv  know_programming  2032.0  1.911  2.014  1.0  1.0   \n",
       "\n",
       "   50%  75%   max  delta_mean  \n",
       "0  1.0  2.0  28.0      0.7297  \n",
       "1  1.0  2.0  27.0      1.2127  "
      ]
     },
     "execution_count": 25,
     "metadata": {},
     "output_type": "execute_result"
    }
   ],
   "source": [
    "#descriptive statistics for distinct attempts (2EXP)\n",
    "\n",
    "all_data_desc_distinct_2exp['delta_mean'] = all_data_desc_2exp['num_distinct']['mean'] - all_data_desc_distinct_2exp['mean'] \n",
    "print(\"Num Distinct Descriptive Statistics\")\n",
    "print(\"    *delta_mean (positive = less than num_distinct average / required fewer attempts)\")\n",
    "all_data_desc_distinct_2exp = all_data_desc_distinct_2exp.reset_index()\n",
    "all_data_desc_distinct_2exp.head(2)"
   ]
  },
  {
   "cell_type": "code",
   "execution_count": 26,
   "metadata": {},
   "outputs": [
    {
     "name": "stdout",
     "output_type": "stream",
     "text": [
      "Correctness Descriptive Statistics\n",
      "    *delta_mean (positive = less than accuracy average / better accuracy)\n"
     ]
    },
    {
     "data": {
      "text/html": [
       "<div>\n",
       "<style scoped>\n",
       "    .dataframe tbody tr th:only-of-type {\n",
       "        vertical-align: middle;\n",
       "    }\n",
       "\n",
       "    .dataframe tbody tr th {\n",
       "        vertical-align: top;\n",
       "    }\n",
       "\n",
       "    .dataframe thead th {\n",
       "        text-align: right;\n",
       "    }\n",
       "</style>\n",
       "<table border=\"1\" class=\"dataframe\">\n",
       "  <thead>\n",
       "    <tr style=\"text-align: right;\">\n",
       "      <th></th>\n",
       "      <th>question</th>\n",
       "      <th>user_exp</th>\n",
       "      <th>count</th>\n",
       "      <th>mean</th>\n",
       "      <th>std</th>\n",
       "      <th>min</th>\n",
       "      <th>25%</th>\n",
       "      <th>50%</th>\n",
       "      <th>75%</th>\n",
       "      <th>max</th>\n",
       "      <th>delta_mean</th>\n",
       "    </tr>\n",
       "  </thead>\n",
       "  <tbody>\n",
       "    <tr>\n",
       "      <td>0</td>\n",
       "      <td>_unit1_pb1_history.csv</td>\n",
       "      <td>absolutely_none</td>\n",
       "      <td>781.0</td>\n",
       "      <td>0.9923</td>\n",
       "      <td>0.0874</td>\n",
       "      <td>0.0</td>\n",
       "      <td>1.0</td>\n",
       "      <td>1.0</td>\n",
       "      <td>1.0</td>\n",
       "      <td>1.0</td>\n",
       "      <td>0.0329</td>\n",
       "    </tr>\n",
       "    <tr>\n",
       "      <td>1</td>\n",
       "      <td>_unit1_pb1_history.csv</td>\n",
       "      <td>know_programming</td>\n",
       "      <td>2032.0</td>\n",
       "      <td>0.9985</td>\n",
       "      <td>0.0384</td>\n",
       "      <td>0.0</td>\n",
       "      <td>1.0</td>\n",
       "      <td>1.0</td>\n",
       "      <td>1.0</td>\n",
       "      <td>1.0</td>\n",
       "      <td>0.0391</td>\n",
       "    </tr>\n",
       "    <tr>\n",
       "      <td>2</td>\n",
       "      <td>_unit1_pb2_history.csv</td>\n",
       "      <td>absolutely_none</td>\n",
       "      <td>804.0</td>\n",
       "      <td>0.9925</td>\n",
       "      <td>0.0861</td>\n",
       "      <td>0.0</td>\n",
       "      <td>1.0</td>\n",
       "      <td>1.0</td>\n",
       "      <td>1.0</td>\n",
       "      <td>1.0</td>\n",
       "      <td>0.0331</td>\n",
       "    </tr>\n",
       "    <tr>\n",
       "      <td>3</td>\n",
       "      <td>_unit1_pb2_history.csv</td>\n",
       "      <td>know_programming</td>\n",
       "      <td>2114.0</td>\n",
       "      <td>0.9953</td>\n",
       "      <td>0.0686</td>\n",
       "      <td>0.0</td>\n",
       "      <td>1.0</td>\n",
       "      <td>1.0</td>\n",
       "      <td>1.0</td>\n",
       "      <td>1.0</td>\n",
       "      <td>0.0359</td>\n",
       "    </tr>\n",
       "    <tr>\n",
       "      <td>4</td>\n",
       "      <td>_unit1_pb3_history.csv</td>\n",
       "      <td>absolutely_none</td>\n",
       "      <td>778.0</td>\n",
       "      <td>0.9049</td>\n",
       "      <td>0.2936</td>\n",
       "      <td>0.0</td>\n",
       "      <td>1.0</td>\n",
       "      <td>1.0</td>\n",
       "      <td>1.0</td>\n",
       "      <td>1.0</td>\n",
       "      <td>-0.0545</td>\n",
       "    </tr>\n",
       "    <tr>\n",
       "      <td>5</td>\n",
       "      <td>_unit1_pb3_history.csv</td>\n",
       "      <td>know_programming</td>\n",
       "      <td>2063.0</td>\n",
       "      <td>0.9525</td>\n",
       "      <td>0.2128</td>\n",
       "      <td>0.0</td>\n",
       "      <td>1.0</td>\n",
       "      <td>1.0</td>\n",
       "      <td>1.0</td>\n",
       "      <td>1.0</td>\n",
       "      <td>-0.0069</td>\n",
       "    </tr>\n",
       "    <tr>\n",
       "      <td>6</td>\n",
       "      <td>_unit2_pb1_history.csv</td>\n",
       "      <td>absolutely_none</td>\n",
       "      <td>814.0</td>\n",
       "      <td>0.9681</td>\n",
       "      <td>0.1760</td>\n",
       "      <td>0.0</td>\n",
       "      <td>1.0</td>\n",
       "      <td>1.0</td>\n",
       "      <td>1.0</td>\n",
       "      <td>1.0</td>\n",
       "      <td>0.0087</td>\n",
       "    </tr>\n",
       "    <tr>\n",
       "      <td>7</td>\n",
       "      <td>_unit2_pb1_history.csv</td>\n",
       "      <td>know_programming</td>\n",
       "      <td>2130.0</td>\n",
       "      <td>0.9944</td>\n",
       "      <td>0.0749</td>\n",
       "      <td>0.0</td>\n",
       "      <td>1.0</td>\n",
       "      <td>1.0</td>\n",
       "      <td>1.0</td>\n",
       "      <td>1.0</td>\n",
       "      <td>0.0350</td>\n",
       "    </tr>\n",
       "    <tr>\n",
       "      <td>8</td>\n",
       "      <td>_unit2_pb2_history.csv</td>\n",
       "      <td>absolutely_none</td>\n",
       "      <td>803.0</td>\n",
       "      <td>0.9626</td>\n",
       "      <td>0.1898</td>\n",
       "      <td>0.0</td>\n",
       "      <td>1.0</td>\n",
       "      <td>1.0</td>\n",
       "      <td>1.0</td>\n",
       "      <td>1.0</td>\n",
       "      <td>0.0032</td>\n",
       "    </tr>\n",
       "    <tr>\n",
       "      <td>9</td>\n",
       "      <td>_unit2_pb2_history.csv</td>\n",
       "      <td>know_programming</td>\n",
       "      <td>2114.0</td>\n",
       "      <td>0.9820</td>\n",
       "      <td>0.1329</td>\n",
       "      <td>0.0</td>\n",
       "      <td>1.0</td>\n",
       "      <td>1.0</td>\n",
       "      <td>1.0</td>\n",
       "      <td>1.0</td>\n",
       "      <td>0.0226</td>\n",
       "    </tr>\n",
       "    <tr>\n",
       "      <td>10</td>\n",
       "      <td>_unit2_pb3_history.csv</td>\n",
       "      <td>absolutely_none</td>\n",
       "      <td>780.0</td>\n",
       "      <td>0.9795</td>\n",
       "      <td>0.1418</td>\n",
       "      <td>0.0</td>\n",
       "      <td>1.0</td>\n",
       "      <td>1.0</td>\n",
       "      <td>1.0</td>\n",
       "      <td>1.0</td>\n",
       "      <td>0.0201</td>\n",
       "    </tr>\n",
       "    <tr>\n",
       "      <td>11</td>\n",
       "      <td>_unit2_pb3_history.csv</td>\n",
       "      <td>know_programming</td>\n",
       "      <td>2074.0</td>\n",
       "      <td>0.9836</td>\n",
       "      <td>0.1270</td>\n",
       "      <td>0.0</td>\n",
       "      <td>1.0</td>\n",
       "      <td>1.0</td>\n",
       "      <td>1.0</td>\n",
       "      <td>1.0</td>\n",
       "      <td>0.0242</td>\n",
       "    </tr>\n",
       "    <tr>\n",
       "      <td>12</td>\n",
       "      <td>_unit3_pb1_history.csv</td>\n",
       "      <td>absolutely_none</td>\n",
       "      <td>830.0</td>\n",
       "      <td>0.9892</td>\n",
       "      <td>0.1036</td>\n",
       "      <td>0.0</td>\n",
       "      <td>1.0</td>\n",
       "      <td>1.0</td>\n",
       "      <td>1.0</td>\n",
       "      <td>1.0</td>\n",
       "      <td>0.0298</td>\n",
       "    </tr>\n",
       "    <tr>\n",
       "      <td>13</td>\n",
       "      <td>_unit3_pb1_history.csv</td>\n",
       "      <td>know_programming</td>\n",
       "      <td>2160.0</td>\n",
       "      <td>0.9949</td>\n",
       "      <td>0.0712</td>\n",
       "      <td>0.0</td>\n",
       "      <td>1.0</td>\n",
       "      <td>1.0</td>\n",
       "      <td>1.0</td>\n",
       "      <td>1.0</td>\n",
       "      <td>0.0355</td>\n",
       "    </tr>\n",
       "    <tr>\n",
       "      <td>14</td>\n",
       "      <td>_unit3_pb2_history.csv</td>\n",
       "      <td>absolutely_none</td>\n",
       "      <td>828.0</td>\n",
       "      <td>0.9976</td>\n",
       "      <td>0.0491</td>\n",
       "      <td>0.0</td>\n",
       "      <td>1.0</td>\n",
       "      <td>1.0</td>\n",
       "      <td>1.0</td>\n",
       "      <td>1.0</td>\n",
       "      <td>0.0382</td>\n",
       "    </tr>\n",
       "    <tr>\n",
       "      <td>15</td>\n",
       "      <td>_unit3_pb2_history.csv</td>\n",
       "      <td>know_programming</td>\n",
       "      <td>2154.0</td>\n",
       "      <td>0.9958</td>\n",
       "      <td>0.0645</td>\n",
       "      <td>0.0</td>\n",
       "      <td>1.0</td>\n",
       "      <td>1.0</td>\n",
       "      <td>1.0</td>\n",
       "      <td>1.0</td>\n",
       "      <td>0.0364</td>\n",
       "    </tr>\n",
       "    <tr>\n",
       "      <td>16</td>\n",
       "      <td>_unit3_pb3_history.csv</td>\n",
       "      <td>absolutely_none</td>\n",
       "      <td>826.0</td>\n",
       "      <td>0.9939</td>\n",
       "      <td>0.0776</td>\n",
       "      <td>0.0</td>\n",
       "      <td>1.0</td>\n",
       "      <td>1.0</td>\n",
       "      <td>1.0</td>\n",
       "      <td>1.0</td>\n",
       "      <td>0.0345</td>\n",
       "    </tr>\n",
       "    <tr>\n",
       "      <td>17</td>\n",
       "      <td>_unit3_pb3_history.csv</td>\n",
       "      <td>know_programming</td>\n",
       "      <td>2152.0</td>\n",
       "      <td>0.9972</td>\n",
       "      <td>0.0527</td>\n",
       "      <td>0.0</td>\n",
       "      <td>1.0</td>\n",
       "      <td>1.0</td>\n",
       "      <td>1.0</td>\n",
       "      <td>1.0</td>\n",
       "      <td>0.0378</td>\n",
       "    </tr>\n",
       "    <tr>\n",
       "      <td>18</td>\n",
       "      <td>_unit3_pb4_history.csv</td>\n",
       "      <td>absolutely_none</td>\n",
       "      <td>811.0</td>\n",
       "      <td>0.8952</td>\n",
       "      <td>0.3065</td>\n",
       "      <td>0.0</td>\n",
       "      <td>1.0</td>\n",
       "      <td>1.0</td>\n",
       "      <td>1.0</td>\n",
       "      <td>1.0</td>\n",
       "      <td>-0.0642</td>\n",
       "    </tr>\n",
       "    <tr>\n",
       "      <td>19</td>\n",
       "      <td>_unit3_pb4_history.csv</td>\n",
       "      <td>know_programming</td>\n",
       "      <td>2126.0</td>\n",
       "      <td>0.9440</td>\n",
       "      <td>0.2299</td>\n",
       "      <td>0.0</td>\n",
       "      <td>1.0</td>\n",
       "      <td>1.0</td>\n",
       "      <td>1.0</td>\n",
       "      <td>1.0</td>\n",
       "      <td>-0.0154</td>\n",
       "    </tr>\n",
       "    <tr>\n",
       "      <td>20</td>\n",
       "      <td>_unit4_pb1_history.csv</td>\n",
       "      <td>absolutely_none</td>\n",
       "      <td>819.0</td>\n",
       "      <td>0.9976</td>\n",
       "      <td>0.0494</td>\n",
       "      <td>0.0</td>\n",
       "      <td>1.0</td>\n",
       "      <td>1.0</td>\n",
       "      <td>1.0</td>\n",
       "      <td>1.0</td>\n",
       "      <td>0.0382</td>\n",
       "    </tr>\n",
       "    <tr>\n",
       "      <td>21</td>\n",
       "      <td>_unit4_pb1_history.csv</td>\n",
       "      <td>know_programming</td>\n",
       "      <td>2154.0</td>\n",
       "      <td>0.9981</td>\n",
       "      <td>0.0431</td>\n",
       "      <td>0.0</td>\n",
       "      <td>1.0</td>\n",
       "      <td>1.0</td>\n",
       "      <td>1.0</td>\n",
       "      <td>1.0</td>\n",
       "      <td>0.0387</td>\n",
       "    </tr>\n",
       "    <tr>\n",
       "      <td>22</td>\n",
       "      <td>_unit4_pb2_history.csv</td>\n",
       "      <td>absolutely_none</td>\n",
       "      <td>813.0</td>\n",
       "      <td>0.9938</td>\n",
       "      <td>0.0782</td>\n",
       "      <td>0.0</td>\n",
       "      <td>1.0</td>\n",
       "      <td>1.0</td>\n",
       "      <td>1.0</td>\n",
       "      <td>1.0</td>\n",
       "      <td>0.0344</td>\n",
       "    </tr>\n",
       "    <tr>\n",
       "      <td>23</td>\n",
       "      <td>_unit4_pb2_history.csv</td>\n",
       "      <td>know_programming</td>\n",
       "      <td>2143.0</td>\n",
       "      <td>0.9953</td>\n",
       "      <td>0.0682</td>\n",
       "      <td>0.0</td>\n",
       "      <td>1.0</td>\n",
       "      <td>1.0</td>\n",
       "      <td>1.0</td>\n",
       "      <td>1.0</td>\n",
       "      <td>0.0359</td>\n",
       "    </tr>\n",
       "    <tr>\n",
       "      <td>24</td>\n",
       "      <td>_unit4_pb3_history.csv</td>\n",
       "      <td>absolutely_none</td>\n",
       "      <td>807.0</td>\n",
       "      <td>0.9616</td>\n",
       "      <td>0.1923</td>\n",
       "      <td>0.0</td>\n",
       "      <td>1.0</td>\n",
       "      <td>1.0</td>\n",
       "      <td>1.0</td>\n",
       "      <td>1.0</td>\n",
       "      <td>0.0022</td>\n",
       "    </tr>\n",
       "    <tr>\n",
       "      <td>25</td>\n",
       "      <td>_unit4_pb3_history.csv</td>\n",
       "      <td>know_programming</td>\n",
       "      <td>2139.0</td>\n",
       "      <td>0.9719</td>\n",
       "      <td>0.1652</td>\n",
       "      <td>0.0</td>\n",
       "      <td>1.0</td>\n",
       "      <td>1.0</td>\n",
       "      <td>1.0</td>\n",
       "      <td>1.0</td>\n",
       "      <td>0.0125</td>\n",
       "    </tr>\n",
       "    <tr>\n",
       "      <td>26</td>\n",
       "      <td>_unit4_pb4_history.csv</td>\n",
       "      <td>absolutely_none</td>\n",
       "      <td>811.0</td>\n",
       "      <td>0.9963</td>\n",
       "      <td>0.0607</td>\n",
       "      <td>0.0</td>\n",
       "      <td>1.0</td>\n",
       "      <td>1.0</td>\n",
       "      <td>1.0</td>\n",
       "      <td>1.0</td>\n",
       "      <td>0.0369</td>\n",
       "    </tr>\n",
       "    <tr>\n",
       "      <td>27</td>\n",
       "      <td>_unit4_pb4_history.csv</td>\n",
       "      <td>know_programming</td>\n",
       "      <td>2137.0</td>\n",
       "      <td>0.9986</td>\n",
       "      <td>0.0375</td>\n",
       "      <td>0.0</td>\n",
       "      <td>1.0</td>\n",
       "      <td>1.0</td>\n",
       "      <td>1.0</td>\n",
       "      <td>1.0</td>\n",
       "      <td>0.0392</td>\n",
       "    </tr>\n",
       "    <tr>\n",
       "      <td>28</td>\n",
       "      <td>_unit4_pb5_history.csv</td>\n",
       "      <td>absolutely_none</td>\n",
       "      <td>798.0</td>\n",
       "      <td>0.8571</td>\n",
       "      <td>0.3501</td>\n",
       "      <td>0.0</td>\n",
       "      <td>1.0</td>\n",
       "      <td>1.0</td>\n",
       "      <td>1.0</td>\n",
       "      <td>1.0</td>\n",
       "      <td>-0.1023</td>\n",
       "    </tr>\n",
       "    <tr>\n",
       "      <td>29</td>\n",
       "      <td>_unit4_pb5_history.csv</td>\n",
       "      <td>know_programming</td>\n",
       "      <td>2109.0</td>\n",
       "      <td>0.9275</td>\n",
       "      <td>0.2595</td>\n",
       "      <td>0.0</td>\n",
       "      <td>1.0</td>\n",
       "      <td>1.0</td>\n",
       "      <td>1.0</td>\n",
       "      <td>1.0</td>\n",
       "      <td>-0.0319</td>\n",
       "    </tr>\n",
       "  </tbody>\n",
       "</table>\n",
       "</div>"
      ],
      "text/plain": [
       "                  question          user_exp   count    mean     std  min  \\\n",
       "0   _unit1_pb1_history.csv   absolutely_none   781.0  0.9923  0.0874  0.0   \n",
       "1   _unit1_pb1_history.csv  know_programming  2032.0  0.9985  0.0384  0.0   \n",
       "2   _unit1_pb2_history.csv   absolutely_none   804.0  0.9925  0.0861  0.0   \n",
       "3   _unit1_pb2_history.csv  know_programming  2114.0  0.9953  0.0686  0.0   \n",
       "4   _unit1_pb3_history.csv   absolutely_none   778.0  0.9049  0.2936  0.0   \n",
       "5   _unit1_pb3_history.csv  know_programming  2063.0  0.9525  0.2128  0.0   \n",
       "6   _unit2_pb1_history.csv   absolutely_none   814.0  0.9681  0.1760  0.0   \n",
       "7   _unit2_pb1_history.csv  know_programming  2130.0  0.9944  0.0749  0.0   \n",
       "8   _unit2_pb2_history.csv   absolutely_none   803.0  0.9626  0.1898  0.0   \n",
       "9   _unit2_pb2_history.csv  know_programming  2114.0  0.9820  0.1329  0.0   \n",
       "10  _unit2_pb3_history.csv   absolutely_none   780.0  0.9795  0.1418  0.0   \n",
       "11  _unit2_pb3_history.csv  know_programming  2074.0  0.9836  0.1270  0.0   \n",
       "12  _unit3_pb1_history.csv   absolutely_none   830.0  0.9892  0.1036  0.0   \n",
       "13  _unit3_pb1_history.csv  know_programming  2160.0  0.9949  0.0712  0.0   \n",
       "14  _unit3_pb2_history.csv   absolutely_none   828.0  0.9976  0.0491  0.0   \n",
       "15  _unit3_pb2_history.csv  know_programming  2154.0  0.9958  0.0645  0.0   \n",
       "16  _unit3_pb3_history.csv   absolutely_none   826.0  0.9939  0.0776  0.0   \n",
       "17  _unit3_pb3_history.csv  know_programming  2152.0  0.9972  0.0527  0.0   \n",
       "18  _unit3_pb4_history.csv   absolutely_none   811.0  0.8952  0.3065  0.0   \n",
       "19  _unit3_pb4_history.csv  know_programming  2126.0  0.9440  0.2299  0.0   \n",
       "20  _unit4_pb1_history.csv   absolutely_none   819.0  0.9976  0.0494  0.0   \n",
       "21  _unit4_pb1_history.csv  know_programming  2154.0  0.9981  0.0431  0.0   \n",
       "22  _unit4_pb2_history.csv   absolutely_none   813.0  0.9938  0.0782  0.0   \n",
       "23  _unit4_pb2_history.csv  know_programming  2143.0  0.9953  0.0682  0.0   \n",
       "24  _unit4_pb3_history.csv   absolutely_none   807.0  0.9616  0.1923  0.0   \n",
       "25  _unit4_pb3_history.csv  know_programming  2139.0  0.9719  0.1652  0.0   \n",
       "26  _unit4_pb4_history.csv   absolutely_none   811.0  0.9963  0.0607  0.0   \n",
       "27  _unit4_pb4_history.csv  know_programming  2137.0  0.9986  0.0375  0.0   \n",
       "28  _unit4_pb5_history.csv   absolutely_none   798.0  0.8571  0.3501  0.0   \n",
       "29  _unit4_pb5_history.csv  know_programming  2109.0  0.9275  0.2595  0.0   \n",
       "\n",
       "    25%  50%  75%  max  delta_mean  \n",
       "0   1.0  1.0  1.0  1.0      0.0329  \n",
       "1   1.0  1.0  1.0  1.0      0.0391  \n",
       "2   1.0  1.0  1.0  1.0      0.0331  \n",
       "3   1.0  1.0  1.0  1.0      0.0359  \n",
       "4   1.0  1.0  1.0  1.0     -0.0545  \n",
       "5   1.0  1.0  1.0  1.0     -0.0069  \n",
       "6   1.0  1.0  1.0  1.0      0.0087  \n",
       "7   1.0  1.0  1.0  1.0      0.0350  \n",
       "8   1.0  1.0  1.0  1.0      0.0032  \n",
       "9   1.0  1.0  1.0  1.0      0.0226  \n",
       "10  1.0  1.0  1.0  1.0      0.0201  \n",
       "11  1.0  1.0  1.0  1.0      0.0242  \n",
       "12  1.0  1.0  1.0  1.0      0.0298  \n",
       "13  1.0  1.0  1.0  1.0      0.0355  \n",
       "14  1.0  1.0  1.0  1.0      0.0382  \n",
       "15  1.0  1.0  1.0  1.0      0.0364  \n",
       "16  1.0  1.0  1.0  1.0      0.0345  \n",
       "17  1.0  1.0  1.0  1.0      0.0378  \n",
       "18  1.0  1.0  1.0  1.0     -0.0642  \n",
       "19  1.0  1.0  1.0  1.0     -0.0154  \n",
       "20  1.0  1.0  1.0  1.0      0.0382  \n",
       "21  1.0  1.0  1.0  1.0      0.0387  \n",
       "22  1.0  1.0  1.0  1.0      0.0344  \n",
       "23  1.0  1.0  1.0  1.0      0.0359  \n",
       "24  1.0  1.0  1.0  1.0      0.0022  \n",
       "25  1.0  1.0  1.0  1.0      0.0125  \n",
       "26  1.0  1.0  1.0  1.0      0.0369  \n",
       "27  1.0  1.0  1.0  1.0      0.0392  \n",
       "28  1.0  1.0  1.0  1.0     -0.1023  \n",
       "29  1.0  1.0  1.0  1.0     -0.0319  "
      ]
     },
     "execution_count": 26,
     "metadata": {},
     "output_type": "execute_result"
    }
   ],
   "source": [
    "#descriptive statistics for correctness (2EXP)\n",
    "\n",
    "all_data_desc_correct_2exp['delta_mean'] = all_data_desc_correct_2exp['mean'] - all_data_desc_2exp['final_correct_bool']['mean']\n",
    "print(\"Correctness Descriptive Statistics\")\n",
    "print(\"    *delta_mean (positive = less than accuracy average / better accuracy)\")\n",
    "all_data_desc_correct_2exp = all_data_desc_correct_2exp.reset_index()\n",
    "all_data_desc_correct_2exp.head(30)"
   ]
  },
  {
   "cell_type": "code",
   "execution_count": 27,
   "metadata": {},
   "outputs": [
    {
     "name": "stdout",
     "output_type": "stream",
     "text": [
      "    *delta_mean (positive = less than num_distinct average / required fewer attempts)\n"
     ]
    },
    {
     "data": {
      "text/plain": [
       "<Figure size 1080x720 with 0 Axes>"
      ]
     },
     "metadata": {},
     "output_type": "display_data"
    },
    {
     "data": {
      "image/png": "[encoded data removed]",
      "text/plain": [
       "<Figure size 855.125x360 with 1 Axes>"
      ]
     },
     "metadata": {
      "needs_background": "light"
     },
     "output_type": "display_data"
    }
   ],
   "source": [
    "print(\"    *delta_mean (positive = less than num_distinct average / required fewer attempts)\")\n",
    "plt.figure(figsize=(15,10))\n",
    "\n",
    "sns.catplot(x = 'delta_mean', y = 'question', hue = 'user_exp', \n",
    "            data = all_data_desc_distinct_2exp, kind = \"bar\", legend = True, aspect = 2)\n",
    "plt.title(\"Distance From Mean Per Question (Distinct Attempts) 2EXP\", fontsize = 14)\n",
    "plt.xlabel('delta_mean', fontsize=13)\n",
    "plt.ylabel('question', fontsize=13)\n",
    "plt.xlim(-5,5)\n",
    "plt.xticks(\n",
    "    rotation=45, \n",
    "    horizontalalignment='right',\n",
    "    fontsize='large'  \n",
    ")\n",
    "\n",
    "plt.show()"
   ]
  },
  {
   "cell_type": "code",
   "execution_count": 28,
   "metadata": {},
   "outputs": [
    {
     "name": "stdout",
     "output_type": "stream",
     "text": [
      "    *delta_mean (negative = greater than accuracy average / worse accuracy)\n"
     ]
    },
    {
     "data": {
      "text/plain": [
       "<Figure size 1080x720 with 0 Axes>"
      ]
     },
     "metadata": {},
     "output_type": "display_data"
    },
    {
     "data": {
      "image/png": "[encoded data removed]",
      "text/plain": [
       "<Figure size 855.125x360 with 1 Axes>"
      ]
     },
     "metadata": {
      "needs_background": "light"
     },
     "output_type": "display_data"
    }
   ],
   "source": [
    "print(\"    *delta_mean (negative = greater than accuracy average / worse accuracy)\")\n",
    "plt.figure(figsize=(15,10))\n",
    "\n",
    "sns.catplot(x = 'delta_mean', y = 'question', hue = 'user_exp', \n",
    "            data = all_data_desc_correct_2exp, kind = \"bar\", legend = True, aspect = 2)\n",
    "plt.title(\"Distance From Mean Per Question (Accuracy) 2EXP\", fontsize = 14)\n",
    "plt.xlabel('delta_mean', fontsize=13)\n",
    "plt.ylabel('question', fontsize=13)\n",
    "plt.xlim(-.15,.05)\n",
    "plt.xticks(\n",
    "    rotation=45, \n",
    "    horizontalalignment='right',\n",
    "    fontsize='large'  \n",
    ")\n",
    "\n",
    "plt.show()"
   ]
  },
  {
   "cell_type": "markdown",
   "metadata": {},
   "source": [
    "# Significance Tests!"
   ]
  }
 ],
 "metadata": {
  "kernelspec": {
   "display_name": "Python 3",
   "language": "python",
   "name": "python3"
  },
  "language_info": {
   "codemirror_mode": {
    "name": "ipython",
    "version": 3
   },
   "file_extension": ".py",
   "mimetype": "text/x-python",
   "name": "python",
   "nbconvert_exporter": "python",
   "pygments_lexer": "ipython3",
   "version": "3.7.4"
  }
 },
 "nbformat": 4,
 "nbformat_minor": 2
}
